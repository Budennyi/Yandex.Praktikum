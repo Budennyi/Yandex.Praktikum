{
 "cells": [
  {
   "cell_type": "markdown",
   "metadata": {},
   "source": [
    "## Описание проекта\n",
    "\n",
    "**Анализ поведения пользователей мобильного приложения**\n",
    "\n",
    "Мы работаем в стартапе, который продаёт продукты питания. Нужно разобраться, как ведут себя пользователи нашего мобильного приложения.\n",
    "\n",
    "- Изучение воронки продаж.\n",
    "- Как пользователи доходят до покупки.\n",
    "- Сколько пользователей доходит до покупки, а сколько — «застревает» на предыдущих шагах?\n",
    "- На каких именно?\n",
    "\n",
    "**Исследование результатов A/A/B-эксперимента.**\n",
    "\n",
    "Дизайнеры захотели поменять шрифты во всём приложении, а менеджеры испугались, что пользователям будет непривычно. Договорились принять решение по результатам A/A/B-теста. Пользователей разбили на 3 группы: 2 контрольные со старыми шрифтами и одну экспериментальную — с новыми.\n",
    "\n",
    "- Выясним, какой шрифт лучше.\n",
    "\n",
    "## <a href='#Шаг 1'> Шаг 1. Изучение общей информации</a>\n",
    "\n",
    "\n",
    "## <a href='#Шаг 2'>Шаг 2. Подготовка данных</a>\n",
    "21. Замена названия столбцов на удобные;\n",
    "22. Проверка пропусков и типов данных;\n",
    "23. Добавление столбцов даты и времени, а также отдельный столбец дат;\n",
    "24. **Промежуточный вывод**\n",
    "\n",
    "## <a href='#Шаг 3'>Шаг 3. Изучение и проверка данных</a>\n",
    "31. Сколько всего событий в логе?\n",
    "32. Сколько всего пользователей в логе?\n",
    "33. Сколько в среднем событий приходится на пользователя?\n",
    "34. Данными за какой период мы располагаем? Найдем максимальную и минимальную дату. Построение гистограммы по дате и времени. Можно ли быть уверенным, что у нас одинаково полные данные за весь период? Определеним, с какого момента данные полные и отбросим более старые. Данными за какой период времени мы располагаем на самом деле?\n",
    "35. Много ли событий и пользователей мы потеряли, отбросив старые данные?\n",
    "36. Проверим, что у нас есть пользователи из всех трёх экспериментальных групп\n",
    "37. **Промежуточный вывод**\n",
    "\n",
    "## <a href='#Шаг 4'>Шаг 4. Изучение воронки событий</a>\n",
    "41. Посмотрим, какие события есть в логах, как часто они встречаются. Отсортирем события по частоте.\n",
    "42. Посчитаем, сколько пользователей совершали каждое из этих событий. Отсортием события по числу пользователей. Посчитаем долю пользователей, которые хоть раз совершали событие.\n",
    "43. Предположим, в каком порядке происходят события. Все ли они выстраиваются в последовательную цепочку? Какие данные не нужно учитывать при расчёте воронки.\n",
    "44. По воронке событий посчитаем, какая доля пользователей проходит на следующий шаг воронки\n",
    "45. На каком шаге мы теряем больше всего пользователей?\n",
    "46. Какая доля пользователей доходит от первого события до оплаты?\n",
    "47. **Промежуточный вывод**\n",
    "\n",
    "## <a href='#Шаг 5'>Шаг 5. Изучение результатов эксперимента</a>\n",
    "51. Сколько пользователей в каждой экспериментальной группе?\n",
    "52. Есть 2 контрольные группы для А/А-эксперимента, чтобы проверить корректность всех механизмов и расчётов. Проверим, находят ли статистические критерии разницу между выборками 246 и 247.\n",
    "53. Посчитаем число пользователей, совершивших это событие в каждой из контрольных групп. Посчитаем долю пользователей, совершивших это событие. Проверим, будет ли отличие между группами статистически достоверным. Можем ли сказать, что разбиение на группы работает корректно?\n",
    "54. Аналогично поступим с группой с изменённым шрифтом. Сравним результаты с каждой из контрольных групп в отдельности по каждому событию. Сравним результаты с объединённой контрольной группой. Какие выводы из эксперимента можем сделать?\n",
    "\n",
    "## <a href='#Шаг 6'>Шаг 6. Общий вывод</a>"
   ]
  },
  {
   "cell_type": "markdown",
   "metadata": {},
   "source": [
    "<a id='Шаг 1'></a>\n",
    "##  Шаг 1. Изучение общей информации\n",
    "\n",
    "Каждая запись в логе — это действие пользователя, или событие.\n",
    "- **EventName** — название события;\n",
    "- **DeviceIDHash** — уникальный идентификатор пользователя;\n",
    "- **EventTimestamp** — время события;\n",
    "- **ExpId** — номер эксперимента: 246 и 247 — контрольные группы, а 248 — экспериментальная."
   ]
  },
  {
   "cell_type": "code",
   "execution_count": 1,
   "metadata": {},
   "outputs": [],
   "source": [
    "# Необходимые библиотеки для исследования \n",
    "import pandas as pd\n",
    "import numpy as np\n",
    "from scipy import stats as st\n",
    "import math as mth\n",
    "\n",
    "import matplotlib.pyplot as plt\n",
    "%matplotlib inline\n",
    "import seaborn as sns\n",
    "import plotly.express as px\n",
    "\n",
    "pd.options.display.max_colwidth = -1\n",
    "\n",
    "from pandas.plotting import register_matplotlib_converters\n",
    "register_matplotlib_converters()"
   ]
  },
  {
   "cell_type": "code",
   "execution_count": 2,
   "metadata": {},
   "outputs": [
    {
     "data": {
      "text/html": [
       "<div>\n",
       "<style scoped>\n",
       "    .dataframe tbody tr th:only-of-type {\n",
       "        vertical-align: middle;\n",
       "    }\n",
       "\n",
       "    .dataframe tbody tr th {\n",
       "        vertical-align: top;\n",
       "    }\n",
       "\n",
       "    .dataframe thead th {\n",
       "        text-align: right;\n",
       "    }\n",
       "</style>\n",
       "<table border=\"1\" class=\"dataframe\">\n",
       "  <thead>\n",
       "    <tr style=\"text-align: right;\">\n",
       "      <th></th>\n",
       "      <th>EventName</th>\n",
       "      <th>DeviceIDHash</th>\n",
       "      <th>EventTimestamp</th>\n",
       "      <th>ExpId</th>\n",
       "    </tr>\n",
       "  </thead>\n",
       "  <tbody>\n",
       "    <tr>\n",
       "      <td>45724</td>\n",
       "      <td>MainScreenAppear</td>\n",
       "      <td>8404240563510634678</td>\n",
       "      <td>1564730388</td>\n",
       "      <td>248</td>\n",
       "    </tr>\n",
       "    <tr>\n",
       "      <td>204531</td>\n",
       "      <td>MainScreenAppear</td>\n",
       "      <td>2557371464585545805</td>\n",
       "      <td>1565110435</td>\n",
       "      <td>246</td>\n",
       "    </tr>\n",
       "    <tr>\n",
       "      <td>188762</td>\n",
       "      <td>MainScreenAppear</td>\n",
       "      <td>1521378294033734650</td>\n",
       "      <td>1565085485</td>\n",
       "      <td>247</td>\n",
       "    </tr>\n",
       "    <tr>\n",
       "      <td>233928</td>\n",
       "      <td>PaymentScreenSuccessful</td>\n",
       "      <td>2405654768956009727</td>\n",
       "      <td>1565191389</td>\n",
       "      <td>248</td>\n",
       "    </tr>\n",
       "    <tr>\n",
       "      <td>21091</td>\n",
       "      <td>CartScreenAppear</td>\n",
       "      <td>3886564097555913607</td>\n",
       "      <td>1564665738</td>\n",
       "      <td>248</td>\n",
       "    </tr>\n",
       "  </tbody>\n",
       "</table>\n",
       "</div>"
      ],
      "text/plain": [
       "                      EventName         DeviceIDHash  EventTimestamp  ExpId\n",
       "45724   MainScreenAppear         8404240563510634678  1564730388      248  \n",
       "204531  MainScreenAppear         2557371464585545805  1565110435      246  \n",
       "188762  MainScreenAppear         1521378294033734650  1565085485      247  \n",
       "233928  PaymentScreenSuccessful  2405654768956009727  1565191389      248  \n",
       "21091   CartScreenAppear         3886564097555913607  1564665738      248  "
      ]
     },
     "execution_count": 2,
     "metadata": {},
     "output_type": "execute_result"
    }
   ],
   "source": [
    "prd = pd.read_csv('/datasets/logs_exp.csv', sep = '\\t')\n",
    "prd.sample(5)"
   ]
  },
  {
   "cell_type": "code",
   "execution_count": 3,
   "metadata": {},
   "outputs": [
    {
     "name": "stdout",
     "output_type": "stream",
     "text": [
      "<class 'pandas.core.frame.DataFrame'>\n",
      "RangeIndex: 244126 entries, 0 to 244125\n",
      "Data columns (total 4 columns):\n",
      "EventName         244126 non-null object\n",
      "DeviceIDHash      244126 non-null int64\n",
      "EventTimestamp    244126 non-null int64\n",
      "ExpId             244126 non-null int64\n",
      "dtypes: int64(3), object(1)\n",
      "memory usage: 7.5+ MB\n"
     ]
    }
   ],
   "source": [
    "prd.info()"
   ]
  },
  {
   "cell_type": "code",
   "execution_count": 4,
   "metadata": {},
   "outputs": [
    {
     "data": {
      "text/plain": [
       "MainScreenAppear           119205\n",
       "OffersScreenAppear         46825 \n",
       "CartScreenAppear           42731 \n",
       "PaymentScreenSuccessful    34313 \n",
       "Tutorial                   1052  \n",
       "Name: EventName, dtype: int64"
      ]
     },
     "execution_count": 4,
     "metadata": {},
     "output_type": "execute_result"
    }
   ],
   "source": [
    "prd['EventName'].value_counts()"
   ]
  },
  {
   "cell_type": "code",
   "execution_count": 5,
   "metadata": {},
   "outputs": [
    {
     "data": {
      "text/plain": [
       "248    0.336644\n",
       "247    0.333731\n",
       "246    0.329625\n",
       "Name: ExpId, dtype: float64"
      ]
     },
     "execution_count": 5,
     "metadata": {},
     "output_type": "execute_result"
    }
   ],
   "source": [
    "prd.groupby('DeviceIDHash')['ExpId'].max().value_counts(normalize = True)"
   ]
  },
  {
   "cell_type": "code",
   "execution_count": 6,
   "metadata": {},
   "outputs": [
    {
     "data": {
      "text/plain": [
       "7551"
      ]
     },
     "execution_count": 6,
     "metadata": {},
     "output_type": "execute_result"
    }
   ],
   "source": [
    "prd['DeviceIDHash'].nunique()"
   ]
  },
  {
   "cell_type": "markdown",
   "metadata": {},
   "source": [
    "#### Промежуточный вывод:\n",
    "- Заменим названия столбцов\n",
    "- Заменим название событий, уж больно длинные и \"camel\" не для нас )\n",
    "- Данные заполнены верно, пропусков нет\n",
    "- Переведем столбец EventTimestamp из unix time в привычный формат\n",
    "- Группы распределены практически ровно между пользователями\n",
    "- Всего 7551 уникальный пользователь, 5 событий и 3 группы"
   ]
  },
  {
   "cell_type": "markdown",
   "metadata": {},
   "source": [
    "<a id='Шаг 2'></a>\n",
    "## Шаг 2. Подготовка данных"
   ]
  },
  {
   "cell_type": "markdown",
   "metadata": {},
   "source": [
    "#### 21. Заменим названия столбцов на удобные для нас"
   ]
  },
  {
   "cell_type": "code",
   "execution_count": 7,
   "metadata": {},
   "outputs": [],
   "source": [
    "prd.columns = ['event','id','unix_date','group']"
   ]
  },
  {
   "cell_type": "markdown",
   "metadata": {},
   "source": [
    "Для удобства переименуем названия событий тоже"
   ]
  },
  {
   "cell_type": "code",
   "execution_count": 8,
   "metadata": {},
   "outputs": [],
   "source": [
    "prd['event'] = prd['event'].str.replace('ScreenAppear', '').str.replace('ScreenSuccessful', '')"
   ]
  },
  {
   "cell_type": "markdown",
   "metadata": {},
   "source": [
    "#### 22. Проверим пропуски и типы данных."
   ]
  },
  {
   "cell_type": "markdown",
   "metadata": {},
   "source": [
    "Проверим на принадлежность пользователей более, чем к одной группе."
   ]
  },
  {
   "cell_type": "code",
   "execution_count": 9,
   "metadata": {},
   "outputs": [
    {
     "data": {
      "text/plain": [
       "0"
      ]
     },
     "execution_count": 9,
     "metadata": {},
     "output_type": "execute_result"
    }
   ],
   "source": [
    "(prd.groupby('id')['group'].nunique().sort_values() > 1).sum()"
   ]
  },
  {
   "cell_type": "code",
   "execution_count": 10,
   "metadata": {},
   "outputs": [
    {
     "name": "stdout",
     "output_type": "stream",
     "text": [
      "<class 'pandas.core.frame.DataFrame'>\n",
      "RangeIndex: 244126 entries, 0 to 244125\n",
      "Data columns (total 4 columns):\n",
      "event        244126 non-null object\n",
      "id           244126 non-null int64\n",
      "unix_date    244126 non-null int64\n",
      "group        244126 non-null int64\n",
      "dtypes: int64(3), object(1)\n",
      "memory usage: 7.5+ MB\n"
     ]
    }
   ],
   "source": [
    "prd.info()"
   ]
  },
  {
   "cell_type": "markdown",
   "metadata": {},
   "source": [
    "#### 23. Добавим столбец даты и времени, а также отдельный столбец дат"
   ]
  },
  {
   "cell_type": "markdown",
   "metadata": {},
   "source": [
    "Переведем столбец EventTimestamp из unix time в привычный формат"
   ]
  },
  {
   "cell_type": "code",
   "execution_count": 11,
   "metadata": {},
   "outputs": [
    {
     "name": "stdout",
     "output_type": "stream",
     "text": [
      "<class 'pandas.core.frame.DataFrame'>\n",
      "RangeIndex: 244126 entries, 0 to 244125\n",
      "Data columns (total 6 columns):\n",
      "event        244126 non-null object\n",
      "id           244126 non-null int64\n",
      "unix_date    244126 non-null int64\n",
      "group        244126 non-null int64\n",
      "datetime     244126 non-null datetime64[ns]\n",
      "date         244126 non-null object\n",
      "dtypes: datetime64[ns](1), int64(3), object(2)\n",
      "memory usage: 11.2+ MB\n"
     ]
    }
   ],
   "source": [
    "prd['datetime'] = pd.to_datetime(prd['unix_date'], unit='s')\n",
    "prd['date'] = prd['datetime'].dt.date\n",
    "prd.info()"
   ]
  },
  {
   "cell_type": "markdown",
   "metadata": {},
   "source": [
    "#### 24. Промежуточный вывод\n",
    "\n",
    "- Изменили названия столбцов\n",
    "- Изменили названия событий \n",
    "- Проверили данные на наличие пропусков\n",
    "- Проверили пользователей на принадлежность более, чем к одной группе\n",
    "- Перевели unix time в привычный формат даты\n",
    "- Добавили столбец с датой"
   ]
  },
  {
   "cell_type": "markdown",
   "metadata": {},
   "source": [
    "<a id='Шаг 3'></a>\n",
    "## Шаг 3. Изучим и проверим данные"
   ]
  },
  {
   "cell_type": "markdown",
   "metadata": {},
   "source": [
    "#### 31. Сколько всего событий в логе?"
   ]
  },
  {
   "cell_type": "code",
   "execution_count": 12,
   "metadata": {},
   "outputs": [
    {
     "data": {
      "text/plain": [
       "244126"
      ]
     },
     "execution_count": 12,
     "metadata": {},
     "output_type": "execute_result"
    }
   ],
   "source": [
    "len(prd)"
   ]
  },
  {
   "cell_type": "markdown",
   "metadata": {},
   "source": [
    "#### 32. Сколько всего пользователей в логе?"
   ]
  },
  {
   "cell_type": "code",
   "execution_count": 13,
   "metadata": {},
   "outputs": [
    {
     "data": {
      "text/plain": [
       "7551"
      ]
     },
     "execution_count": 13,
     "metadata": {},
     "output_type": "execute_result"
    }
   ],
   "source": [
    "prd['id'].nunique()"
   ]
  },
  {
   "cell_type": "markdown",
   "metadata": {},
   "source": [
    "#### 33. Сколько в среднем событий приходится на пользователя?"
   ]
  },
  {
   "cell_type": "code",
   "execution_count": 14,
   "metadata": {},
   "outputs": [
    {
     "data": {
      "text/plain": [
       "32.33028737915508"
      ]
     },
     "execution_count": 14,
     "metadata": {},
     "output_type": "execute_result"
    }
   ],
   "source": [
    "len(prd) / prd['id'].nunique()"
   ]
  },
  {
   "cell_type": "markdown",
   "metadata": {},
   "source": [
    "Посмотрим, из каких событий состоит их среднее количество"
   ]
  },
  {
   "cell_type": "code",
   "execution_count": 15,
   "metadata": {},
   "outputs": [
    {
     "data": {
      "text/plain": [
       "event\n",
       "Tutorial    0.0 \n",
       "Payment     5.0 \n",
       "Cart        6.0 \n",
       "Offers      6.0 \n",
       "Main        16.0\n",
       "Name: id, dtype: float64"
      ]
     },
     "execution_count": 15,
     "metadata": {},
     "output_type": "execute_result"
    }
   ],
   "source": [
    "(prd.groupby('event')['id'].count()/prd['id'].nunique()).round().sort_values()"
   ]
  },
  {
   "cell_type": "markdown",
   "metadata": {},
   "source": [
    "#### 34. Данными за какой период мы располагаем?"
   ]
  },
  {
   "cell_type": "markdown",
   "metadata": {},
   "source": [
    "Найдем максимальную и минимальную дату. Данными за какой период времени мы располагаем на самом деле?"
   ]
  },
  {
   "cell_type": "code",
   "execution_count": 16,
   "metadata": {},
   "outputs": [
    {
     "name": "stdout",
     "output_type": "stream",
     "text": [
      "min date: 2019-07-25\n",
      "max date: 2019-08-07\n"
     ]
    }
   ],
   "source": [
    "print('min date:',prd['date'].min())\n",
    "print('max date:',prd['date'].max())"
   ]
  },
  {
   "cell_type": "markdown",
   "metadata": {},
   "source": [
    "На первый взгляд мы располагаем данными почти за две недели"
   ]
  },
  {
   "cell_type": "code",
   "execution_count": 17,
   "metadata": {},
   "outputs": [
    {
     "data": {
      "text/plain": [
       "<matplotlib.axes._subplots.AxesSubplot at 0x7f73a868c950>"
      ]
     },
     "execution_count": 17,
     "metadata": {},
     "output_type": "execute_result"
    },
    {
     "data": {
      "image/png": "[encoded data removed]",
      "text/plain": [
       "<Figure size 1440x576 with 1 Axes>"
      ]
     },
     "metadata": {
      "needs_background": "light"
     },
     "output_type": "display_data"
    }
   ],
   "source": [
    "plt.figure(figsize=(20, 8))\n",
    "plt.title('Datetime Hist', fontsize=18)\n",
    "plt.grid()\n",
    "prd['datetime'].hist(bins = 100)"
   ]
  },
  {
   "cell_type": "markdown",
   "metadata": {},
   "source": [
    "На графике видим, что на самом деле мы распологаем полными данными только с 2019-08-01. Объяснения для такого резкого скачка могут быть следующими:\n",
    "    - увеличение затрат на маркетинг (поисковые запросы, инстаграм,  youtube)\n",
    "    - запуск мобильного приложения (до этого была версия для теста)\n",
    "    - выход на новый (Москвовский, например) рынок\n",
    "    - проведение акций\n",
    "    - запуск доставки\n",
    "    - получение лицензии, например, на алкоголь\n",
    "    - фундаментальные причины (локдаун), в марте 2020 наверняка примерно так и было ) \n",
    "    - устранение тех сбоя приложения"
   ]
  },
  {
   "cell_type": "markdown",
   "metadata": {},
   "source": [
    "#### 35. Много ли событий и пользователей мы потеряли, отбросив старые данные?"
   ]
  },
  {
   "cell_type": "code",
   "execution_count": 18,
   "metadata": {},
   "outputs": [
    {
     "data": {
      "text/plain": [
       "2828"
      ]
     },
     "execution_count": 18,
     "metadata": {},
     "output_type": "execute_result"
    }
   ],
   "source": [
    "#Добавляем фильтр к данным (дата)\n",
    "prd_2 = prd[prd['datetime'] >= \"2019-08-01\"]\n",
    "loss_ev = len(prd) - len(prd_2)\n",
    "loss_ev "
   ]
  },
  {
   "cell_type": "code",
   "execution_count": 19,
   "metadata": {},
   "outputs": [
    {
     "data": {
      "text/plain": [
       "'1.16%'"
      ]
     },
     "execution_count": 19,
     "metadata": {},
     "output_type": "execute_result"
    }
   ],
   "source": [
    "'{:.2%}'.format(loss_ev / len(prd))"
   ]
  },
  {
   "cell_type": "code",
   "execution_count": 20,
   "metadata": {},
   "outputs": [
    {
     "data": {
      "text/plain": [
       "17"
      ]
     },
     "execution_count": 20,
     "metadata": {},
     "output_type": "execute_result"
    }
   ],
   "source": [
    "loss_id = prd['id'].nunique() - prd_2['id'].nunique()\n",
    "loss_id"
   ]
  },
  {
   "cell_type": "code",
   "execution_count": 21,
   "metadata": {},
   "outputs": [
    {
     "data": {
      "text/plain": [
       "'0.23%'"
      ]
     },
     "execution_count": 21,
     "metadata": {},
     "output_type": "execute_result"
    }
   ],
   "source": [
    "'{:.2%}'.format(loss_id / prd['id'].nunique())"
   ]
  },
  {
   "cell_type": "markdown",
   "metadata": {},
   "source": [
    "Отбросив ненужные данные мы потеряем 2828 события (около 1% от общего числа) и 17 уникальных пользователей (около 0,23% от общего числа)"
   ]
  },
  {
   "cell_type": "markdown",
   "metadata": {},
   "source": [
    "#### 36. Проверим, что у нас есть пользователи из всех трёх экспериментальных групп."
   ]
  },
  {
   "cell_type": "code",
   "execution_count": 22,
   "metadata": {},
   "outputs": [
    {
     "data": {
      "text/html": [
       "<div>\n",
       "<style scoped>\n",
       "    .dataframe tbody tr th:only-of-type {\n",
       "        vertical-align: middle;\n",
       "    }\n",
       "\n",
       "    .dataframe tbody tr th {\n",
       "        vertical-align: top;\n",
       "    }\n",
       "\n",
       "    .dataframe thead th {\n",
       "        text-align: right;\n",
       "    }\n",
       "</style>\n",
       "<table border=\"1\" class=\"dataframe\">\n",
       "  <thead>\n",
       "    <tr style=\"text-align: right;\">\n",
       "      <th></th>\n",
       "      <th>group</th>\n",
       "      <th>id</th>\n",
       "      <th>share</th>\n",
       "    </tr>\n",
       "  </thead>\n",
       "  <tbody>\n",
       "    <tr>\n",
       "      <td>0</td>\n",
       "      <td>246</td>\n",
       "      <td>2484</td>\n",
       "      <td>0.33</td>\n",
       "    </tr>\n",
       "    <tr>\n",
       "      <td>1</td>\n",
       "      <td>247</td>\n",
       "      <td>2513</td>\n",
       "      <td>0.33</td>\n",
       "    </tr>\n",
       "    <tr>\n",
       "      <td>2</td>\n",
       "      <td>248</td>\n",
       "      <td>2537</td>\n",
       "      <td>0.34</td>\n",
       "    </tr>\n",
       "  </tbody>\n",
       "</table>\n",
       "</div>"
      ],
      "text/plain": [
       "   group    id  share\n",
       "0  246    2484  0.33 \n",
       "1  247    2513  0.33 \n",
       "2  248    2537  0.34 "
      ]
     },
     "execution_count": 22,
     "metadata": {},
     "output_type": "execute_result"
    }
   ],
   "source": [
    "n_group = prd_2.groupby('group')['id'].nunique().reset_index()\n",
    "n_group['share'] = (n_group['id'] / n_group['id'].sum()).round(2)\n",
    "n_group"
   ]
  },
  {
   "cell_type": "markdown",
   "metadata": {},
   "source": [
    "Пользователи распределны по трем группам равномерно"
   ]
  },
  {
   "cell_type": "markdown",
   "metadata": {},
   "source": [
    "#### 37. Промежуточный вывод\n",
    "\n",
    "- Всего в логе **244 126** события\n",
    "- Уникальных пользователей **7551**\n",
    "- В среднем на одного пользователя приходится **32** события (15 посещений главной страницы и по 5-6 остальных событий)\n",
    "- Выделяем рассматриваемый период с **2019-08-01**, так как только с этого времени мы располагаем полными данными.\n",
    "- Сократив исследуемый период мы потерями всего 2828 (**коло 1%**) событий и 17 уникальных пользователей (**около 0,2%**)\n",
    "- Пользователи разибты между группами равномерно (около **2500** пользователей)"
   ]
  },
  {
   "cell_type": "markdown",
   "metadata": {},
   "source": [
    "<a id='Шаг 4'></a>\n",
    "## Шаг 4. Изучение воронки событий"
   ]
  },
  {
   "cell_type": "markdown",
   "metadata": {},
   "source": [
    "#### 41. Посмотрим, какие события есть в логах, как часто они встречаются. Отсортируем события по частоте."
   ]
  },
  {
   "cell_type": "code",
   "execution_count": 23,
   "metadata": {},
   "outputs": [
    {
     "data": {
      "text/html": [
       "<style  type=\"text/css\" >\n",
       "    #T_76f254d4_1e9e_11eb_bb64_02420a3952bbrow0_col0 {\n",
       "            width:  100px;\n",
       "        }    #T_76f254d4_1e9e_11eb_bb64_02420a3952bbrow0_col1 {\n",
       "            width:  100px;\n",
       "        }    #T_76f254d4_1e9e_11eb_bb64_02420a3952bbrow0_col2 {\n",
       "            background-color:  #053061;\n",
       "            color:  #f1f1f1;\n",
       "            width:  100px;\n",
       "        }    #T_76f254d4_1e9e_11eb_bb64_02420a3952bbrow1_col0 {\n",
       "            width:  100px;\n",
       "        }    #T_76f254d4_1e9e_11eb_bb64_02420a3952bbrow1_col1 {\n",
       "            width:  100px;\n",
       "        }    #T_76f254d4_1e9e_11eb_bb64_02420a3952bbrow1_col2 {\n",
       "            background-color:  #fcd5bf;\n",
       "            color:  #000000;\n",
       "            width:  100px;\n",
       "        }    #T_76f254d4_1e9e_11eb_bb64_02420a3952bbrow2_col0 {\n",
       "            width:  100px;\n",
       "        }    #T_76f254d4_1e9e_11eb_bb64_02420a3952bbrow2_col1 {\n",
       "            width:  100px;\n",
       "        }    #T_76f254d4_1e9e_11eb_bb64_02420a3952bbrow2_col2 {\n",
       "            background-color:  #f9c4a9;\n",
       "            color:  #000000;\n",
       "            width:  100px;\n",
       "        }    #T_76f254d4_1e9e_11eb_bb64_02420a3952bbrow3_col0 {\n",
       "            width:  100px;\n",
       "        }    #T_76f254d4_1e9e_11eb_bb64_02420a3952bbrow3_col1 {\n",
       "            width:  100px;\n",
       "        }    #T_76f254d4_1e9e_11eb_bb64_02420a3952bbrow3_col2 {\n",
       "            background-color:  #ef9979;\n",
       "            color:  #000000;\n",
       "            width:  100px;\n",
       "        }    #T_76f254d4_1e9e_11eb_bb64_02420a3952bbrow4_col0 {\n",
       "            width:  100px;\n",
       "        }    #T_76f254d4_1e9e_11eb_bb64_02420a3952bbrow4_col1 {\n",
       "            width:  100px;\n",
       "        }    #T_76f254d4_1e9e_11eb_bb64_02420a3952bbrow4_col2 {\n",
       "            background-color:  #67001f;\n",
       "            color:  #f1f1f1;\n",
       "            width:  100px;\n",
       "        }</style><table id=\"T_76f254d4_1e9e_11eb_bb64_02420a3952bb\" ><thead>    <tr>        <th class=\"col_heading level0 col0\" >event</th>        <th class=\"col_heading level0 col1\" >id</th>        <th class=\"col_heading level0 col2\" >part</th>    </tr></thead><tbody>\n",
       "                <tr>\n",
       "                                <td id=\"T_76f254d4_1e9e_11eb_bb64_02420a3952bbrow0_col0\" class=\"data row0 col0\" >Main</td>\n",
       "                        <td id=\"T_76f254d4_1e9e_11eb_bb64_02420a3952bbrow0_col1\" class=\"data row0 col1\" >117431</td>\n",
       "                        <td id=\"T_76f254d4_1e9e_11eb_bb64_02420a3952bbrow0_col2\" class=\"data row0 col2\" >48.7%</td>\n",
       "            </tr>\n",
       "            <tr>\n",
       "                                <td id=\"T_76f254d4_1e9e_11eb_bb64_02420a3952bbrow1_col0\" class=\"data row1 col0\" >Offers</td>\n",
       "                        <td id=\"T_76f254d4_1e9e_11eb_bb64_02420a3952bbrow1_col1\" class=\"data row1 col1\" >46350</td>\n",
       "                        <td id=\"T_76f254d4_1e9e_11eb_bb64_02420a3952bbrow1_col2\" class=\"data row1 col2\" >19.2%</td>\n",
       "            </tr>\n",
       "            <tr>\n",
       "                                <td id=\"T_76f254d4_1e9e_11eb_bb64_02420a3952bbrow2_col0\" class=\"data row2 col0\" >Cart</td>\n",
       "                        <td id=\"T_76f254d4_1e9e_11eb_bb64_02420a3952bbrow2_col1\" class=\"data row2 col1\" >42365</td>\n",
       "                        <td id=\"T_76f254d4_1e9e_11eb_bb64_02420a3952bbrow2_col2\" class=\"data row2 col2\" >17.6%</td>\n",
       "            </tr>\n",
       "            <tr>\n",
       "                                <td id=\"T_76f254d4_1e9e_11eb_bb64_02420a3952bbrow3_col0\" class=\"data row3 col0\" >Payment</td>\n",
       "                        <td id=\"T_76f254d4_1e9e_11eb_bb64_02420a3952bbrow3_col1\" class=\"data row3 col1\" >34113</td>\n",
       "                        <td id=\"T_76f254d4_1e9e_11eb_bb64_02420a3952bbrow3_col2\" class=\"data row3 col2\" >14.1%</td>\n",
       "            </tr>\n",
       "            <tr>\n",
       "                                <td id=\"T_76f254d4_1e9e_11eb_bb64_02420a3952bbrow4_col0\" class=\"data row4 col0\" >Tutorial</td>\n",
       "                        <td id=\"T_76f254d4_1e9e_11eb_bb64_02420a3952bbrow4_col1\" class=\"data row4 col1\" >1039</td>\n",
       "                        <td id=\"T_76f254d4_1e9e_11eb_bb64_02420a3952bbrow4_col2\" class=\"data row4 col2\" >0.4%</td>\n",
       "            </tr>\n",
       "    </tbody></table>"
      ],
      "text/plain": [
       "<pandas.io.formats.style.Styler at 0x7f73a8343f10>"
      ]
     },
     "execution_count": 23,
     "metadata": {},
     "output_type": "execute_result"
    }
   ],
   "source": [
    "#Посчитаем количество разных событий\n",
    "n_event = prd_2.groupby('event')['id'].count().reset_index()\n",
    "n_event['part'] = (n_event['id'] / n_event['id'].sum()).round(3)\n",
    "n_event = n_event.sort_values(by = 'id', ascending = False)\n",
    "\n",
    "#Форматирование таблицы\n",
    "format_dict = {'part': '{:.1%}'}\n",
    "n_event\\\n",
    ".style\\\n",
    ".format(format_dict)\\\n",
    ".hide_index()\\\n",
    ".background_gradient(subset=['part'], cmap='RdBu')\\\n",
    ".set_properties(**{'width': '100px'})"
   ]
  },
  {
   "cell_type": "markdown",
   "metadata": {},
   "source": [
    "Видим, что половина событий - это переход на главную страницу, тут ничего удивительного. В то время как прочтение инструкции менее 0,5% событий"
   ]
  },
  {
   "cell_type": "markdown",
   "metadata": {},
   "source": [
    "#### 42. Посчитаем, сколько пользователей совершали каждое из этих событий. Отсортируем события по числу пользователей. Посчитаем долю пользователей, которые хоть раз совершали событие."
   ]
  },
  {
   "cell_type": "code",
   "execution_count": 24,
   "metadata": {},
   "outputs": [
    {
     "data": {
      "text/html": [
       "<style  type=\"text/css\" >\n",
       "    #T_77049f5e_1e9e_11eb_bb64_02420a3952bbrow0_col0 {\n",
       "            width:  100px;\n",
       "        }    #T_77049f5e_1e9e_11eb_bb64_02420a3952bbrow0_col1 {\n",
       "            width:  100px;\n",
       "        }    #T_77049f5e_1e9e_11eb_bb64_02420a3952bbrow0_col2 {\n",
       "            background-color:  #053061;\n",
       "            color:  #f1f1f1;\n",
       "            width:  100px;\n",
       "        }    #T_77049f5e_1e9e_11eb_bb64_02420a3952bbrow1_col0 {\n",
       "            width:  100px;\n",
       "        }    #T_77049f5e_1e9e_11eb_bb64_02420a3952bbrow1_col1 {\n",
       "            width:  100px;\n",
       "        }    #T_77049f5e_1e9e_11eb_bb64_02420a3952bbrow1_col2 {\n",
       "            background-color:  #dbeaf2;\n",
       "            color:  #000000;\n",
       "            width:  100px;\n",
       "        }    #T_77049f5e_1e9e_11eb_bb64_02420a3952bbrow2_col0 {\n",
       "            width:  100px;\n",
       "        }    #T_77049f5e_1e9e_11eb_bb64_02420a3952bbrow2_col1 {\n",
       "            width:  100px;\n",
       "        }    #T_77049f5e_1e9e_11eb_bb64_02420a3952bbrow2_col2 {\n",
       "            background-color:  #fbe6da;\n",
       "            color:  #000000;\n",
       "            width:  100px;\n",
       "        }    #T_77049f5e_1e9e_11eb_bb64_02420a3952bbrow3_col0 {\n",
       "            width:  100px;\n",
       "        }    #T_77049f5e_1e9e_11eb_bb64_02420a3952bbrow3_col1 {\n",
       "            width:  100px;\n",
       "        }    #T_77049f5e_1e9e_11eb_bb64_02420a3952bbrow3_col2 {\n",
       "            background-color:  #fcdecd;\n",
       "            color:  #000000;\n",
       "            width:  100px;\n",
       "        }    #T_77049f5e_1e9e_11eb_bb64_02420a3952bbrow4_col0 {\n",
       "            width:  100px;\n",
       "        }    #T_77049f5e_1e9e_11eb_bb64_02420a3952bbrow4_col1 {\n",
       "            width:  100px;\n",
       "        }    #T_77049f5e_1e9e_11eb_bb64_02420a3952bbrow4_col2 {\n",
       "            background-color:  #67001f;\n",
       "            color:  #f1f1f1;\n",
       "            width:  100px;\n",
       "        }</style><table id=\"T_77049f5e_1e9e_11eb_bb64_02420a3952bb\" ><thead>    <tr>        <th class=\"col_heading level0 col0\" >event</th>        <th class=\"col_heading level0 col1\" >n_users</th>        <th class=\"col_heading level0 col2\" >part</th>    </tr></thead><tbody>\n",
       "                <tr>\n",
       "                                <td id=\"T_77049f5e_1e9e_11eb_bb64_02420a3952bbrow0_col0\" class=\"data row0 col0\" >Main</td>\n",
       "                        <td id=\"T_77049f5e_1e9e_11eb_bb64_02420a3952bbrow0_col1\" class=\"data row0 col1\" >7419</td>\n",
       "                        <td id=\"T_77049f5e_1e9e_11eb_bb64_02420a3952bbrow0_col2\" class=\"data row0 col2\" >100.0%</td>\n",
       "            </tr>\n",
       "            <tr>\n",
       "                                <td id=\"T_77049f5e_1e9e_11eb_bb64_02420a3952bbrow1_col0\" class=\"data row1 col0\" >Offers</td>\n",
       "                        <td id=\"T_77049f5e_1e9e_11eb_bb64_02420a3952bbrow1_col1\" class=\"data row1 col1\" >4593</td>\n",
       "                        <td id=\"T_77049f5e_1e9e_11eb_bb64_02420a3952bbrow1_col2\" class=\"data row1 col2\" >61.9%</td>\n",
       "            </tr>\n",
       "            <tr>\n",
       "                                <td id=\"T_77049f5e_1e9e_11eb_bb64_02420a3952bbrow2_col0\" class=\"data row2 col0\" >Cart</td>\n",
       "                        <td id=\"T_77049f5e_1e9e_11eb_bb64_02420a3952bbrow2_col1\" class=\"data row2 col1\" >3734</td>\n",
       "                        <td id=\"T_77049f5e_1e9e_11eb_bb64_02420a3952bbrow2_col2\" class=\"data row2 col2\" >50.3%</td>\n",
       "            </tr>\n",
       "            <tr>\n",
       "                                <td id=\"T_77049f5e_1e9e_11eb_bb64_02420a3952bbrow3_col0\" class=\"data row3 col0\" >Payment</td>\n",
       "                        <td id=\"T_77049f5e_1e9e_11eb_bb64_02420a3952bbrow3_col1\" class=\"data row3 col1\" >3539</td>\n",
       "                        <td id=\"T_77049f5e_1e9e_11eb_bb64_02420a3952bbrow3_col2\" class=\"data row3 col2\" >47.7%</td>\n",
       "            </tr>\n",
       "            <tr>\n",
       "                                <td id=\"T_77049f5e_1e9e_11eb_bb64_02420a3952bbrow4_col0\" class=\"data row4 col0\" >Tutorial</td>\n",
       "                        <td id=\"T_77049f5e_1e9e_11eb_bb64_02420a3952bbrow4_col1\" class=\"data row4 col1\" >840</td>\n",
       "                        <td id=\"T_77049f5e_1e9e_11eb_bb64_02420a3952bbrow4_col2\" class=\"data row4 col2\" >11.3%</td>\n",
       "            </tr>\n",
       "    </tbody></table>"
      ],
      "text/plain": [
       "<pandas.io.formats.style.Styler at 0x7f73a2062e90>"
      ]
     },
     "execution_count": 24,
     "metadata": {},
     "output_type": "execute_result"
    }
   ],
   "source": [
    "#Посчитаем количество уникальных пользователей совершавших события\n",
    "n_id = prd_2.groupby('event')['id'].nunique().reset_index()\n",
    "n_id['part'] = (n_id['id'] / n_id['id'].max()).round(3)\n",
    "n_id= n_id.sort_values(by = 'id', ascending = False)\n",
    "n_id.columns =['event','n_users','part']\n",
    "\n",
    "#Форматирование таблицы\n",
    "format_dict = {'part': '{:.1%}'}\n",
    "n_id\\\n",
    ".style\\\n",
    ".format(format_dict)\\\n",
    ".hide_index()\\\n",
    ".background_gradient(subset=['part'], cmap='RdBu')\\\n",
    ".set_properties(**{'width': '100px'})"
   ]
  },
  {
   "cell_type": "markdown",
   "metadata": {},
   "source": [
    "Из таблицы выше можем сказать что почти половина уникальных пользователей оплачивала заказ (47.7%) и каждый 10ый читал инстуркцию."
   ]
  },
  {
   "cell_type": "markdown",
   "metadata": {},
   "source": [
    "#### 43. Предположим, в каком порядке происходят события. Все ли они выстраиваются в последовательную цепочку? Какие данные не нужно учитывать при расчёте воронки."
   ]
  },
  {
   "cell_type": "markdown",
   "metadata": {},
   "source": [
    "Порядок событий совпадает с количеством совершенных событий пользователями (main - offers - cart - payment)\n",
    "\n",
    "1. Main -  посещение главной страницы\n",
    "2. Offers - просмотр предложений\n",
    "3. Cart - добавление в корзину\n",
    "4. Payment - оплата заказа\n",
    "\n",
    "PS - Tutorial - не вписывается в цепочку - убирем из воронки"
   ]
  },
  {
   "cell_type": "code",
   "execution_count": 25,
   "metadata": {},
   "outputs": [],
   "source": [
    "#Добавляем фильтр к данным (событие)\n",
    "prd_3 = prd_2.query('event != \"Tutorial\"')"
   ]
  },
  {
   "cell_type": "markdown",
   "metadata": {},
   "source": [
    "#### 44. По воронке событий посчитаем, какая доля пользователей проходит на следующий шаг воронки "
   ]
  },
  {
   "cell_type": "code",
   "execution_count": 26,
   "metadata": {},
   "outputs": [
    {
     "data": {
      "text/html": [
       "<style  type=\"text/css\" >\n",
       "    #T_77269898_1e9e_11eb_bb64_02420a3952bbrow0_col0 {\n",
       "            width:  100px;\n",
       "        }    #T_77269898_1e9e_11eb_bb64_02420a3952bbrow0_col1 {\n",
       "            width:  100px;\n",
       "        }    #T_77269898_1e9e_11eb_bb64_02420a3952bbrow0_col2 {\n",
       "            width:  100px;\n",
       "        }    #T_77269898_1e9e_11eb_bb64_02420a3952bbrow0_col3 {\n",
       "            background-color:  #053061;\n",
       "            color:  #f1f1f1;\n",
       "            width:  100px;\n",
       "        }    #T_77269898_1e9e_11eb_bb64_02420a3952bbrow1_col0 {\n",
       "            width:  100px;\n",
       "        }    #T_77269898_1e9e_11eb_bb64_02420a3952bbrow1_col1 {\n",
       "            width:  100px;\n",
       "        }    #T_77269898_1e9e_11eb_bb64_02420a3952bbrow1_col2 {\n",
       "            width:  100px;\n",
       "        }    #T_77269898_1e9e_11eb_bb64_02420a3952bbrow1_col3 {\n",
       "            background-color:  #fcdfcf;\n",
       "            color:  #000000;\n",
       "            width:  100px;\n",
       "        }    #T_77269898_1e9e_11eb_bb64_02420a3952bbrow2_col0 {\n",
       "            width:  100px;\n",
       "        }    #T_77269898_1e9e_11eb_bb64_02420a3952bbrow2_col1 {\n",
       "            width:  100px;\n",
       "        }    #T_77269898_1e9e_11eb_bb64_02420a3952bbrow2_col2 {\n",
       "            width:  100px;\n",
       "        }    #T_77269898_1e9e_11eb_bb64_02420a3952bbrow2_col3 {\n",
       "            background-color:  #dc6e57;\n",
       "            color:  #000000;\n",
       "            width:  100px;\n",
       "        }    #T_77269898_1e9e_11eb_bb64_02420a3952bbrow3_col0 {\n",
       "            width:  100px;\n",
       "        }    #T_77269898_1e9e_11eb_bb64_02420a3952bbrow3_col1 {\n",
       "            width:  100px;\n",
       "        }    #T_77269898_1e9e_11eb_bb64_02420a3952bbrow3_col2 {\n",
       "            width:  100px;\n",
       "        }    #T_77269898_1e9e_11eb_bb64_02420a3952bbrow3_col3 {\n",
       "            background-color:  #67001f;\n",
       "            color:  #f1f1f1;\n",
       "            width:  100px;\n",
       "        }</style><table id=\"T_77269898_1e9e_11eb_bb64_02420a3952bb\" ><thead>    <tr>        <th class=\"col_heading level0 col0\" >event</th>        <th class=\"col_heading level0 col1\" >n_users</th>        <th class=\"col_heading level0 col2\" >total_conv</th>        <th class=\"col_heading level0 col3\" >next_step_conv</th>    </tr></thead><tbody>\n",
       "                <tr>\n",
       "                                <td id=\"T_77269898_1e9e_11eb_bb64_02420a3952bbrow0_col0\" class=\"data row0 col0\" >Main</td>\n",
       "                        <td id=\"T_77269898_1e9e_11eb_bb64_02420a3952bbrow0_col1\" class=\"data row0 col1\" >7419</td>\n",
       "                        <td id=\"T_77269898_1e9e_11eb_bb64_02420a3952bbrow0_col2\" class=\"data row0 col2\" >100.0%</td>\n",
       "                        <td id=\"T_77269898_1e9e_11eb_bb64_02420a3952bbrow0_col3\" class=\"data row0 col3\" >100.0%</td>\n",
       "            </tr>\n",
       "            <tr>\n",
       "                                <td id=\"T_77269898_1e9e_11eb_bb64_02420a3952bbrow1_col0\" class=\"data row1 col0\" >Offers</td>\n",
       "                        <td id=\"T_77269898_1e9e_11eb_bb64_02420a3952bbrow1_col1\" class=\"data row1 col1\" >4201</td>\n",
       "                        <td id=\"T_77269898_1e9e_11eb_bb64_02420a3952bbrow1_col2\" class=\"data row1 col2\" >56.6%</td>\n",
       "                        <td id=\"T_77269898_1e9e_11eb_bb64_02420a3952bbrow1_col3\" class=\"data row1 col3\" >56.6%</td>\n",
       "            </tr>\n",
       "            <tr>\n",
       "                                <td id=\"T_77269898_1e9e_11eb_bb64_02420a3952bbrow2_col0\" class=\"data row2 col0\" >Cart</td>\n",
       "                        <td id=\"T_77269898_1e9e_11eb_bb64_02420a3952bbrow2_col1\" class=\"data row2 col1\" >1767</td>\n",
       "                        <td id=\"T_77269898_1e9e_11eb_bb64_02420a3952bbrow2_col2\" class=\"data row2 col2\" >23.8%</td>\n",
       "                        <td id=\"T_77269898_1e9e_11eb_bb64_02420a3952bbrow2_col3\" class=\"data row2 col3\" >42.1%</td>\n",
       "            </tr>\n",
       "            <tr>\n",
       "                                <td id=\"T_77269898_1e9e_11eb_bb64_02420a3952bbrow3_col0\" class=\"data row3 col0\" >Payment</td>\n",
       "                        <td id=\"T_77269898_1e9e_11eb_bb64_02420a3952bbrow3_col1\" class=\"data row3 col1\" >454</td>\n",
       "                        <td id=\"T_77269898_1e9e_11eb_bb64_02420a3952bbrow3_col2\" class=\"data row3 col2\" >6.1%</td>\n",
       "                        <td id=\"T_77269898_1e9e_11eb_bb64_02420a3952bbrow3_col3\" class=\"data row3 col3\" >25.7%</td>\n",
       "            </tr>\n",
       "    </tbody></table>"
      ],
      "text/plain": [
       "<pandas.io.formats.style.Styler at 0x7f73a2062750>"
      ]
     },
     "execution_count": 26,
     "metadata": {},
     "output_type": "execute_result"
    }
   ],
   "source": [
    "#Создаем сводную таблицу, в которой события разнесены по столбцам\n",
    "x = prd_3.pivot_table(index = 'id', columns = 'event', values = 'datetime', aggfunc = 'min').reset_index()\n",
    "x = x[['Main','Offers','Cart','Payment']]\n",
    "\n",
    "#Считаем количество уникальных пользователей дошедших последовательно до соответствующего события\n",
    "n_main = x['Main'].notna().sum()\n",
    "n_offers = (x['Main'].notna() & (x['Offers'] > x['Main'])).sum()\n",
    "n_cart = (x['Main'].notna() & (x['Offers'] > x['Main']) & (x['Cart'] > x['Offers'])).sum()\n",
    "n_pay = (x['Main'].notna() & (x['Offers'] > x['Main']) & (x['Cart'] > x['Offers']) & (x['Payment'] > x['Cart']) ).sum()\n",
    "\n",
    "#Создаем датафрейм с коверсией пользователей\n",
    "conversion = pd.DataFrame({ 'event': ['Main','Offers','Cart','Payment'],'n_users': [n_main, n_offers,n_cart,n_pay ]})\n",
    "conversion['users_shift'] = conversion['n_users'].shift(periods=1, fill_value= conversion['n_users'].max())\n",
    "conversion['total_conv'] = (conversion['n_users'] / conversion['n_users'].max())\n",
    "conversion['next_step_conv'] = (conversion['n_users'] / conversion['users_shift'])\n",
    "\n",
    "#Форматирование таблицы\n",
    "conv_table1 = conversion[['event','n_users','total_conv','next_step_conv']]\n",
    "format_dict = {'total_conv': '{:.1%}','next_step_conv': '{:.1%}'}\n",
    "\n",
    "conv_table1\\\n",
    ".style\\\n",
    ".format(format_dict)\\\n",
    ".hide_index()\\\n",
    ".background_gradient(subset=['next_step_conv'], cmap='RdBu')\\\n",
    ".set_properties(**{'width': '100px'})"
   ]
  },
  {
   "cell_type": "markdown",
   "metadata": {},
   "source": [
    "#### 45. На каком шаге мы теряеем больше всего пользователей?"
   ]
  },
  {
   "cell_type": "code",
   "execution_count": 27,
   "metadata": {},
   "outputs": [
    {
     "data": {
      "text/html": [
       "<style  type=\"text/css\" >\n",
       "    #T_772bb3dc_1e9e_11eb_bb64_02420a3952bbrow0_col0 {\n",
       "            width:  100px;\n",
       "        }    #T_772bb3dc_1e9e_11eb_bb64_02420a3952bbrow0_col1 {\n",
       "            width:  100px;\n",
       "        }    #T_772bb3dc_1e9e_11eb_bb64_02420a3952bbrow0_col2 {\n",
       "            width:  100px;\n",
       "        }    #T_772bb3dc_1e9e_11eb_bb64_02420a3952bbrow0_col3 {\n",
       "            background-color:  #053061;\n",
       "            color:  #f1f1f1;\n",
       "            width:  100px;\n",
       "        }    #T_772bb3dc_1e9e_11eb_bb64_02420a3952bbrow1_col0 {\n",
       "            width:  100px;\n",
       "        }    #T_772bb3dc_1e9e_11eb_bb64_02420a3952bbrow1_col1 {\n",
       "            width:  100px;\n",
       "        }    #T_772bb3dc_1e9e_11eb_bb64_02420a3952bbrow1_col2 {\n",
       "            width:  100px;\n",
       "        }    #T_772bb3dc_1e9e_11eb_bb64_02420a3952bbrow1_col3 {\n",
       "            background-color:  #fcdfcf;\n",
       "            color:  #000000;\n",
       "            width:  100px;\n",
       "        }    #T_772bb3dc_1e9e_11eb_bb64_02420a3952bbrow2_col0 {\n",
       "            width:  100px;\n",
       "        }    #T_772bb3dc_1e9e_11eb_bb64_02420a3952bbrow2_col1 {\n",
       "            width:  100px;\n",
       "        }    #T_772bb3dc_1e9e_11eb_bb64_02420a3952bbrow2_col2 {\n",
       "            width:  100px;\n",
       "        }    #T_772bb3dc_1e9e_11eb_bb64_02420a3952bbrow2_col3 {\n",
       "            background-color:  #dc6e57;\n",
       "            color:  #000000;\n",
       "            width:  100px;\n",
       "        }    #T_772bb3dc_1e9e_11eb_bb64_02420a3952bbrow3_col0 {\n",
       "            width:  100px;\n",
       "        }    #T_772bb3dc_1e9e_11eb_bb64_02420a3952bbrow3_col1 {\n",
       "            width:  100px;\n",
       "        }    #T_772bb3dc_1e9e_11eb_bb64_02420a3952bbrow3_col2 {\n",
       "            width:  100px;\n",
       "        }    #T_772bb3dc_1e9e_11eb_bb64_02420a3952bbrow3_col3 {\n",
       "            background-color:  #67001f;\n",
       "            color:  #f1f1f1;\n",
       "            width:  100px;\n",
       "        }</style><table id=\"T_772bb3dc_1e9e_11eb_bb64_02420a3952bb\" ><thead>    <tr>        <th class=\"col_heading level0 col0\" >event</th>        <th class=\"col_heading level0 col1\" >n_users</th>        <th class=\"col_heading level0 col2\" >losses</th>        <th class=\"col_heading level0 col3\" >losses%</th>    </tr></thead><tbody>\n",
       "                <tr>\n",
       "                                <td id=\"T_772bb3dc_1e9e_11eb_bb64_02420a3952bbrow0_col0\" class=\"data row0 col0\" >Main</td>\n",
       "                        <td id=\"T_772bb3dc_1e9e_11eb_bb64_02420a3952bbrow0_col1\" class=\"data row0 col1\" >7419</td>\n",
       "                        <td id=\"T_772bb3dc_1e9e_11eb_bb64_02420a3952bbrow0_col2\" class=\"data row0 col2\" >0</td>\n",
       "                        <td id=\"T_772bb3dc_1e9e_11eb_bb64_02420a3952bbrow0_col3\" class=\"data row0 col3\" >0.0%</td>\n",
       "            </tr>\n",
       "            <tr>\n",
       "                                <td id=\"T_772bb3dc_1e9e_11eb_bb64_02420a3952bbrow1_col0\" class=\"data row1 col0\" >Offers</td>\n",
       "                        <td id=\"T_772bb3dc_1e9e_11eb_bb64_02420a3952bbrow1_col1\" class=\"data row1 col1\" >4201</td>\n",
       "                        <td id=\"T_772bb3dc_1e9e_11eb_bb64_02420a3952bbrow1_col2\" class=\"data row1 col2\" >-3218</td>\n",
       "                        <td id=\"T_772bb3dc_1e9e_11eb_bb64_02420a3952bbrow1_col3\" class=\"data row1 col3\" >-43.4%</td>\n",
       "            </tr>\n",
       "            <tr>\n",
       "                                <td id=\"T_772bb3dc_1e9e_11eb_bb64_02420a3952bbrow2_col0\" class=\"data row2 col0\" >Cart</td>\n",
       "                        <td id=\"T_772bb3dc_1e9e_11eb_bb64_02420a3952bbrow2_col1\" class=\"data row2 col1\" >1767</td>\n",
       "                        <td id=\"T_772bb3dc_1e9e_11eb_bb64_02420a3952bbrow2_col2\" class=\"data row2 col2\" >-2434</td>\n",
       "                        <td id=\"T_772bb3dc_1e9e_11eb_bb64_02420a3952bbrow2_col3\" class=\"data row2 col3\" >-57.9%</td>\n",
       "            </tr>\n",
       "            <tr>\n",
       "                                <td id=\"T_772bb3dc_1e9e_11eb_bb64_02420a3952bbrow3_col0\" class=\"data row3 col0\" >Payment</td>\n",
       "                        <td id=\"T_772bb3dc_1e9e_11eb_bb64_02420a3952bbrow3_col1\" class=\"data row3 col1\" >454</td>\n",
       "                        <td id=\"T_772bb3dc_1e9e_11eb_bb64_02420a3952bbrow3_col2\" class=\"data row3 col2\" >-1313</td>\n",
       "                        <td id=\"T_772bb3dc_1e9e_11eb_bb64_02420a3952bbrow3_col3\" class=\"data row3 col3\" >-74.3%</td>\n",
       "            </tr>\n",
       "    </tbody></table>"
      ],
      "text/plain": [
       "<pandas.io.formats.style.Styler at 0x7f73a0d0a7d0>"
      ]
     },
     "execution_count": 27,
     "metadata": {},
     "output_type": "execute_result"
    }
   ],
   "source": [
    "#Создаем столбцы с количеством потеряных пользователей и их долей\n",
    "conversion['losses'] = conversion['n_users'] - conversion['users_shift']\n",
    "conversion['losses%'] = (conversion['n_users'] / conversion['users_shift'])-1\n",
    "\n",
    "#Форматирование таблицы\n",
    "conv_table2 = conversion[['event','n_users','losses','losses%']]\n",
    "format_dict = {'losses%': '{:.1%}'}\n",
    "conv_table2\\\n",
    ".style\\\n",
    ".format(format_dict)\\\n",
    ".hide_index()\\\n",
    ".background_gradient(subset=['losses%'], cmap='RdBu')\\\n",
    ".set_properties(**{'width': '100px'})"
   ]
  },
  {
   "cell_type": "markdown",
   "metadata": {},
   "source": [
    "Из таблицы выше видим, чтобольше всего пользователей в абсолютном значении мы теряем на переходе от главной страницы к странице с предложениями ( 3218 пользователей), однако в процентом соотношении самые большие наши потери на этапе оплаты заказа после добавления в корзину (74,3 %) "
   ]
  },
  {
   "cell_type": "markdown",
   "metadata": {},
   "source": [
    "**Возможные причины потери пользователей:**\n",
    "1. Не переходят к странице с предложениями (больше всего пользователей мы потеряли именно тут 3218 человек): \n",
    "\n",
    "    - **Пользователи**\n",
    "        - пользователи пришли в приложение не с целью покупки, просто посмотреть ассортимент\n",
    "    - **Предложение**\n",
    "        - пользователи не находят то, зачем пришли в приложение\n",
    "        - польщователи перешли в приложение по рекламе скидок, но не нашли хороших предложений для себя\n",
    "    - **Дизайн сайта / приложения**\n",
    "         - пользователи не могут разобраться со структурой приложения (плохой UX)\n",
    "         - в целом плохой дизайн приложения, который отпугивает посетителей\n",
    "         - необходима регистарация на этапе просмотра предложений\n",
    "         - тех. сбой приложения\n",
    "    \n",
    "    \n",
    "2. Пользователи не добавляют в корзину:\n",
    "\n",
    "    - **Цена**\n",
    "        - пользователей не устраивает цена\n",
    "    - **Отсутвие товара**    \n",
    "    - **Доставка**    \n",
    "        - отсутствие доставки\n",
    "        - пользователей не устраивает срок доставки\n",
    "        - пользователей не устраивает стоимость доставки\n",
    "    - **Приложение**\n",
    "        - необходима регистарация на этапе добавления в корзину\n",
    "        - отсутствие описания/фото/видео товаров на странице с предожениями\n",
    "        - отсутствие отзывов на странице с предожениями\n",
    "        - не увидели / не нашли кнопку \"добавить в корзину\"\n",
    "        - тех. сбой приложения\n",
    "    \n",
    "    \n",
    "3. Не оплачивают товар:\n",
    "\n",
    "    - самую большую долю пользователей мы теряем именно здесь (почти половина), возможно, это связано с техническими проблемами оплаты:\n",
    "        - нет возможности оплатить картой, apple pay или иными способами\n",
    "        - тех. сбой сайта / приложения\n",
    "    - возможное взятие комиссий за оплату     \n",
    "    - необходима регистарация на этапе оплаты товара\n",
    "\n",
    "   "
   ]
  },
  {
   "cell_type": "markdown",
   "metadata": {},
   "source": [
    "**Рекомендации:**\n",
    "1. Переход странице с предложениями (больше всего пользователей мы потеряли именно тут 3218 человек):\n",
    "\n",
    "    - Провести событийную аналитку, посмотреть очередность действий пользователей и время затраченное на отдельные события, например, возможно, польщователь тратит на регистрацию минуты и после уходит из приложения так и не закончив регистрацию)\n",
    "    - Провести анализ просмотра страницы постетителем (вебвизор, тепловые карты) - возможно на этом этапе найдем причину потерь\n",
    "    - Улучшить UX приложения путем проведения A/B тестов, предварительно приоритизировав гипотезы\n",
    "    - Использование Яндекс.Метрики для анализа узких мест\n",
    "    - Перенятие лучших практик у конкурентов\n",
    "    - Обучение\n",
    "    - Гугл\n",
    "    \n",
    "    \n",
    "2. Добавление в корзину:\n",
    "\n",
    "    - Анализ цен и сроков доставки у конкурентов\n",
    "    - Введение системы предсказания спроса\n",
    "    - Добавление отзывов в приложении \n",
    "    - Добавление подробных описаний, фото и видеообзоров в приложение\n",
    "    - Анализ кнопки \"корзина\" особо важен (вот тут попроводить A/B тесты, конечно бы) \n",
    "\n",
    "\n",
    "3. Оплата товара:\n",
    "\n",
    "    - Добавить новые возможности оплаты\n",
    "    - Убрать комиссии за оплту - если есть\n",
    "    - Анализ UX приложения "
   ]
  },
  {
   "cell_type": "markdown",
   "metadata": {},
   "source": [
    "#### 46. Какая доля пользователей доходит от первого события до оплаты?"
   ]
  },
  {
   "cell_type": "code",
   "execution_count": 28,
   "metadata": {},
   "outputs": [
    {
     "data": {
      "text/html": [
       "<style  type=\"text/css\" >\n",
       "    #T_77357b88_1e9e_11eb_bb64_02420a3952bbrow0_col0 {\n",
       "            width:  100px;\n",
       "        }    #T_77357b88_1e9e_11eb_bb64_02420a3952bbrow0_col1 {\n",
       "            width:  100px;\n",
       "        }    #T_77357b88_1e9e_11eb_bb64_02420a3952bbrow0_col2 {\n",
       "            : ;\n",
       "            width:  100px;\n",
       "        }    #T_77357b88_1e9e_11eb_bb64_02420a3952bbrow0_col3 {\n",
       "            width:  100px;\n",
       "        }    #T_77357b88_1e9e_11eb_bb64_02420a3952bbrow1_col0 {\n",
       "            width:  100px;\n",
       "        }    #T_77357b88_1e9e_11eb_bb64_02420a3952bbrow1_col1 {\n",
       "            width:  100px;\n",
       "        }    #T_77357b88_1e9e_11eb_bb64_02420a3952bbrow1_col2 {\n",
       "            : ;\n",
       "            width:  100px;\n",
       "        }    #T_77357b88_1e9e_11eb_bb64_02420a3952bbrow1_col3 {\n",
       "            width:  100px;\n",
       "        }    #T_77357b88_1e9e_11eb_bb64_02420a3952bbrow2_col0 {\n",
       "            width:  100px;\n",
       "        }    #T_77357b88_1e9e_11eb_bb64_02420a3952bbrow2_col1 {\n",
       "            width:  100px;\n",
       "        }    #T_77357b88_1e9e_11eb_bb64_02420a3952bbrow2_col2 {\n",
       "            : ;\n",
       "            width:  100px;\n",
       "        }    #T_77357b88_1e9e_11eb_bb64_02420a3952bbrow2_col3 {\n",
       "            width:  100px;\n",
       "        }    #T_77357b88_1e9e_11eb_bb64_02420a3952bbrow3_col0 {\n",
       "            width:  100px;\n",
       "        }    #T_77357b88_1e9e_11eb_bb64_02420a3952bbrow3_col1 {\n",
       "            width:  100px;\n",
       "        }    #T_77357b88_1e9e_11eb_bb64_02420a3952bbrow3_col2 {\n",
       "            background-color:  #cd4f39;\n",
       "            width:  100px;\n",
       "        }    #T_77357b88_1e9e_11eb_bb64_02420a3952bbrow3_col3 {\n",
       "            width:  100px;\n",
       "        }</style><table id=\"T_77357b88_1e9e_11eb_bb64_02420a3952bb\" ><thead>    <tr>        <th class=\"col_heading level0 col0\" >event</th>        <th class=\"col_heading level0 col1\" >n_users</th>        <th class=\"col_heading level0 col2\" >total_conv</th>        <th class=\"col_heading level0 col3\" >next_step_conv</th>    </tr></thead><tbody>\n",
       "                <tr>\n",
       "                                <td id=\"T_77357b88_1e9e_11eb_bb64_02420a3952bbrow0_col0\" class=\"data row0 col0\" >Main</td>\n",
       "                        <td id=\"T_77357b88_1e9e_11eb_bb64_02420a3952bbrow0_col1\" class=\"data row0 col1\" >7419</td>\n",
       "                        <td id=\"T_77357b88_1e9e_11eb_bb64_02420a3952bbrow0_col2\" class=\"data row0 col2\" >100.0%</td>\n",
       "                        <td id=\"T_77357b88_1e9e_11eb_bb64_02420a3952bbrow0_col3\" class=\"data row0 col3\" >100.0%</td>\n",
       "            </tr>\n",
       "            <tr>\n",
       "                                <td id=\"T_77357b88_1e9e_11eb_bb64_02420a3952bbrow1_col0\" class=\"data row1 col0\" >Offers</td>\n",
       "                        <td id=\"T_77357b88_1e9e_11eb_bb64_02420a3952bbrow1_col1\" class=\"data row1 col1\" >4201</td>\n",
       "                        <td id=\"T_77357b88_1e9e_11eb_bb64_02420a3952bbrow1_col2\" class=\"data row1 col2\" >56.6%</td>\n",
       "                        <td id=\"T_77357b88_1e9e_11eb_bb64_02420a3952bbrow1_col3\" class=\"data row1 col3\" >56.6%</td>\n",
       "            </tr>\n",
       "            <tr>\n",
       "                                <td id=\"T_77357b88_1e9e_11eb_bb64_02420a3952bbrow2_col0\" class=\"data row2 col0\" >Cart</td>\n",
       "                        <td id=\"T_77357b88_1e9e_11eb_bb64_02420a3952bbrow2_col1\" class=\"data row2 col1\" >1767</td>\n",
       "                        <td id=\"T_77357b88_1e9e_11eb_bb64_02420a3952bbrow2_col2\" class=\"data row2 col2\" >23.8%</td>\n",
       "                        <td id=\"T_77357b88_1e9e_11eb_bb64_02420a3952bbrow2_col3\" class=\"data row2 col3\" >42.1%</td>\n",
       "            </tr>\n",
       "            <tr>\n",
       "                                <td id=\"T_77357b88_1e9e_11eb_bb64_02420a3952bbrow3_col0\" class=\"data row3 col0\" >Payment</td>\n",
       "                        <td id=\"T_77357b88_1e9e_11eb_bb64_02420a3952bbrow3_col1\" class=\"data row3 col1\" >454</td>\n",
       "                        <td id=\"T_77357b88_1e9e_11eb_bb64_02420a3952bbrow3_col2\" class=\"data row3 col2\" >6.1%</td>\n",
       "                        <td id=\"T_77357b88_1e9e_11eb_bb64_02420a3952bbrow3_col3\" class=\"data row3 col3\" >25.7%</td>\n",
       "            </tr>\n",
       "    </tbody></table>"
      ],
      "text/plain": [
       "<pandas.io.formats.style.Styler at 0x7f73fca8ef50>"
      ]
     },
     "execution_count": 28,
     "metadata": {},
     "output_type": "execute_result"
    }
   ],
   "source": [
    "#Форматирование таблицы\n",
    "format_dict = {'total_conv': '{:.1%}','next_step_conv': '{:.1%}'}\n",
    "conv_table1\\\n",
    ".style\\\n",
    ".format(format_dict)\\\n",
    ".hide_index()\\\n",
    ".highlight_min(subset=['total_conv'], color='#cd4f39')\\\n",
    ".set_properties(**{'width': '100px'})"
   ]
  },
  {
   "cell_type": "markdown",
   "metadata": {},
   "source": [
    "Полный путь от посещения главной страницы до оплаты заказа проходят только 6% пользователей"
   ]
  },
  {
   "cell_type": "markdown",
   "metadata": {},
   "source": [
    "#### 47. Промежуточный вывод\n",
    "\n",
    "- Видим, что **половина** всех событий - это переход, прочтение инструкции - менее 0,5% событий\n",
    "- Почти половина уникальных пользователей оплачивала заказ (**47.7%**) , каждый 10ый читал инструкцию.\n",
    "- **Порядок событий** совпадает с количеством совершенных событий пользователями. Tutorial - убираем из цепочки, это событие никак не влияет на конверсию\n",
    "\n",
    "    - Main - посещение главной страницы\n",
    "    - Offers - просмотр предложений\n",
    "    - Cart - добавление в корзину\n",
    "    - Payment - оплата заказа\n",
    "    \n",
    "\n",
    "- Больше всего пользователей в абсолютном значении мы теряем на переходе от главной страницы к странице с предложениями ( **3218** пользователей), возможно стоит улучшить алгоритм обеспечивающий рекомендации пользователям\n",
    "\n",
    "- В процентом соотношении самые большие наши потери на этапе оплаты заказа после добавления в корзину (**74,3 %**), необходимо исследовать эту проблему, может есть какая техническая проблема с оплатой заказа\n",
    "\n",
    "- Полный путь от посещения главной страницы до оплаты заказа проходят только **6%** пользователей"
   ]
  },
  {
   "cell_type": "markdown",
   "metadata": {},
   "source": [
    "<a id='Шаг 5'></a>\n",
    "## Шаг 5. Изучение результатов эксперимента"
   ]
  },
  {
   "cell_type": "markdown",
   "metadata": {},
   "source": [
    "#### 51. Сколько пользователей в каждой экспериментальной группе?"
   ]
  },
  {
   "cell_type": "code",
   "execution_count": 29,
   "metadata": {},
   "outputs": [
    {
     "data": {
      "text/html": [
       "<style  type=\"text/css\" >\n",
       "    #T_775c7a58_1e9e_11eb_bb64_02420a3952bbrow0_col0 {\n",
       "            width:  100px;\n",
       "        }    #T_775c7a58_1e9e_11eb_bb64_02420a3952bbrow0_col1 {\n",
       "            background-color:  #67001f;\n",
       "            color:  #f1f1f1;\n",
       "            width:  100px;\n",
       "        }    #T_775c7a58_1e9e_11eb_bb64_02420a3952bbrow0_col2 {\n",
       "            width:  100px;\n",
       "        }    #T_775c7a58_1e9e_11eb_bb64_02420a3952bbrow0_col3 {\n",
       "            width:  100px;\n",
       "        }    #T_775c7a58_1e9e_11eb_bb64_02420a3952bbrow0_col4 {\n",
       "            width:  100px;\n",
       "        }    #T_775c7a58_1e9e_11eb_bb64_02420a3952bbrow0_col5 {\n",
       "            width:  100px;\n",
       "        }    #T_775c7a58_1e9e_11eb_bb64_02420a3952bbrow1_col0 {\n",
       "            width:  100px;\n",
       "        }    #T_775c7a58_1e9e_11eb_bb64_02420a3952bbrow1_col1 {\n",
       "            background-color:  #cfe4ef;\n",
       "            color:  #000000;\n",
       "            width:  100px;\n",
       "        }    #T_775c7a58_1e9e_11eb_bb64_02420a3952bbrow1_col2 {\n",
       "            width:  100px;\n",
       "        }    #T_775c7a58_1e9e_11eb_bb64_02420a3952bbrow1_col3 {\n",
       "            width:  100px;\n",
       "        }    #T_775c7a58_1e9e_11eb_bb64_02420a3952bbrow1_col4 {\n",
       "            width:  100px;\n",
       "        }    #T_775c7a58_1e9e_11eb_bb64_02420a3952bbrow1_col5 {\n",
       "            width:  100px;\n",
       "        }    #T_775c7a58_1e9e_11eb_bb64_02420a3952bbrow2_col0 {\n",
       "            width:  100px;\n",
       "        }    #T_775c7a58_1e9e_11eb_bb64_02420a3952bbrow2_col1 {\n",
       "            background-color:  #053061;\n",
       "            color:  #f1f1f1;\n",
       "            width:  100px;\n",
       "        }    #T_775c7a58_1e9e_11eb_bb64_02420a3952bbrow2_col2 {\n",
       "            width:  100px;\n",
       "        }    #T_775c7a58_1e9e_11eb_bb64_02420a3952bbrow2_col3 {\n",
       "            width:  100px;\n",
       "        }    #T_775c7a58_1e9e_11eb_bb64_02420a3952bbrow2_col4 {\n",
       "            width:  100px;\n",
       "        }    #T_775c7a58_1e9e_11eb_bb64_02420a3952bbrow2_col5 {\n",
       "            width:  100px;\n",
       "        }</style><table id=\"T_775c7a58_1e9e_11eb_bb64_02420a3952bb\" ><thead>    <tr>        <th class=\"col_heading level0 col0\" >group</th>        <th class=\"col_heading level0 col1\" >main</th>        <th class=\"col_heading level0 col2\" >offers</th>        <th class=\"col_heading level0 col3\" >cart</th>        <th class=\"col_heading level0 col4\" >payment</th>        <th class=\"col_heading level0 col5\" >pm_conv</th>    </tr></thead><tbody>\n",
       "                <tr>\n",
       "                                <td id=\"T_775c7a58_1e9e_11eb_bb64_02420a3952bbrow0_col0\" class=\"data row0 col0\" >246</td>\n",
       "                        <td id=\"T_775c7a58_1e9e_11eb_bb64_02420a3952bbrow0_col1\" class=\"data row0 col1\" >2450</td>\n",
       "                        <td id=\"T_775c7a58_1e9e_11eb_bb64_02420a3952bbrow0_col2\" class=\"data row0 col2\" >1411</td>\n",
       "                        <td id=\"T_775c7a58_1e9e_11eb_bb64_02420a3952bbrow0_col3\" class=\"data row0 col3\" >584</td>\n",
       "                        <td id=\"T_775c7a58_1e9e_11eb_bb64_02420a3952bbrow0_col4\" class=\"data row0 col4\" >145</td>\n",
       "                        <td id=\"T_775c7a58_1e9e_11eb_bb64_02420a3952bbrow0_col5\" class=\"data row0 col5\" >5.9%</td>\n",
       "            </tr>\n",
       "            <tr>\n",
       "                                <td id=\"T_775c7a58_1e9e_11eb_bb64_02420a3952bbrow1_col0\" class=\"data row1 col0\" >247</td>\n",
       "                        <td id=\"T_775c7a58_1e9e_11eb_bb64_02420a3952bbrow1_col1\" class=\"data row1 col1\" >2476</td>\n",
       "                        <td id=\"T_775c7a58_1e9e_11eb_bb64_02420a3952bbrow1_col2\" class=\"data row1 col2\" >1379</td>\n",
       "                        <td id=\"T_775c7a58_1e9e_11eb_bb64_02420a3952bbrow1_col3\" class=\"data row1 col3\" >600</td>\n",
       "                        <td id=\"T_775c7a58_1e9e_11eb_bb64_02420a3952bbrow1_col4\" class=\"data row1 col4\" >144</td>\n",
       "                        <td id=\"T_775c7a58_1e9e_11eb_bb64_02420a3952bbrow1_col5\" class=\"data row1 col5\" >5.8%</td>\n",
       "            </tr>\n",
       "            <tr>\n",
       "                                <td id=\"T_775c7a58_1e9e_11eb_bb64_02420a3952bbrow2_col0\" class=\"data row2 col0\" >248</td>\n",
       "                        <td id=\"T_775c7a58_1e9e_11eb_bb64_02420a3952bbrow2_col1\" class=\"data row2 col1\" >2493</td>\n",
       "                        <td id=\"T_775c7a58_1e9e_11eb_bb64_02420a3952bbrow2_col2\" class=\"data row2 col2\" >1411</td>\n",
       "                        <td id=\"T_775c7a58_1e9e_11eb_bb64_02420a3952bbrow2_col3\" class=\"data row2 col3\" >583</td>\n",
       "                        <td id=\"T_775c7a58_1e9e_11eb_bb64_02420a3952bbrow2_col4\" class=\"data row2 col4\" >165</td>\n",
       "                        <td id=\"T_775c7a58_1e9e_11eb_bb64_02420a3952bbrow2_col5\" class=\"data row2 col5\" >6.6%</td>\n",
       "            </tr>\n",
       "    </tbody></table>"
      ],
      "text/plain": [
       "<pandas.io.formats.style.Styler at 0x7f73a0d2fad0>"
      ]
     },
     "execution_count": 29,
     "metadata": {},
     "output_type": "execute_result"
    }
   ],
   "source": [
    "#Создаем сводную таблицу, в которой события разнесены по столбцам\n",
    "aa = prd_3.pivot_table(index = ['group','id'], columns = 'event', values = 'datetime', aggfunc = 'min').reset_index()\n",
    "\n",
    "#Считаем количество пользователей посетивших главную страницу в каждой группе\n",
    "group_main =\\\n",
    "aa[aa['Main'].notna()]\\\n",
    ".groupby('group')['id'].count().reset_index()\n",
    "\n",
    "#Считаем количество пользователей совершивших просмотр предложений в каждой группе\n",
    "group_offers =\\\n",
    "aa[aa['Main'].notna() & (aa['Offers'] > aa['Main'])]\\\n",
    ".groupby('group')['id'].count().reset_index()\n",
    "\n",
    "#Считаем количество пользователей дошедших до корзины в каждой группе\n",
    "group_cart =\\\n",
    "aa[aa['Main'].notna() & (aa['Offers'] > aa['Main']) & (aa['Cart'] > aa['Offers'])]\\\n",
    ".groupby('group')['id'].count().reset_index()\n",
    "\n",
    "#Считаем количество пользователей оплативших заказ в каждой группе\n",
    "group_pay =\\\n",
    "aa[aa['Main'].notna() & (aa['Offers'] > aa['Main']) & (aa['Cart'] > aa['Offers']) & (aa['Payment'] > aa['Cart'])]\\\n",
    ".groupby('group')['id'].count().reset_index()\n",
    "\n",
    "#Соберем все данные в единую таблицу\n",
    "conv_by_group = pd.merge(group_main, group_offers, on = 'group')\n",
    "conv_by_group = pd.merge(conv_by_group, group_cart, on = 'group' )\n",
    "conv_by_group = pd.merge(conv_by_group, group_pay, on = 'group' )\n",
    "conv_by_group.columns = ['group','main', 'offers', 'cart', 'payment']\n",
    "\n",
    "#Добавим столбец с конверсией пользователей из просмотра главной страницы в оплату\n",
    "conv_by_group['pm_conv'] = conv_by_group['payment'] / conv_by_group['main']\n",
    "\n",
    "#Форматирование таблицы\n",
    "format_dict = {'pm_conv': '{:.1%}'}\n",
    "conv_by_group\\\n",
    ".style\\\n",
    ".format(format_dict)\\\n",
    ".hide_index()\\\n",
    ".background_gradient(subset=['main'], cmap='RdBu')\\\n",
    ".set_properties(**{'width': '100px'})"
   ]
  },
  {
   "cell_type": "markdown",
   "metadata": {},
   "source": [
    "Для анализа эксперимента мы отсеили только тех пользователей, где не нарушается последовательность событий (т.е. после посещения главной страницы идет страница с рекомендациями, потом добавление в корзину и  оплата)\n",
    "\n",
    "После отсеивания технический сбоев, можем убедиться, что не повляило сильно на размер выборок, количество пользователей в каждой группе по прежнему все еще около 2500 пользователей"
   ]
  },
  {
   "cell_type": "markdown",
   "metadata": {},
   "source": [
    "#### 52. Есть 2 контрольные группы для А/А-эксперимента, чтобы проверить корректность всех механизмов и расчётов. Проверим, находят ли статистические критерии разницу между выборками 246 и 247."
   ]
  },
  {
   "cell_type": "markdown",
   "metadata": {},
   "source": [
    "**Критерии успешного A/A-теста:**\n",
    "- Количество пользователей в различных группах различается не более, чем на 1%;\n",
    "- Для всех групп фиксируют и отправляют в системы аналитики данные об одном и том же;\n",
    "- Различие ключевых метрик по группам не превышает 1% и не имеет статистической значимости;\n",
    "- Попавший в одну из групп посетитель остаётся в этой группе до конца теста. Если пользователь видит разные версии исследуемой страницы в ходе одного исследования, неизвестно, какая именно повлияла на его решения. Значит, и результаты такого теста нельзя интерпретировать однозначно."
   ]
  },
  {
   "cell_type": "code",
   "execution_count": 30,
   "metadata": {},
   "outputs": [
    {
     "data": {
      "text/plain": [
       "-0.00527811611855461"
      ]
     },
     "execution_count": 30,
     "metadata": {},
     "output_type": "execute_result"
    }
   ],
   "source": [
    "a1_pays = conv_by_group[conv_by_group['group'] == 246]['payment'].sum()\n",
    "a2_pays = conv_by_group[conv_by_group['group'] == 247]['payment'].sum()\n",
    "\n",
    "a1_visits = conv_by_group[conv_by_group['group'] == 246]['main'].sum()\n",
    "a2_visits = conv_by_group[conv_by_group['group'] == 247]['main'].sum()\n",
    "\n",
    "(a1_visits / (a1_visits+ a2_visits)) - (a2_visits / (a1_visits+ a2_visits))"
   ]
  },
  {
   "cell_type": "markdown",
   "metadata": {},
   "source": [
    "**Все четыре критерия соблюдены:**\n",
    "- Количестов пользователей отличается менее, чем на 1%\n",
    "- Данные об одном и том же (покупки)\n",
    "- Различие ключевых метрик менее 1% (конверсия в оплату 5,8 и 5,9) \n",
    "- Проверили в самом начале работы, что пользователи до конца эксперимента остаются в своих группах"
   ]
  },
  {
   "cell_type": "markdown",
   "metadata": {},
   "source": [
    "Проверим, существует ли стат значимые различия между конверсиями контрольных групп"
   ]
  },
  {
   "cell_type": "markdown",
   "metadata": {},
   "source": [
    "Сформулируем гипотезы: \n",
    "\n",
    "- **Нулевая гипотеза:** различий между конверсиями контрольных групп нет\n",
    "- **Альтернативная гипотеза:** имеются статистически значимые различия между конверсиями контрольных групп\n",
    "\n",
    "Для проверки гипотез о равенстве конверсии используем z-тест\n",
    "\n",
    "Уровень стат значимости задаем 0.5"
   ]
  },
  {
   "cell_type": "code",
   "execution_count": 31,
   "metadata": {},
   "outputs": [
    {
     "name": "stdout",
     "output_type": "stream",
     "text": [
      "p-значение:  0.8783092501812453\n",
      "Не получилось отвергнуть нулевую гипотезу, нет оснований считать конверсии групп разными\n"
     ]
    }
   ],
   "source": [
    "#задаем критический уровень статистической значимости\n",
    "alpha = .05\n",
    "\n",
    "pays = np.array([a1_pays, a2_pays])\n",
    "visits = np.array([a1_visits, a2_visits])\n",
    "\n",
    "# пропорция покупок в группе a1 (246):\n",
    "p1 = pays[0]/visits[0]\n",
    "\n",
    "# пропорция покупок в группе a2 (247):\n",
    "p2 = pays[1]/visits[1]\n",
    "\n",
    "# пропорция успехов в комбинированном датасете:\n",
    "p_combined = (pays[0] + pays[1]) / (visits[0] + visits[1])\n",
    "\n",
    "# разница пропорций в датасетах\n",
    "difference = p1 - p2 \n",
    "\n",
    "# считаем статистику в ст.отклонениях стандартного нормального распределения\n",
    "z_value = difference / mth.sqrt(p_combined * (1 - p_combined) * (1/visits[0] + 1/visits[1]))\n",
    "\n",
    "# задаем стандартное нормальное распределение (среднее 0, ст.отклонение 1)\n",
    "distr = st.norm(0, 1) \n",
    "\n",
    "p_value = (1 - distr.cdf(abs(z_value))) * 2\n",
    "\n",
    "print('p-значение: ', p_value)\n",
    "\n",
    "if (p_value < alpha):\n",
    "    print(\"Отвергаем нулевую гипотезу: между конверсиями групп есть значимая разница\")\n",
    "else:\n",
    "    print(\"Не получилось отвергнуть нулевую гипотезу, нет оснований считать конверсии групп разными\") "
   ]
  },
  {
   "cell_type": "markdown",
   "metadata": {},
   "source": [
    "Видим, что вероятность случайно получить различие между конверсиями двух контрольных групп - почти 88%. Следовательно у нас нет никаких оснований считать конверсии групп разными"
   ]
  },
  {
   "cell_type": "markdown",
   "metadata": {},
   "source": [
    "#### 53. Посчитайте число пользователей, совершивших событие в каждой из контрольных групп. Посчитаем долю пользователей, совершивших это событие. Проверим, будет ли отличие между группами статистически достоверным. Можно ли сказать, что разбиение на группы работает корректно?"
   ]
  },
  {
   "cell_type": "code",
   "execution_count": 32,
   "metadata": {},
   "outputs": [
    {
     "data": {
      "text/html": [
       "<style  type=\"text/css\" >\n",
       "    #T_77715162_1e9e_11eb_bb64_02420a3952bbrow0_col0 {\n",
       "            width:  100px;\n",
       "        }    #T_77715162_1e9e_11eb_bb64_02420a3952bbrow0_col1 {\n",
       "            width:  100px;\n",
       "        }    #T_77715162_1e9e_11eb_bb64_02420a3952bbrow0_col2 {\n",
       "            background-color:  #67001f;\n",
       "            color:  #f1f1f1;\n",
       "            width:  100px;\n",
       "        }    #T_77715162_1e9e_11eb_bb64_02420a3952bbrow0_col3 {\n",
       "            width:  100px;\n",
       "        }    #T_77715162_1e9e_11eb_bb64_02420a3952bbrow0_col4 {\n",
       "            background-color:  #053061;\n",
       "            color:  #f1f1f1;\n",
       "            width:  100px;\n",
       "        }    #T_77715162_1e9e_11eb_bb64_02420a3952bbrow0_col5 {\n",
       "            width:  100px;\n",
       "        }    #T_77715162_1e9e_11eb_bb64_02420a3952bbrow0_col6 {\n",
       "            background-color:  #67001f;\n",
       "            color:  #f1f1f1;\n",
       "            width:  100px;\n",
       "        }    #T_77715162_1e9e_11eb_bb64_02420a3952bbrow0_col7 {\n",
       "            width:  100px;\n",
       "        }    #T_77715162_1e9e_11eb_bb64_02420a3952bbrow0_col8 {\n",
       "            background-color:  #053061;\n",
       "            color:  #f1f1f1;\n",
       "            width:  100px;\n",
       "        }    #T_77715162_1e9e_11eb_bb64_02420a3952bbrow1_col0 {\n",
       "            width:  100px;\n",
       "        }    #T_77715162_1e9e_11eb_bb64_02420a3952bbrow1_col1 {\n",
       "            width:  100px;\n",
       "        }    #T_77715162_1e9e_11eb_bb64_02420a3952bbrow1_col2 {\n",
       "            background-color:  #67001f;\n",
       "            color:  #f1f1f1;\n",
       "            width:  100px;\n",
       "        }    #T_77715162_1e9e_11eb_bb64_02420a3952bbrow1_col3 {\n",
       "            width:  100px;\n",
       "        }    #T_77715162_1e9e_11eb_bb64_02420a3952bbrow1_col4 {\n",
       "            background-color:  #67001f;\n",
       "            color:  #f1f1f1;\n",
       "            width:  100px;\n",
       "        }    #T_77715162_1e9e_11eb_bb64_02420a3952bbrow1_col5 {\n",
       "            width:  100px;\n",
       "        }    #T_77715162_1e9e_11eb_bb64_02420a3952bbrow1_col6 {\n",
       "            background-color:  #053061;\n",
       "            color:  #f1f1f1;\n",
       "            width:  100px;\n",
       "        }    #T_77715162_1e9e_11eb_bb64_02420a3952bbrow1_col7 {\n",
       "            width:  100px;\n",
       "        }    #T_77715162_1e9e_11eb_bb64_02420a3952bbrow1_col8 {\n",
       "            background-color:  #67001f;\n",
       "            color:  #f1f1f1;\n",
       "            width:  100px;\n",
       "        }</style><table id=\"T_77715162_1e9e_11eb_bb64_02420a3952bb\" ><thead>    <tr>        <th class=\"col_heading level0 col0\" >group</th>        <th class=\"col_heading level0 col1\" >main</th>        <th class=\"col_heading level0 col2\" >main%</th>        <th class=\"col_heading level0 col3\" >offers</th>        <th class=\"col_heading level0 col4\" >offers%</th>        <th class=\"col_heading level0 col5\" >cart</th>        <th class=\"col_heading level0 col6\" >cart%</th>        <th class=\"col_heading level0 col7\" >payment</th>        <th class=\"col_heading level0 col8\" >payment%</th>    </tr></thead><tbody>\n",
       "                <tr>\n",
       "                                <td id=\"T_77715162_1e9e_11eb_bb64_02420a3952bbrow0_col0\" class=\"data row0 col0\" >246</td>\n",
       "                        <td id=\"T_77715162_1e9e_11eb_bb64_02420a3952bbrow0_col1\" class=\"data row0 col1\" >2450</td>\n",
       "                        <td id=\"T_77715162_1e9e_11eb_bb64_02420a3952bbrow0_col2\" class=\"data row0 col2\" >100.0%</td>\n",
       "                        <td id=\"T_77715162_1e9e_11eb_bb64_02420a3952bbrow0_col3\" class=\"data row0 col3\" >1411</td>\n",
       "                        <td id=\"T_77715162_1e9e_11eb_bb64_02420a3952bbrow0_col4\" class=\"data row0 col4\" >57.6%</td>\n",
       "                        <td id=\"T_77715162_1e9e_11eb_bb64_02420a3952bbrow0_col5\" class=\"data row0 col5\" >584</td>\n",
       "                        <td id=\"T_77715162_1e9e_11eb_bb64_02420a3952bbrow0_col6\" class=\"data row0 col6\" >23.8%</td>\n",
       "                        <td id=\"T_77715162_1e9e_11eb_bb64_02420a3952bbrow0_col7\" class=\"data row0 col7\" >145</td>\n",
       "                        <td id=\"T_77715162_1e9e_11eb_bb64_02420a3952bbrow0_col8\" class=\"data row0 col8\" >5.9%</td>\n",
       "            </tr>\n",
       "            <tr>\n",
       "                                <td id=\"T_77715162_1e9e_11eb_bb64_02420a3952bbrow1_col0\" class=\"data row1 col0\" >247</td>\n",
       "                        <td id=\"T_77715162_1e9e_11eb_bb64_02420a3952bbrow1_col1\" class=\"data row1 col1\" >2476</td>\n",
       "                        <td id=\"T_77715162_1e9e_11eb_bb64_02420a3952bbrow1_col2\" class=\"data row1 col2\" >100.0%</td>\n",
       "                        <td id=\"T_77715162_1e9e_11eb_bb64_02420a3952bbrow1_col3\" class=\"data row1 col3\" >1379</td>\n",
       "                        <td id=\"T_77715162_1e9e_11eb_bb64_02420a3952bbrow1_col4\" class=\"data row1 col4\" >55.7%</td>\n",
       "                        <td id=\"T_77715162_1e9e_11eb_bb64_02420a3952bbrow1_col5\" class=\"data row1 col5\" >600</td>\n",
       "                        <td id=\"T_77715162_1e9e_11eb_bb64_02420a3952bbrow1_col6\" class=\"data row1 col6\" >24.2%</td>\n",
       "                        <td id=\"T_77715162_1e9e_11eb_bb64_02420a3952bbrow1_col7\" class=\"data row1 col7\" >144</td>\n",
       "                        <td id=\"T_77715162_1e9e_11eb_bb64_02420a3952bbrow1_col8\" class=\"data row1 col8\" >5.8%</td>\n",
       "            </tr>\n",
       "    </tbody></table>"
      ],
      "text/plain": [
       "<pandas.io.formats.style.Styler at 0x7f73e55def90>"
      ]
     },
     "execution_count": 32,
     "metadata": {},
     "output_type": "execute_result"
    }
   ],
   "source": [
    "#Создадим таблицу с данными конверсии только по контрольным группам и посчитаем долю пользователей в каждом из событии\n",
    "conv_by_group_pct = conv_by_group.query('group != 248').copy()\n",
    "conv_by_group_pct['main%'] = conv_by_group_pct['main'] / conv_by_group_pct['main']\n",
    "conv_by_group_pct['offers%'] = conv_by_group_pct['offers'] / conv_by_group_pct['main']\n",
    "conv_by_group_pct['cart%'] = conv_by_group_pct['cart'] / conv_by_group_pct['main']\n",
    "conv_by_group_pct['payment%'] = conv_by_group_pct['payment'] / conv_by_group_pct['main']\n",
    "conv_by_group_pct = conv_by_group_pct[['group','main','main%','offers','offers%','cart','cart%','payment','payment%',]]\n",
    "\n",
    "#Форматирование таблицы\n",
    "format_dict = {'pm_conv': '{:.1%}','main%': '{:.1%}','offers%': '{:.1%}','cart%': '{:.1%}','payment%': '{:.1%}'}\n",
    "conv_by_group_pct\\\n",
    ".style\\\n",
    ".format(format_dict)\\\n",
    ".hide_index()\\\n",
    ".background_gradient(subset=['main%','offers%','cart%','payment%'], cmap='RdBu')\\\n",
    ".set_properties(**{'width': '100px'})"
   ]
  },
  {
   "cell_type": "markdown",
   "metadata": {},
   "source": [
    "Сформулируем гипотезы:\n",
    "\n",
    "- **Нулевая гипотеза:** различий между конверсиями на определнном событии среди контрольных групп нет\n",
    "- **Альтернативная гипотеза:** имеются статистически значимые различия между конверсиями на определнном событии среди контрольных групп\n",
    "\n",
    "Для проверки гипотез о равенстве пропорций используем z-тест\n",
    "\n",
    "Уровень стат значимости задаем 0.5"
   ]
  },
  {
   "cell_type": "code",
   "execution_count": 33,
   "metadata": {},
   "outputs": [],
   "source": [
    "#Создадим функцию для перебора событий\n",
    "def subs(xxx):\n",
    "    xxx_part1 = conv_by_group_pct[xxx][0] \n",
    "    xxx_part2 = conv_by_group_pct[xxx][1] \n",
    "    xxx_total1 = conv_by_group_pct['main'][0]\n",
    "    xxx_total2 = conv_by_group_pct['main'][1]\n",
    "\n",
    "    parts = np.array([xxx_part1, xxx_part2])\n",
    "    totals = np.array([xxx_total1, xxx_total2])\n",
    "    \n",
    "    p1 = parts[0]/totals[0]\n",
    "    p2 = parts[1]/totals[1]\n",
    "    p_combined = (parts[0] + parts[1]) / (totals[0] + totals[1])\n",
    "    difference = p1 - p2 \n",
    "    \n",
    "    alpha = .05\n",
    "    \n",
    "    z_value = difference / mth.sqrt(p_combined * (1 - p_combined) * (1/totals[0] + 1/totals[1]))\n",
    "    distr = st.norm(0, 1) \n",
    "    p_value = ((1 - distr.cdf(abs(z_value))) * 2).round(3)\n",
    "    print('p-значение: ', p_value)\n",
    "    \n",
    "    if (p_value < alpha):\n",
    "        print(\"Отвергаем нулевую гипотезу: между пропорциями групп в событии\",xxx,\"нет разницы\")\n",
    "    else:\n",
    "        print(\"Не получилось отвергнуть нулевую гипотезу, нет оснований считать пропорции групп в событии\",xxx,\"разными\") "
   ]
  },
  {
   "cell_type": "code",
   "execution_count": 34,
   "metadata": {
    "scrolled": true
   },
   "outputs": [
    {
     "name": "stdout",
     "output_type": "stream",
     "text": [
      "p-значение:  0.179\n",
      "Не получилось отвергнуть нулевую гипотезу, нет оснований считать пропорции групп в событии offers разными\n",
      "None\n",
      "p-значение:  0.745\n",
      "Не получилось отвергнуть нулевую гипотезу, нет оснований считать пропорции групп в событии cart разными\n",
      "None\n",
      "p-значение:  0.878\n",
      "Не получилось отвергнуть нулевую гипотезу, нет оснований считать пропорции групп в событии payment разными\n",
      "None\n"
     ]
    }
   ],
   "source": [
    "#Создадим список возможных событий, который будем перебирать циклом\n",
    "event_list = ['offers','cart','payment']\n",
    "\n",
    "#Собственно, цикл )\n",
    "for i in event_list:\n",
    "    print(subs(i))"
   ]
  },
  {
   "cell_type": "markdown",
   "metadata": {},
   "source": [
    "Исходя из проверок статистических гипотез мы можем сделать вывод, что разбивка на группы прошла корректно"
   ]
  },
  {
   "cell_type": "markdown",
   "metadata": {},
   "source": [
    "#### 54. Аналогично поступим с группой с изменённым шрифтом. Сравним результаты с каждой из контрольных групп в отдельности по каждому событию. Сравним результаты с объединённой контрольной группой. Какие выводы из эксперимента можно сделать?"
   ]
  },
  {
   "cell_type": "code",
   "execution_count": 35,
   "metadata": {},
   "outputs": [
    {
     "data": {
      "text/html": [
       "<style  type=\"text/css\" >\n",
       "    #T_77831f78_1e9e_11eb_bb64_02420a3952bbrow0_col0 {\n",
       "            width:  100px;\n",
       "        }    #T_77831f78_1e9e_11eb_bb64_02420a3952bbrow0_col1 {\n",
       "            width:  100px;\n",
       "        }    #T_77831f78_1e9e_11eb_bb64_02420a3952bbrow0_col2 {\n",
       "            background-color:  #67001f;\n",
       "            color:  #f1f1f1;\n",
       "            width:  100px;\n",
       "        }    #T_77831f78_1e9e_11eb_bb64_02420a3952bbrow0_col3 {\n",
       "            width:  100px;\n",
       "        }    #T_77831f78_1e9e_11eb_bb64_02420a3952bbrow0_col4 {\n",
       "            background-color:  #053061;\n",
       "            color:  #f1f1f1;\n",
       "            width:  100px;\n",
       "        }    #T_77831f78_1e9e_11eb_bb64_02420a3952bbrow0_col5 {\n",
       "            width:  100px;\n",
       "        }    #T_77831f78_1e9e_11eb_bb64_02420a3952bbrow0_col6 {\n",
       "            background-color:  #eaf1f5;\n",
       "            color:  #000000;\n",
       "            width:  100px;\n",
       "        }    #T_77831f78_1e9e_11eb_bb64_02420a3952bbrow0_col7 {\n",
       "            width:  100px;\n",
       "        }    #T_77831f78_1e9e_11eb_bb64_02420a3952bbrow0_col8 {\n",
       "            background-color:  #bb2a34;\n",
       "            color:  #f1f1f1;\n",
       "            width:  100px;\n",
       "        }    #T_77831f78_1e9e_11eb_bb64_02420a3952bbrow1_col0 {\n",
       "            width:  100px;\n",
       "        }    #T_77831f78_1e9e_11eb_bb64_02420a3952bbrow1_col1 {\n",
       "            width:  100px;\n",
       "        }    #T_77831f78_1e9e_11eb_bb64_02420a3952bbrow1_col2 {\n",
       "            background-color:  #67001f;\n",
       "            color:  #f1f1f1;\n",
       "            width:  100px;\n",
       "        }    #T_77831f78_1e9e_11eb_bb64_02420a3952bbrow1_col3 {\n",
       "            width:  100px;\n",
       "        }    #T_77831f78_1e9e_11eb_bb64_02420a3952bbrow1_col4 {\n",
       "            background-color:  #67001f;\n",
       "            color:  #f1f1f1;\n",
       "            width:  100px;\n",
       "        }    #T_77831f78_1e9e_11eb_bb64_02420a3952bbrow1_col5 {\n",
       "            width:  100px;\n",
       "        }    #T_77831f78_1e9e_11eb_bb64_02420a3952bbrow1_col6 {\n",
       "            background-color:  #053061;\n",
       "            color:  #f1f1f1;\n",
       "            width:  100px;\n",
       "        }    #T_77831f78_1e9e_11eb_bb64_02420a3952bbrow1_col7 {\n",
       "            width:  100px;\n",
       "        }    #T_77831f78_1e9e_11eb_bb64_02420a3952bbrow1_col8 {\n",
       "            background-color:  #67001f;\n",
       "            color:  #f1f1f1;\n",
       "            width:  100px;\n",
       "        }    #T_77831f78_1e9e_11eb_bb64_02420a3952bbrow2_col0 {\n",
       "            width:  100px;\n",
       "        }    #T_77831f78_1e9e_11eb_bb64_02420a3952bbrow2_col1 {\n",
       "            width:  100px;\n",
       "        }    #T_77831f78_1e9e_11eb_bb64_02420a3952bbrow2_col2 {\n",
       "            background-color:  #67001f;\n",
       "            color:  #f1f1f1;\n",
       "            width:  100px;\n",
       "        }    #T_77831f78_1e9e_11eb_bb64_02420a3952bbrow2_col3 {\n",
       "            width:  100px;\n",
       "        }    #T_77831f78_1e9e_11eb_bb64_02420a3952bbrow2_col4 {\n",
       "            background-color:  #f9f0eb;\n",
       "            color:  #000000;\n",
       "            width:  100px;\n",
       "        }    #T_77831f78_1e9e_11eb_bb64_02420a3952bbrow2_col5 {\n",
       "            width:  100px;\n",
       "        }    #T_77831f78_1e9e_11eb_bb64_02420a3952bbrow2_col6 {\n",
       "            background-color:  #67001f;\n",
       "            color:  #f1f1f1;\n",
       "            width:  100px;\n",
       "        }    #T_77831f78_1e9e_11eb_bb64_02420a3952bbrow2_col7 {\n",
       "            width:  100px;\n",
       "        }    #T_77831f78_1e9e_11eb_bb64_02420a3952bbrow2_col8 {\n",
       "            background-color:  #053061;\n",
       "            color:  #f1f1f1;\n",
       "            width:  100px;\n",
       "        }</style><table id=\"T_77831f78_1e9e_11eb_bb64_02420a3952bb\" ><thead>    <tr>        <th class=\"col_heading level0 col0\" >group</th>        <th class=\"col_heading level0 col1\" >main</th>        <th class=\"col_heading level0 col2\" >main%</th>        <th class=\"col_heading level0 col3\" >offers</th>        <th class=\"col_heading level0 col4\" >offers%</th>        <th class=\"col_heading level0 col5\" >cart</th>        <th class=\"col_heading level0 col6\" >cart%</th>        <th class=\"col_heading level0 col7\" >payment</th>        <th class=\"col_heading level0 col8\" >payment%</th>    </tr></thead><tbody>\n",
       "                <tr>\n",
       "                                <td id=\"T_77831f78_1e9e_11eb_bb64_02420a3952bbrow0_col0\" class=\"data row0 col0\" >246</td>\n",
       "                        <td id=\"T_77831f78_1e9e_11eb_bb64_02420a3952bbrow0_col1\" class=\"data row0 col1\" >2450</td>\n",
       "                        <td id=\"T_77831f78_1e9e_11eb_bb64_02420a3952bbrow0_col2\" class=\"data row0 col2\" >100.0%</td>\n",
       "                        <td id=\"T_77831f78_1e9e_11eb_bb64_02420a3952bbrow0_col3\" class=\"data row0 col3\" >1411</td>\n",
       "                        <td id=\"T_77831f78_1e9e_11eb_bb64_02420a3952bbrow0_col4\" class=\"data row0 col4\" >57.6%</td>\n",
       "                        <td id=\"T_77831f78_1e9e_11eb_bb64_02420a3952bbrow0_col5\" class=\"data row0 col5\" >584</td>\n",
       "                        <td id=\"T_77831f78_1e9e_11eb_bb64_02420a3952bbrow0_col6\" class=\"data row0 col6\" >23.8%</td>\n",
       "                        <td id=\"T_77831f78_1e9e_11eb_bb64_02420a3952bbrow0_col7\" class=\"data row0 col7\" >145</td>\n",
       "                        <td id=\"T_77831f78_1e9e_11eb_bb64_02420a3952bbrow0_col8\" class=\"data row0 col8\" >5.9%</td>\n",
       "            </tr>\n",
       "            <tr>\n",
       "                                <td id=\"T_77831f78_1e9e_11eb_bb64_02420a3952bbrow1_col0\" class=\"data row1 col0\" >247</td>\n",
       "                        <td id=\"T_77831f78_1e9e_11eb_bb64_02420a3952bbrow1_col1\" class=\"data row1 col1\" >2476</td>\n",
       "                        <td id=\"T_77831f78_1e9e_11eb_bb64_02420a3952bbrow1_col2\" class=\"data row1 col2\" >100.0%</td>\n",
       "                        <td id=\"T_77831f78_1e9e_11eb_bb64_02420a3952bbrow1_col3\" class=\"data row1 col3\" >1379</td>\n",
       "                        <td id=\"T_77831f78_1e9e_11eb_bb64_02420a3952bbrow1_col4\" class=\"data row1 col4\" >55.7%</td>\n",
       "                        <td id=\"T_77831f78_1e9e_11eb_bb64_02420a3952bbrow1_col5\" class=\"data row1 col5\" >600</td>\n",
       "                        <td id=\"T_77831f78_1e9e_11eb_bb64_02420a3952bbrow1_col6\" class=\"data row1 col6\" >24.2%</td>\n",
       "                        <td id=\"T_77831f78_1e9e_11eb_bb64_02420a3952bbrow1_col7\" class=\"data row1 col7\" >144</td>\n",
       "                        <td id=\"T_77831f78_1e9e_11eb_bb64_02420a3952bbrow1_col8\" class=\"data row1 col8\" >5.8%</td>\n",
       "            </tr>\n",
       "            <tr>\n",
       "                                <td id=\"T_77831f78_1e9e_11eb_bb64_02420a3952bbrow2_col0\" class=\"data row2 col0\" >248</td>\n",
       "                        <td id=\"T_77831f78_1e9e_11eb_bb64_02420a3952bbrow2_col1\" class=\"data row2 col1\" >2493</td>\n",
       "                        <td id=\"T_77831f78_1e9e_11eb_bb64_02420a3952bbrow2_col2\" class=\"data row2 col2\" >100.0%</td>\n",
       "                        <td id=\"T_77831f78_1e9e_11eb_bb64_02420a3952bbrow2_col3\" class=\"data row2 col3\" >1411</td>\n",
       "                        <td id=\"T_77831f78_1e9e_11eb_bb64_02420a3952bbrow2_col4\" class=\"data row2 col4\" >56.6%</td>\n",
       "                        <td id=\"T_77831f78_1e9e_11eb_bb64_02420a3952bbrow2_col5\" class=\"data row2 col5\" >583</td>\n",
       "                        <td id=\"T_77831f78_1e9e_11eb_bb64_02420a3952bbrow2_col6\" class=\"data row2 col6\" >23.4%</td>\n",
       "                        <td id=\"T_77831f78_1e9e_11eb_bb64_02420a3952bbrow2_col7\" class=\"data row2 col7\" >165</td>\n",
       "                        <td id=\"T_77831f78_1e9e_11eb_bb64_02420a3952bbrow2_col8\" class=\"data row2 col8\" >6.6%</td>\n",
       "            </tr>\n",
       "    </tbody></table>"
      ],
      "text/plain": [
       "<pandas.io.formats.style.Styler at 0x7f73e4c390d0>"
      ]
     },
     "execution_count": 35,
     "metadata": {},
     "output_type": "execute_result"
    }
   ],
   "source": [
    "#Создадим таблицу с данными конверсии только по контрольным группам и посчитаем долю пользователей в каждом из событий\n",
    "conv_by_group['main%'] = conv_by_group['main'] / conv_by_group['main']\n",
    "conv_by_group['offers%'] = conv_by_group['offers'] / conv_by_group['main']\n",
    "conv_by_group['cart%'] = conv_by_group['cart'] / conv_by_group['main']\n",
    "conv_by_group['payment%'] = conv_by_group['payment'] / conv_by_group['main']\n",
    "conv_by_group = conv_by_group[['group','main','main%','offers','offers%','cart','cart%','payment','payment%',]]\n",
    "\n",
    "#Форматирование таблицы\n",
    "format_dict = {'pm_conv': '{:.1%}','main%': '{:.1%}','offers%': '{:.1%}','cart%': '{:.1%}','payment%': '{:.1%}'}\n",
    "conv_by_group\\\n",
    ".style\\\n",
    ".format(format_dict)\\\n",
    ".hide_index()\\\n",
    ".background_gradient(subset=['main%','offers%','cart%','payment%'], cmap='RdBu')\\\n",
    ".set_properties(**{'width': '100px'})"
   ]
  },
  {
   "cell_type": "markdown",
   "metadata": {},
   "source": [
    "Сравним результаты с каждой из контрольных групп в отдельности по каждому событию\n",
    "\n",
    "Сформулируем гипотезы:\n",
    "\n",
    "- **Нулевая гипотеза:** различий конверсий на соответсвующих событиях между контрольными и экспериментальной группами нет\n",
    "- **Альтернативная гипотеза:** имеются статистически значимые различия конверсий на соответсвующих событиях между контрольными и экспериментальной группами\n",
    "\n",
    "Для проверки гипотез о равенстве конверсии используем z-тест\n",
    "\n",
    "Уровень стат значимости задаем 0.5"
   ]
  },
  {
   "cell_type": "code",
   "execution_count": 36,
   "metadata": {},
   "outputs": [],
   "source": [
    "#Создадим функцию для перебора событий\n",
    "def subs2(xxx, group1, group2):\n",
    "    xxx_part1 = conv_by_group[xxx][group1] \n",
    "    xxx_part2 = conv_by_group[xxx][group2] \n",
    "    xxx_total1 = conv_by_group['main'][group1]\n",
    "    xxx_total2 = conv_by_group['main'][group2]\n",
    "\n",
    "    parts = np.array([xxx_part1, xxx_part2])\n",
    "    totals = np.array([xxx_total1, xxx_total2])\n",
    "    \n",
    "    p1 = parts[0]/totals[0]\n",
    "    p2 = parts[1]/totals[1]\n",
    "    p_combined = (parts[0] + parts[1]) / (totals[0] + totals[1])\n",
    "    difference = p1 - p2 \n",
    "    \n",
    "    alpha = .05\n",
    "    \n",
    "    z_value = difference / mth.sqrt(p_combined * (1 - p_combined) * (1/totals[0] + 1/totals[1]))\n",
    "    distr = st.norm(0, 1) \n",
    "    p_value = ((1 - distr.cdf(abs(z_value))) * 2).round(3)\n",
    "    \n",
    "    print('p-значение: ', p_value)\n",
    "    \n",
    "    if (p_value < alpha):\n",
    "        print(\"Отвергаем нулевую гипотезу: между пропорциями групп\",group1,\"и\",group2,\"в событии\",xxx,\"нет разницы\")\n",
    "    else:\n",
    "        print(\"Не получилось отвергнуть нулевую гипотезу, нет оснований считать пропорции групп \",group1,\"и\",group2,\"в событии\",xxx,\"разными\")\n",
    "        "
   ]
  },
  {
   "cell_type": "code",
   "execution_count": 37,
   "metadata": {},
   "outputs": [
    {
     "name": "stdout",
     "output_type": "stream",
     "text": [
      "offers\n",
      "p-значение:  0.48\n",
      "Не получилось отвергнуть нулевую гипотезу, нет оснований считать пропорции групп  0 и 2 в событии offers разными\n",
      "p-значение:  0.521\n",
      "Не получилось отвергнуть нулевую гипотезу, нет оснований считать пропорции групп  1 и 2 в событии offers разными\n",
      "None\n",
      "\n",
      "cart\n",
      "p-значение:  0.709\n",
      "Не получилось отвергнуть нулевую гипотезу, нет оснований считать пропорции групп  0 и 2 в событии cart разными\n",
      "p-значение:  0.483\n",
      "Не получилось отвергнуть нулевую гипотезу, нет оснований считать пропорции групп  1 и 2 в событии cart разными\n",
      "None\n",
      "\n",
      "payment\n",
      "p-значение:  0.31\n",
      "Не получилось отвергнуть нулевую гипотезу, нет оснований считать пропорции групп  0 и 2 в событии payment разными\n",
      "p-значение:  0.241\n",
      "Не получилось отвергнуть нулевую гипотезу, нет оснований считать пропорции групп  1 и 2 в событии payment разными\n",
      "None\n",
      "\n"
     ]
    }
   ],
   "source": [
    "def subs3(event):\n",
    "    \n",
    "    group_246 = 0\n",
    "    group_247 = 1\n",
    "    group_248 = 2\n",
    "    \n",
    "    print(event)\n",
    "    subs2(event, group_246 , group_248)\n",
    "    subs2(event, group_247 , group_248)\n",
    "\n",
    "#И еще один цикл\n",
    "for i in event_list:\n",
    "    print(subs3(i))\n",
    "    print()"
   ]
  },
  {
   "cell_type": "markdown",
   "metadata": {},
   "source": [
    "Сравним результаты с объединённой контрольной группой\n",
    "\n",
    "Сформулируем гипотезы:\n",
    "\n",
    "- **Нулевая гипотеза:** различий конверсий на соответсвующих событиях между объединённой контрольной и экспериментальной группами нет\n",
    "- **Альтернативная гипотеза:** имеются статистически значимые различия конверсий на соответсвующих событиях между объединённой контрольной и экспериментальной группами\n",
    "\n",
    "Для проверки гипотез о равенстве конверсии используем z-тест\n",
    "\n",
    "Уровень стат значимости задаем 0.1, применим поправку Бонферрони. уровень значимости (0,05) делим на  / 0,5 так как мы объеденили  контрольную группу и вероятность ошибки первого рода уменьшится, значит порог стат значимости можно повысить"
   ]
  },
  {
   "cell_type": "code",
   "execution_count": 38,
   "metadata": {
    "scrolled": true
   },
   "outputs": [
    {
     "data": {
      "text/html": [
       "<style  type=\"text/css\" >\n",
       "    #T_779d6a22_1e9e_11eb_bb64_02420a3952bbrow0_col0 {\n",
       "            width:  100px;\n",
       "        }    #T_779d6a22_1e9e_11eb_bb64_02420a3952bbrow0_col1 {\n",
       "            width:  100px;\n",
       "        }    #T_779d6a22_1e9e_11eb_bb64_02420a3952bbrow0_col2 {\n",
       "            background-color:  #67001f;\n",
       "            color:  #f1f1f1;\n",
       "            width:  100px;\n",
       "        }    #T_779d6a22_1e9e_11eb_bb64_02420a3952bbrow0_col3 {\n",
       "            width:  100px;\n",
       "        }    #T_779d6a22_1e9e_11eb_bb64_02420a3952bbrow0_col4 {\n",
       "            background-color:  #67001f;\n",
       "            color:  #f1f1f1;\n",
       "            width:  100px;\n",
       "        }    #T_779d6a22_1e9e_11eb_bb64_02420a3952bbrow0_col5 {\n",
       "            width:  100px;\n",
       "        }    #T_779d6a22_1e9e_11eb_bb64_02420a3952bbrow0_col6 {\n",
       "            background-color:  #67001f;\n",
       "            color:  #f1f1f1;\n",
       "            width:  100px;\n",
       "        }    #T_779d6a22_1e9e_11eb_bb64_02420a3952bbrow0_col7 {\n",
       "            width:  100px;\n",
       "        }    #T_779d6a22_1e9e_11eb_bb64_02420a3952bbrow0_col8 {\n",
       "            background-color:  #053061;\n",
       "            color:  #f1f1f1;\n",
       "            width:  100px;\n",
       "        }    #T_779d6a22_1e9e_11eb_bb64_02420a3952bbrow1_col0 {\n",
       "            width:  100px;\n",
       "        }    #T_779d6a22_1e9e_11eb_bb64_02420a3952bbrow1_col1 {\n",
       "            width:  100px;\n",
       "        }    #T_779d6a22_1e9e_11eb_bb64_02420a3952bbrow1_col2 {\n",
       "            background-color:  #67001f;\n",
       "            color:  #f1f1f1;\n",
       "            width:  100px;\n",
       "        }    #T_779d6a22_1e9e_11eb_bb64_02420a3952bbrow1_col3 {\n",
       "            width:  100px;\n",
       "        }    #T_779d6a22_1e9e_11eb_bb64_02420a3952bbrow1_col4 {\n",
       "            background-color:  #053061;\n",
       "            color:  #f1f1f1;\n",
       "            width:  100px;\n",
       "        }    #T_779d6a22_1e9e_11eb_bb64_02420a3952bbrow1_col5 {\n",
       "            width:  100px;\n",
       "        }    #T_779d6a22_1e9e_11eb_bb64_02420a3952bbrow1_col6 {\n",
       "            background-color:  #053061;\n",
       "            color:  #f1f1f1;\n",
       "            width:  100px;\n",
       "        }    #T_779d6a22_1e9e_11eb_bb64_02420a3952bbrow1_col7 {\n",
       "            width:  100px;\n",
       "        }    #T_779d6a22_1e9e_11eb_bb64_02420a3952bbrow1_col8 {\n",
       "            background-color:  #67001f;\n",
       "            color:  #f1f1f1;\n",
       "            width:  100px;\n",
       "        }</style><table id=\"T_779d6a22_1e9e_11eb_bb64_02420a3952bb\" ><thead>    <tr>        <th class=\"col_heading level0 col0\" >group</th>        <th class=\"col_heading level0 col1\" >main</th>        <th class=\"col_heading level0 col2\" >main%</th>        <th class=\"col_heading level0 col3\" >offers</th>        <th class=\"col_heading level0 col4\" >offers%</th>        <th class=\"col_heading level0 col5\" >cart</th>        <th class=\"col_heading level0 col6\" >cart%</th>        <th class=\"col_heading level0 col7\" >payment</th>        <th class=\"col_heading level0 col8\" >payment%</th>    </tr></thead><tbody>\n",
       "                <tr>\n",
       "                                <td id=\"T_779d6a22_1e9e_11eb_bb64_02420a3952bbrow0_col0\" class=\"data row0 col0\" >248</td>\n",
       "                        <td id=\"T_779d6a22_1e9e_11eb_bb64_02420a3952bbrow0_col1\" class=\"data row0 col1\" >2493</td>\n",
       "                        <td id=\"T_779d6a22_1e9e_11eb_bb64_02420a3952bbrow0_col2\" class=\"data row0 col2\" >100.0%</td>\n",
       "                        <td id=\"T_779d6a22_1e9e_11eb_bb64_02420a3952bbrow0_col3\" class=\"data row0 col3\" >1411</td>\n",
       "                        <td id=\"T_779d6a22_1e9e_11eb_bb64_02420a3952bbrow0_col4\" class=\"data row0 col4\" >56.6%</td>\n",
       "                        <td id=\"T_779d6a22_1e9e_11eb_bb64_02420a3952bbrow0_col5\" class=\"data row0 col5\" >583</td>\n",
       "                        <td id=\"T_779d6a22_1e9e_11eb_bb64_02420a3952bbrow0_col6\" class=\"data row0 col6\" >23.4%</td>\n",
       "                        <td id=\"T_779d6a22_1e9e_11eb_bb64_02420a3952bbrow0_col7\" class=\"data row0 col7\" >165</td>\n",
       "                        <td id=\"T_779d6a22_1e9e_11eb_bb64_02420a3952bbrow0_col8\" class=\"data row0 col8\" >6.6%</td>\n",
       "            </tr>\n",
       "            <tr>\n",
       "                                <td id=\"T_779d6a22_1e9e_11eb_bb64_02420a3952bbrow1_col0\" class=\"data row1 col0\" >246+247</td>\n",
       "                        <td id=\"T_779d6a22_1e9e_11eb_bb64_02420a3952bbrow1_col1\" class=\"data row1 col1\" >4926</td>\n",
       "                        <td id=\"T_779d6a22_1e9e_11eb_bb64_02420a3952bbrow1_col2\" class=\"data row1 col2\" >100.0%</td>\n",
       "                        <td id=\"T_779d6a22_1e9e_11eb_bb64_02420a3952bbrow1_col3\" class=\"data row1 col3\" >2790</td>\n",
       "                        <td id=\"T_779d6a22_1e9e_11eb_bb64_02420a3952bbrow1_col4\" class=\"data row1 col4\" >56.6%</td>\n",
       "                        <td id=\"T_779d6a22_1e9e_11eb_bb64_02420a3952bbrow1_col5\" class=\"data row1 col5\" >1184</td>\n",
       "                        <td id=\"T_779d6a22_1e9e_11eb_bb64_02420a3952bbrow1_col6\" class=\"data row1 col6\" >24.0%</td>\n",
       "                        <td id=\"T_779d6a22_1e9e_11eb_bb64_02420a3952bbrow1_col7\" class=\"data row1 col7\" >289</td>\n",
       "                        <td id=\"T_779d6a22_1e9e_11eb_bb64_02420a3952bbrow1_col8\" class=\"data row1 col8\" >5.9%</td>\n",
       "            </tr>\n",
       "    </tbody></table>"
      ],
      "text/plain": [
       "<pandas.io.formats.style.Styler at 0x7f73e55de310>"
      ]
     },
     "execution_count": 38,
     "metadata": {},
     "output_type": "execute_result"
    }
   ],
   "source": [
    "#Создадим таблицу с данными конверсии только по объеденным контрольным группам эксперементальной \n",
    "ab = conv_by_group[['group','main','offers','cart','payment']]\n",
    "df2 = pd.DataFrame([(\"246+247\",ab['main'][0] + ab['main'][1] ,ab['offers'][0] + ab['offers'][1],ab['cart'][0] + ab['cart'][1],ab['payment'][0] + ab['payment'][1])], columns= ['group','main','offers','cart','payment'])\n",
    "ab = ab.append(df2,ignore_index=True)\n",
    "ab = ab.query('group == 248 | group == \"246+247\"').reset_index()\n",
    "\n",
    "#Посчитаем долю пользователей в каждом из событий\n",
    "ab['main%'] = ab['main'] / ab['main']\n",
    "ab['offers%'] = ab['offers'] / ab['main']\n",
    "ab['cart%'] = ab['cart'] / ab['main']\n",
    "ab['payment%'] = ab['payment'] / ab['main']\n",
    "ab = ab[['group','main','main%','offers','offers%','cart','cart%','payment','payment%',]]\n",
    "\n",
    "\n",
    "#Форматирование таблицы\n",
    "format_dict = {'main%': '{:.1%}','offers%': '{:.1%}','cart%': '{:.1%}','payment%': '{:.1%}'}\n",
    "ab\\\n",
    ".style\\\n",
    ".format(format_dict)\\\n",
    ".hide_index()\\\n",
    ".background_gradient(subset=['main%','offers%','cart%','payment%'], cmap='RdBu')\\\n",
    ".set_properties(**{'width': '100px'})"
   ]
  },
  {
   "cell_type": "code",
   "execution_count": 39,
   "metadata": {},
   "outputs": [],
   "source": [
    "#Создадим функцию для перебора событий\n",
    "def subs(xxx):\n",
    "    xxx_part1 = ab[xxx][0] \n",
    "    xxx_part2 = ab[xxx][1] \n",
    "    xxx_total1 = ab['main'][0]\n",
    "    xxx_total2 = ab['main'][1]\n",
    "\n",
    "    parts = np.array([xxx_part1, xxx_part2])\n",
    "    totals = np.array([xxx_total1, xxx_total2])\n",
    "    \n",
    "    p1 = parts[0]/totals[0]\n",
    "    p2 = parts[1]/totals[1]\n",
    "    p_combined = (parts[0] + parts[1]) / (totals[0] + totals[1])\n",
    "    difference = p1 - p2 \n",
    "    \n",
    "    alpha = .05\n",
    "    \n",
    "    z_value = difference / mth.sqrt(p_combined * (1 - p_combined) * (1/totals[0] + 1/totals[1]))\n",
    "    distr = st.norm(0, 1) \n",
    "    p_value = ((1 - distr.cdf(abs(z_value))) * 2).round(3)\n",
    "    print('p-значение: ', p_value)\n",
    "    \n",
    "    if (p_value < alpha):\n",
    "        print(\"Отвергаем нулевую гипотезу: между пропорциями групп в событии\",xxx,\"нет разницы\")\n",
    "    else:\n",
    "        print(\"Не получилось отвергнуть нулевую гипотезу, нет оснований считать пропорции групп в событии\",xxx,\"разными\") "
   ]
  },
  {
   "cell_type": "code",
   "execution_count": 40,
   "metadata": {},
   "outputs": [
    {
     "name": "stdout",
     "output_type": "stream",
     "text": [
      "p-значение:  0.974\n",
      "Не получилось отвергнуть нулевую гипотезу, нет оснований считать пропорции групп в событии offers разными\n",
      "None\n",
      "p-значение:  0.535\n",
      "Не получилось отвергнуть нулевую гипотезу, нет оснований считать пропорции групп в событии cart разными\n",
      "None\n",
      "p-значение:  0.202\n",
      "Не получилось отвергнуть нулевую гипотезу, нет оснований считать пропорции групп в событии payment разными\n",
      "None\n"
     ]
    }
   ],
   "source": [
    "#Создадим список возможных событий, который будем перебирать циклом\n",
    "event_list = ['offers','cart','payment']\n",
    "\n",
    "#Собственно, цикл )\n",
    "for i in event_list:\n",
    "    print(subs(i))"
   ]
  },
  {
   "cell_type": "markdown",
   "metadata": {},
   "source": [
    "Можем сделать вывод, что изменение шрифтов во всём приложении никак не повлияло на конверсию. "
   ]
  },
  {
   "cell_type": "markdown",
   "metadata": {},
   "source": [
    "<a id='Шаг 6'></a>\n",
    "## Шаг 6. Общий вывод"
   ]
  },
  {
   "cell_type": "markdown",
   "metadata": {},
   "source": [
    "#### Описание пользователей\n",
    "\n",
    "- Всего в логе **244 126** события\n",
    "- Уникальных пользователей **7551**\n",
    "- В среднем на одного пользователя приходится **32** события (15 посещений главной страницы и по 5-6 остальных событий)\n",
    "- Выделяем рассматриваемый период с **2019-08-01**, так как только с этого времени мы располагаем полными данными.\n",
    "- Сократив исследуемый период мы потерями всего 2828 (**около 1%**) событий и 17 уникальных пользователей (**около 0,2%**)\n",
    "- Пользователи разбиты между группами равномерно (около **2500** пользователей)\n",
    "\n",
    "\n",
    "#### Воронка\n",
    "\n",
    "- Видим, что **половина** всех событий - это переход, прочтение инструкции - менее 0,5% событий\n",
    "- Почти половина уникальных пользователей оплачивала заказ (**47.7%**) , каждый 10ый читал инструкцию.\n",
    "- **Порядок событий** совпадает с количеством совершенных событий пользователями. Tutorial - убираем из цепочки, это событие никак не влияет на конверсию\n",
    "\n",
    "    - Main - посещение главной страницы\n",
    "    - Offers - просмотр предложений\n",
    "    - Cart - добавление в корзину\n",
    "    - Payment - оплата заказа\n",
    "    \n",
    "- Больше всего пользователей в абсолютном значении мы теряем на переходе от главной страницы к странице с предложениями ( **3218** пользователей), возможно стоит улучшить алгоритм обеспечивающий рекомендации пользователям\n",
    "- В процентом соотношении самые большие наши потери на этапе оплаты заказа после добавления в корзину (**74,3 %**), необходимо исследовать эту проблему, может есть какая техническая проблема с оплатой заказа\n",
    "- Полный путь от посещения главной страницы до оплаты заказа проходят только **6%** пользователей (конверсия в покупку)\n",
    "\n",
    "#### Рекомендации по увеличению конверсии:\n",
    "\n",
    "1. Переход к странице с предложениями (больше всего пользователей мы потеряли именно тут 3218 человек):\n",
    "\n",
    "    - Провести событийную аналитку, посмотреть очередность действий пользователей и время затраченное на отдельные события, например, возможно, польщователь тратит на регистрацию минуты и после уходит из приложения так и не закончив регистрацию)\n",
    "    - Провести анализ просмотра страницы постетителем (вебвизор, тепловые карты) - возможно на этом этапе найдем причину потерь\n",
    "    - Улучшить UX приложения путем проведения A/B тестов, предварительно приоритизировав гипотезы\n",
    "    - Использование Яндекс.Метрики для анализа узких мест\n",
    "    - Перенятие лучших практик у конкурентов7\n",
    "    - Обучение\n",
    "    - Гугл\n",
    "    \n",
    "    \n",
    "2. Добавление товаров в корзину:\n",
    "\n",
    "    - Анализ цен и сроков доставки у конкурентов\n",
    "    - Введение системы предсказания спроса\n",
    "    - Добавление отзывов в приложении \n",
    "    - Добавление подробных описаний, фото и видеообзоров в приложение\n",
    "    - Анализ кнопки \"корзина\" особо важен (вот тут попроводить A/B тесты, конечно бы) \n",
    "\n",
    "\n",
    "3. Оплата товара:\n",
    "\n",
    "    - Добавить новые возможности оплаты\n",
    "    - Убрать комиссии за оплту - если есть\n",
    "    - Не пользоваться Почтой России\n",
    "    - Анализ UX приложения \n",
    "\n",
    "\n",
    "#### Результаты эксперимента\n",
    "\n",
    "- Группы распределены **верно**\n",
    "- В эксперименте участвовало **7500** пользователей разбитых на **три** группы\n",
    "- Проведение А/А теста нам показало, что для эксперимента достаточно анализировать группы из **2500** пользователей и время необзодимое на эксперимент составляет одну **неделю**\n",
    "- Результаты эксперимента можем признать успешными, но новый шрифт - **не повлиял на конверсию**"
   ]
  }
 ],
 "metadata": {
  "kernelspec": {
   "display_name": "Python 3",
   "language": "python",
   "name": "python3"
  },
  "language_info": {
   "codemirror_mode": {
    "name": "ipython",
    "version": 3
   },
   "file_extension": ".py",
   "mimetype": "text/x-python",
   "name": "python",
   "nbconvert_exporter": "python",
   "pygments_lexer": "ipython3",
   "version": "3.7.6"
  }
 },
 "nbformat": 4,
 "nbformat_minor": 2
}
