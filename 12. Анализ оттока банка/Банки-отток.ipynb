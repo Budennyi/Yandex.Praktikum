{
 "cells": [
  {
   "cell_type": "markdown",
   "metadata": {},
   "source": [
    "# Описание проекта:\n",
    "\n",
    "Анализ клиентов регионального банка и описание портрета клиентов, которые склонны уходить из банка\n",
    "\n",
    "#### Основной анализ:\n",
    "- Исследовательский анализ данных,\n",
    "- Портрет клиентов, склонных уходить из банка,\n",
    "- Формулировка и проверка гипотезы различия дохода между теми клиентами, которые ушли и теми, которые остались\n",
    "- Вывод и рекомендации\n",
    "\n",
    "#### Дополнительно:\n",
    "- Визуализация исследования путем построения дэшборда:\n",
    "\n",
    "     1. Диаграмму, отражающую количество клиентов в зависимости от числа используемых продуктов.\n",
    "     2. Индикатор процента ушедших клиентов.\n",
    "     3. Фильтр дашборда по городу.\n",
    "        \n",
    "        \n",
    "- По итогам исследования подготовка презентации.     \n",
    "\n",
    "    \n",
    "# Описание данных:\n",
    "\n",
    "Датасет содержит данные о клиентах банка «Метанпром». Банк располагается в Ярославле и областных городах: Ростов Великий и Рыбинск.\n",
    "\n",
    "Колонки:\n",
    "- `userid` — идентификатор пользователя,\n",
    "- `score` — баллы кредитного скоринга,\n",
    "- `City` — город,\n",
    "- `Gender` — пол,\n",
    "- `Age` — возраст,\n",
    "- `Objects` — количество объектов в собственности,\n",
    "- `Balance` — баланс на счёте,\n",
    "- `Products` — количество продуктов, которыми пользуется клиент,\n",
    "- `CreditCard` — есть ли кредитная карта,\n",
    "- `Loyalty` — активный клиент,\n",
    "- `estimated_salary` — заработная плата клиента,\n",
    "- `Churn` — ушёл или нет.\n",
    "\n",
    "\n",
    "# План проекта:\n",
    "\n",
    "## <a href='#Шаг 1'> Шаг 1. Загрузка данных</a>\n",
    "\n",
    "- 1.1 Импорт библиотек, загрузка и ознакомление с данными\n",
    "- Вывод (Ознакомление с данными)\n",
    "\n",
    "## <a href='#Шаг 2'> Шаг 2. Предобработка данных </a>\n",
    "\n",
    "- 2.1 Проверка корректности и переименование колонок;\n",
    "- 2.2 Исследование и приведение соответствий типов;\n",
    "- 2.3 Исследование и удаление дубликатов;\n",
    "- 2.4 Исследование и замена пропущенных значений;\n",
    "- Вывод (Предобработка данных)\n",
    "\n",
    "\n",
    "## <a href='#Шаг 3'> Шаг 3. Исследовательский анализ данных (EDA)</a>\n",
    "\n",
    "- 3.1 Посмотрим на средние значения признаков в двух группах — тех, кто ушел в отток и тех, кто остался\n",
    "- 3.2 Построим столбчатые гистограммы и распределения признаков для тех, кто ушёл (отток) и тех, кто остался (не попали в отток);\n",
    "- 3.3 Построим матрицу корреляций\n",
    "- Вывод (Исследовательский анализ данных)\n",
    "\n",
    "## <a href='#Шаг 4'> Шаг 4. Модель прогнозирования оттока клиентов</a>\n",
    "\n",
    "- 4.1. Оценка баланса классов\n",
    "- 4.2. Разобьем данные на обучающую и валидационную выборки, стандартизируем их и обучим модель логистической регрессией и случайным лесом\n",
    "- 4.3. Определение порога для моделей и ROC AUC\n",
    "- 4.4. Оценим метрики accuracy, precision, recall, F1 и ROC AUC для обеих моделей на валидационной выборке. Сравним по ним модели.\n",
    "- Вывод (Модель прогнозирования)\n",
    "\n",
    "## <a href='#Шаг 5'> Шаг 5. Выделение портрета клиентов, склонных уходить из банка (Кластеризация)</a>\n",
    "\n",
    "- 5.1 Построим матрицу расстояний на стандартизованной матрице признаков и нарисуем дендрограмму. На основании полученного графика предположим, какое количество кластеров можно выделить.\n",
    "- 5.2 Обучим модель кластеризации на основании алгоритма K-Means и спрогнозируем кластеры клиентов.\n",
    "- 5.3 Посмотрим на средние значения признаков для кластеров.\n",
    "- 5.4 Построим распределения признаков для кластеров\n",
    "- 5.5 Для каждого полученного кластера посчитаем долю оттока. И ответим на вопросы: \n",
    "     - Отличаются ли они по доле оттока? \n",
    "     - Какие кластеры склонны к оттоку, а какие — надёжны?\n",
    "- Вывод (Выделение портрета клиентов, склонных уходить из банка)\n",
    "     \n",
    "     \n",
    "## <a href='#Шаг 6'> Шаг 6. Формулировка и проверка статистических гипотез (A/B тест) </a>\n",
    "\n",
    "- 6.1 Посчитаем статистическую значимость различий в среднем доходе между теми, кто ушёл и теми, кто остался\n",
    "- 6.2 Посчитаем статистическую значимость различий в возрасте между теми, кто ушёл и теми, кто остался\n",
    "- 6.3 Посчитаем статистическую значимость различий в активности между теми, кто ушёл и теми, кто остался\n",
    "- 6.4 Посчитаем статистическую значимость различий территориального признака между теми, кто ушёл и теми, кто остался\n",
    "- Вывод (Формулировка и проверка статистических гипотез)\n",
    "\n",
    "\n",
    "## <a href='#Шаг 7'> Шаг 7. Сформулируем выводы и сделаем базовые рекомендации по работе с клиентами</a>\n",
    "\n",
    "- Сформулируем основные выводы и предложим рекомендации для стратегии взаимодействия с клиентами и их удержания.\n",
    "\n",
    "\n",
    "## <a href='#Шаг 8'> Шаг 8. Презентация</a>\n",
    "\n",
    "https://drive.google.com/file/d/11Ls_aHHdA6O6rZqR11a8yeZkzmexIR8Y/view?usp=sharing\n",
    "\n",
    "## <a href='#Шаг 9'> Шаг 9. Dashboard</a>\n",
    "\n",
    "- Dashboard_1 https://public.tableau.com/profile/budennyi#!/vizhome/Score2/Dashboard1\n",
    "- Dashboard_2 https://public.tableau.com/profile/budennyi#!/vizhome/Score_16089029041310/Dashboard2"
   ]
  },
  {
   "cell_type": "markdown",
   "metadata": {},
   "source": [
    "<a id='Шаг 1'></a>\n",
    "# Шаг 1. Загрузка данных\n",
    "\n",
    "Колонки:\n",
    "- `userid` — идентификатор пользователя,\n",
    "- `score` — баллы кредитного скоринга,\n",
    "- `City` — город,\n",
    "- `Gender` — пол,\n",
    "- `Age` — возраст,\n",
    "- `Objects` — количество объектов в собственности,\n",
    "- `Balance` — баланс на счёте,\n",
    "- `Products` — количество продуктов, которыми пользуется клиент,\n",
    "- `CreditCard` — есть ли кредитная карта,\n",
    "- `Loyalty` — активный клиент,\n",
    "- `estimated_salary` — заработная плата клиента,\n",
    "- `Churn` — ушёл или нет."
   ]
  },
  {
   "cell_type": "markdown",
   "metadata": {},
   "source": [
    "### 1.1 Импорт библиотек, загрузка и ознакомление с данными"
   ]
  },
  {
   "cell_type": "code",
   "execution_count": 1,
   "metadata": {},
   "outputs": [],
   "source": [
    "#Импорт необходимых библиотек\n",
    "import pandas as pd\n",
    "import numpy as np\n",
    "import seaborn as sns\n",
    "from scipy import stats\n",
    "from scipy import stats as st\n",
    "import math\n",
    "import matplotlib.pyplot as plt\n",
    "from plotly.subplots import make_subplots\n",
    "import plotly.graph_objects as go\n",
    "\n",
    "from sklearn.preprocessing import StandardScaler\n",
    "from sklearn.model_selection import train_test_split\n",
    "from sklearn.linear_model import LogisticRegression\n",
    "from sklearn.ensemble import RandomForestClassifier\n",
    "from sklearn.metrics import accuracy_score, precision_score, recall_score, f1_score, roc_auc_score, roc_curve\n",
    "from sklearn.cluster import KMeans\n",
    "\n",
    "from scipy.cluster.hierarchy import dendrogram, linkage \n",
    "\n",
    "\n",
    "import warnings\n",
    "warnings.filterwarnings(\"ignore\", category=FutureWarning)"
   ]
  },
  {
   "cell_type": "code",
   "execution_count": 2,
   "metadata": {},
   "outputs": [
    {
     "name": "stdout",
     "output_type": "stream",
     "text": [
      "<class 'pandas.core.frame.DataFrame'>\n",
      "RangeIndex: 10000 entries, 0 to 9999\n",
      "Data columns (total 12 columns):\n",
      "userid              10000 non-null int64\n",
      "score               10000 non-null int64\n",
      "City                10000 non-null object\n",
      "Gender              10000 non-null object\n",
      "Age                 10000 non-null int64\n",
      "Objects             10000 non-null int64\n",
      "Balance             6383 non-null float64\n",
      "Products            10000 non-null int64\n",
      "CreditCard          10000 non-null int64\n",
      "Loyalty             10000 non-null int64\n",
      "estimated_salary    10000 non-null float64\n",
      "Churn               10000 non-null int64\n",
      "dtypes: float64(2), int64(8), object(2)\n",
      "memory usage: 937.6+ KB\n"
     ]
    },
    {
     "data": {
      "text/plain": [
       "None"
      ]
     },
     "metadata": {},
     "output_type": "display_data"
    },
    {
     "data": {
      "text/html": [
       "<div>\n",
       "<style scoped>\n",
       "    .dataframe tbody tr th:only-of-type {\n",
       "        vertical-align: middle;\n",
       "    }\n",
       "\n",
       "    .dataframe tbody tr th {\n",
       "        vertical-align: top;\n",
       "    }\n",
       "\n",
       "    .dataframe thead th {\n",
       "        text-align: right;\n",
       "    }\n",
       "</style>\n",
       "<table border=\"1\" class=\"dataframe\">\n",
       "  <thead>\n",
       "    <tr style=\"text-align: right;\">\n",
       "      <th></th>\n",
       "      <th>userid</th>\n",
       "      <th>score</th>\n",
       "      <th>City</th>\n",
       "      <th>Gender</th>\n",
       "      <th>Age</th>\n",
       "      <th>Objects</th>\n",
       "      <th>Balance</th>\n",
       "      <th>Products</th>\n",
       "      <th>CreditCard</th>\n",
       "      <th>Loyalty</th>\n",
       "      <th>estimated_salary</th>\n",
       "      <th>Churn</th>\n",
       "    </tr>\n",
       "  </thead>\n",
       "  <tbody>\n",
       "    <tr>\n",
       "      <td>9557</td>\n",
       "      <td>15800046</td>\n",
       "      <td>655</td>\n",
       "      <td>Ростов Великий</td>\n",
       "      <td>М</td>\n",
       "      <td>67</td>\n",
       "      <td>6</td>\n",
       "      <td>148363.38</td>\n",
       "      <td>1</td>\n",
       "      <td>1</td>\n",
       "      <td>1</td>\n",
       "      <td>186995.17</td>\n",
       "      <td>0</td>\n",
       "    </tr>\n",
       "    <tr>\n",
       "      <td>5165</td>\n",
       "      <td>15731348</td>\n",
       "      <td>850</td>\n",
       "      <td>Ярославль</td>\n",
       "      <td>М</td>\n",
       "      <td>33</td>\n",
       "      <td>7</td>\n",
       "      <td>140956.99</td>\n",
       "      <td>1</td>\n",
       "      <td>0</td>\n",
       "      <td>0</td>\n",
       "      <td>3510.18</td>\n",
       "      <td>0</td>\n",
       "    </tr>\n",
       "    <tr>\n",
       "      <td>3568</td>\n",
       "      <td>15715706</td>\n",
       "      <td>714</td>\n",
       "      <td>Рыбинск</td>\n",
       "      <td>М</td>\n",
       "      <td>20</td>\n",
       "      <td>3</td>\n",
       "      <td>NaN</td>\n",
       "      <td>2</td>\n",
       "      <td>0</td>\n",
       "      <td>1</td>\n",
       "      <td>150465.93</td>\n",
       "      <td>0</td>\n",
       "    </tr>\n",
       "    <tr>\n",
       "      <td>9640</td>\n",
       "      <td>15689939</td>\n",
       "      <td>750</td>\n",
       "      <td>Ярославль</td>\n",
       "      <td>Ж</td>\n",
       "      <td>35</td>\n",
       "      <td>3</td>\n",
       "      <td>NaN</td>\n",
       "      <td>1</td>\n",
       "      <td>1</td>\n",
       "      <td>0</td>\n",
       "      <td>191520.50</td>\n",
       "      <td>0</td>\n",
       "    </tr>\n",
       "    <tr>\n",
       "      <td>4933</td>\n",
       "      <td>15830333</td>\n",
       "      <td>420</td>\n",
       "      <td>Ростов Великий</td>\n",
       "      <td>Ж</td>\n",
       "      <td>31</td>\n",
       "      <td>1</td>\n",
       "      <td>108377.75</td>\n",
       "      <td>2</td>\n",
       "      <td>1</td>\n",
       "      <td>1</td>\n",
       "      <td>9904.63</td>\n",
       "      <td>0</td>\n",
       "    </tr>\n",
       "  </tbody>\n",
       "</table>\n",
       "</div>"
      ],
      "text/plain": [
       "        userid  score            City Gender  Age  Objects    Balance  \\\n",
       "9557  15800046    655  Ростов Великий      М   67        6  148363.38   \n",
       "5165  15731348    850       Ярославль      М   33        7  140956.99   \n",
       "3568  15715706    714         Рыбинск      М   20        3        NaN   \n",
       "9640  15689939    750       Ярославль      Ж   35        3        NaN   \n",
       "4933  15830333    420  Ростов Великий      Ж   31        1  108377.75   \n",
       "\n",
       "      Products  CreditCard  Loyalty  estimated_salary  Churn  \n",
       "9557         1           1        1         186995.17      0  \n",
       "5165         1           0        0           3510.18      0  \n",
       "3568         2           0        1         150465.93      0  \n",
       "9640         1           1        0         191520.50      0  \n",
       "4933         2           1        1           9904.63      0  "
      ]
     },
     "metadata": {},
     "output_type": "display_data"
    }
   ],
   "source": [
    "#Загрузка данных\n",
    "score = pd.read_csv('bank_dataset.csv')\n",
    "\n",
    "#Изучение данных\n",
    "display(score.info())\n",
    "display(score.sample(5))"
   ]
  },
  {
   "cell_type": "markdown",
   "metadata": {},
   "source": [
    "### Вывод (Ознакомление с данными)\n",
    "- Видим пропуски в столбце `balance`- проанализируем и решим что с ними делать\n",
    "- Неоднотипное название столбцов - приведем к нижнему регистру\n",
    "- Проверим на данные дубликаты \n",
    "- Типы данных корректны\n",
    "- Значения в `estimated_salary` можно было бы привести к целым числам, но оставим как есть\n",
    "- `Gender` можно привести к булевым значениям\n",
    "- Переименуем некоторые столбцы для простоты использования"
   ]
  },
  {
   "cell_type": "markdown",
   "metadata": {},
   "source": [
    "<a id='Шаг 2'></a>\n",
    "# Шаг 2. Предобработка данных"
   ]
  },
  {
   "cell_type": "markdown",
   "metadata": {},
   "source": [
    "### 2.1 Проверка корректности и переименование колонок"
   ]
  },
  {
   "cell_type": "markdown",
   "metadata": {},
   "source": [
    "- Приведем название столбцов нижнему регистру\n",
    "- `Estimated_salary` переименуем в `salary` \n",
    "- `Userid` переименуем в `id` \n",
    "- `CreditCard` переименуем в `credit` "
   ]
  },
  {
   "cell_type": "code",
   "execution_count": 3,
   "metadata": {},
   "outputs": [
    {
     "name": "stdout",
     "output_type": "stream",
     "text": [
      "<class 'pandas.core.frame.DataFrame'>\n",
      "RangeIndex: 10000 entries, 0 to 9999\n",
      "Data columns (total 12 columns):\n",
      "id          10000 non-null int64\n",
      "score       10000 non-null int64\n",
      "city        10000 non-null object\n",
      "gender      10000 non-null object\n",
      "age         10000 non-null int64\n",
      "objects     10000 non-null int64\n",
      "balance     6383 non-null float64\n",
      "products    10000 non-null int64\n",
      "credit      10000 non-null int64\n",
      "loyalty     10000 non-null int64\n",
      "salary      10000 non-null float64\n",
      "churn       10000 non-null int64\n",
      "dtypes: float64(2), int64(8), object(2)\n",
      "memory usage: 937.6+ KB\n"
     ]
    }
   ],
   "source": [
    "#Приводим к нижнему регистру\n",
    "score.columns = score.columns.str.lower()\n",
    "\n",
    "#Переименовываем столбцы\n",
    "score.rename(columns={\"userid\": \"id\", \"estimated_salary\": \"salary\", \"creditcard\": \"credit\"}, inplace = True)\n",
    "score.info()"
   ]
  },
  {
   "cell_type": "markdown",
   "metadata": {},
   "source": [
    "### 2.2 Исследование и приведение соответствий типов"
   ]
  },
  {
   "cell_type": "markdown",
   "metadata": {},
   "source": [
    "- `Gender` приведем к булевым значениям, где 1 - будет мужчина\n",
    "- Транспонируем значения столбца `city` в признаки для корректной работы модели прогнозирования и кластеризации"
   ]
  },
  {
   "cell_type": "code",
   "execution_count": 4,
   "metadata": {},
   "outputs": [
    {
     "name": "stdout",
     "output_type": "stream",
     "text": [
      "<class 'pandas.core.frame.DataFrame'>\n",
      "RangeIndex: 10000 entries, 0 to 9999\n",
      "Data columns (total 14 columns):\n",
      "id          10000 non-null int64\n",
      "score       10000 non-null int64\n",
      "gender      10000 non-null int64\n",
      "age         10000 non-null int64\n",
      "objects     10000 non-null int64\n",
      "balance     6383 non-null float64\n",
      "products    10000 non-null int64\n",
      "credit      10000 non-null int64\n",
      "loyalty     10000 non-null int64\n",
      "salary      10000 non-null float64\n",
      "churn       10000 non-null int64\n",
      "city_ros    10000 non-null uint8\n",
      "city_rib    10000 non-null uint8\n",
      "city_yar    10000 non-null uint8\n",
      "dtypes: float64(2), int64(9), uint8(3)\n",
      "memory usage: 888.8 KB\n"
     ]
    }
   ],
   "source": [
    "score['gender'] = (score['gender'] == 'М')*1\n",
    "score = pd.get_dummies(score, columns=['city'])\n",
    "score.rename(columns={\"city_Ростов Великий\": \"city_ros\", \"city_Рыбинск\": \"city_rib\", \"city_Ярославль\": \"city_yar\"}, inplace = True)\n",
    "score.info()"
   ]
  },
  {
   "cell_type": "markdown",
   "metadata": {},
   "source": [
    "В целом, типы данных корректны:\n",
    "- Значения в `estimated_salary` можно было бы привести к целым числам, но оставим как есть\n",
    "- `Gender` привели к булевым значениям\n",
    "- с помощью функции get_dummies транспонировали значения столбца `city`, в признаки\n",
    "    "
   ]
  },
  {
   "cell_type": "markdown",
   "metadata": {},
   "source": [
    "### 2.3 Исследование и удаление дубликатов"
   ]
  },
  {
   "cell_type": "code",
   "execution_count": 5,
   "metadata": {},
   "outputs": [
    {
     "name": "stdout",
     "output_type": "stream",
     "text": [
      "Количество задвоенных строк -  0\n",
      "Количество дупликатов id -  0\n"
     ]
    }
   ],
   "source": [
    "#Посчитаем дубликаты всего по строкам и только в столбце id\n",
    "print('Количество задвоенных строк - ', score.duplicated().sum())\n",
    "print('Количество дупликатов id - ', score['id'].duplicated().sum())"
   ]
  },
  {
   "cell_type": "markdown",
   "metadata": {},
   "source": [
    "Дубликаты не обнаружены"
   ]
  },
  {
   "cell_type": "markdown",
   "metadata": {},
   "source": [
    "### 2.4 Исследование и замена пропущенных значений"
   ]
  },
  {
   "cell_type": "markdown",
   "metadata": {},
   "source": [
    "Пропущенные значения у нас есть только в столбце `balance` скорее всего это техническая ошибка, следует узнать у отвественных за выгрузку лиц, либо клиенты просто пользуются другими нашими продуктами, а баланс отображается только для владельцев дебитовых карт. Не будем удалять эти значения, тем более заменять на 0 или средние меры. Это исказит как меры средних, так и даст неверную картину о наших клиентах. Оставляем все как есть"
   ]
  },
  {
   "cell_type": "markdown",
   "metadata": {},
   "source": [
    "### Вывод (Предобработка данных)"
   ]
  },
  {
   "cell_type": "markdown",
   "metadata": {},
   "source": [
    "- Привели название столбцов нижнему регистру\n",
    "- `estimated_salary` переимовали в `salary` \n",
    "- `userid` переимовали в `id` \n",
    "- `creditcard` переимовали в `credit` \n",
    "- Проверили на дубликаты\n",
    "- Привели  столбец `gender` к булевым, где 1 - это мужчина\n",
    "- Сделали предположение о происхождении NaN значений в столбце `balance` и приянли решение оставить как есть\n",
    "- С помощью функции get_dummies транспонировали значения столбца `city`, в признаки"
   ]
  },
  {
   "cell_type": "markdown",
   "metadata": {},
   "source": [
    "<a id='Шаг 3'></a>\n",
    "# Шаг 3. Исследовательский анализ данных (EDA)"
   ]
  },
  {
   "cell_type": "markdown",
   "metadata": {},
   "source": [
    "Посмотрим на общий процент оттока"
   ]
  },
  {
   "cell_type": "code",
   "execution_count": 6,
   "metadata": {},
   "outputs": [
    {
     "data": {
      "text/html": [
       "<div>\n",
       "<style scoped>\n",
       "    .dataframe tbody tr th:only-of-type {\n",
       "        vertical-align: middle;\n",
       "    }\n",
       "\n",
       "    .dataframe tbody tr th {\n",
       "        vertical-align: top;\n",
       "    }\n",
       "\n",
       "    .dataframe thead th {\n",
       "        text-align: right;\n",
       "    }\n",
       "</style>\n",
       "<table border=\"1\" class=\"dataframe\">\n",
       "  <thead>\n",
       "    <tr style=\"text-align: right;\">\n",
       "      <th></th>\n",
       "      <th>index</th>\n",
       "      <th>churn</th>\n",
       "    </tr>\n",
       "  </thead>\n",
       "  <tbody>\n",
       "    <tr>\n",
       "      <td>0</td>\n",
       "      <td>0</td>\n",
       "      <td>0.8</td>\n",
       "    </tr>\n",
       "    <tr>\n",
       "      <td>1</td>\n",
       "      <td>1</td>\n",
       "      <td>0.2</td>\n",
       "    </tr>\n",
       "  </tbody>\n",
       "</table>\n",
       "</div>"
      ],
      "text/plain": [
       "   index  churn\n",
       "0      0    0.8\n",
       "1      1    0.2"
      ]
     },
     "execution_count": 6,
     "metadata": {},
     "output_type": "execute_result"
    }
   ],
   "source": [
    "score['churn'].value_counts(normalize = True).round(2).reset_index()"
   ]
  },
  {
   "cell_type": "markdown",
   "metadata": {},
   "source": [
    "Будем иметь ввиду, что общей выборке присутствует только 20% класса 1 (churn)"
   ]
  },
  {
   "cell_type": "markdown",
   "metadata": {},
   "source": [
    "Изучим данные со стороны описательной статистики"
   ]
  },
  {
   "cell_type": "code",
   "execution_count": 7,
   "metadata": {},
   "outputs": [
    {
     "data": {
      "text/html": [
       "<div>\n",
       "<style scoped>\n",
       "    .dataframe tbody tr th:only-of-type {\n",
       "        vertical-align: middle;\n",
       "    }\n",
       "\n",
       "    .dataframe tbody tr th {\n",
       "        vertical-align: top;\n",
       "    }\n",
       "\n",
       "    .dataframe thead th {\n",
       "        text-align: right;\n",
       "    }\n",
       "</style>\n",
       "<table border=\"1\" class=\"dataframe\">\n",
       "  <thead>\n",
       "    <tr style=\"text-align: right;\">\n",
       "      <th></th>\n",
       "      <th>score</th>\n",
       "      <th>age</th>\n",
       "      <th>objects</th>\n",
       "      <th>balance</th>\n",
       "      <th>products</th>\n",
       "      <th>salary</th>\n",
       "      <th>city_ros</th>\n",
       "      <th>city_rib</th>\n",
       "      <th>city_yar</th>\n",
       "    </tr>\n",
       "  </thead>\n",
       "  <tbody>\n",
       "    <tr>\n",
       "      <td>count</td>\n",
       "      <td>10000.000000</td>\n",
       "      <td>10000.000000</td>\n",
       "      <td>10000.000000</td>\n",
       "      <td>6383.000000</td>\n",
       "      <td>10000.000000</td>\n",
       "      <td>10000.000000</td>\n",
       "      <td>10000.000000</td>\n",
       "      <td>10000.000000</td>\n",
       "      <td>10000.000000</td>\n",
       "    </tr>\n",
       "    <tr>\n",
       "      <td>mean</td>\n",
       "      <td>650.528800</td>\n",
       "      <td>38.921800</td>\n",
       "      <td>5.012800</td>\n",
       "      <td>119827.493793</td>\n",
       "      <td>1.530200</td>\n",
       "      <td>100090.239881</td>\n",
       "      <td>0.250900</td>\n",
       "      <td>0.247700</td>\n",
       "      <td>0.501400</td>\n",
       "    </tr>\n",
       "    <tr>\n",
       "      <td>std</td>\n",
       "      <td>96.653299</td>\n",
       "      <td>10.487806</td>\n",
       "      <td>2.892174</td>\n",
       "      <td>30095.056462</td>\n",
       "      <td>0.581654</td>\n",
       "      <td>57510.492818</td>\n",
       "      <td>0.433553</td>\n",
       "      <td>0.431698</td>\n",
       "      <td>0.500023</td>\n",
       "    </tr>\n",
       "    <tr>\n",
       "      <td>min</td>\n",
       "      <td>350.000000</td>\n",
       "      <td>18.000000</td>\n",
       "      <td>0.000000</td>\n",
       "      <td>3768.690000</td>\n",
       "      <td>1.000000</td>\n",
       "      <td>11.580000</td>\n",
       "      <td>0.000000</td>\n",
       "      <td>0.000000</td>\n",
       "      <td>0.000000</td>\n",
       "    </tr>\n",
       "    <tr>\n",
       "      <td>25%</td>\n",
       "      <td>584.000000</td>\n",
       "      <td>32.000000</td>\n",
       "      <td>3.000000</td>\n",
       "      <td>100181.975000</td>\n",
       "      <td>1.000000</td>\n",
       "      <td>51002.110000</td>\n",
       "      <td>0.000000</td>\n",
       "      <td>0.000000</td>\n",
       "      <td>0.000000</td>\n",
       "    </tr>\n",
       "    <tr>\n",
       "      <td>50%</td>\n",
       "      <td>652.000000</td>\n",
       "      <td>37.000000</td>\n",
       "      <td>5.000000</td>\n",
       "      <td>119839.690000</td>\n",
       "      <td>1.000000</td>\n",
       "      <td>100193.915000</td>\n",
       "      <td>0.000000</td>\n",
       "      <td>0.000000</td>\n",
       "      <td>1.000000</td>\n",
       "    </tr>\n",
       "    <tr>\n",
       "      <td>75%</td>\n",
       "      <td>718.000000</td>\n",
       "      <td>44.000000</td>\n",
       "      <td>7.000000</td>\n",
       "      <td>139512.290000</td>\n",
       "      <td>2.000000</td>\n",
       "      <td>149388.247500</td>\n",
       "      <td>1.000000</td>\n",
       "      <td>0.000000</td>\n",
       "      <td>1.000000</td>\n",
       "    </tr>\n",
       "    <tr>\n",
       "      <td>max</td>\n",
       "      <td>850.000000</td>\n",
       "      <td>92.000000</td>\n",
       "      <td>10.000000</td>\n",
       "      <td>250898.090000</td>\n",
       "      <td>4.000000</td>\n",
       "      <td>199992.480000</td>\n",
       "      <td>1.000000</td>\n",
       "      <td>1.000000</td>\n",
       "      <td>1.000000</td>\n",
       "    </tr>\n",
       "  </tbody>\n",
       "</table>\n",
       "</div>"
      ],
      "text/plain": [
       "              score           age       objects        balance      products  \\\n",
       "count  10000.000000  10000.000000  10000.000000    6383.000000  10000.000000   \n",
       "mean     650.528800     38.921800      5.012800  119827.493793      1.530200   \n",
       "std       96.653299     10.487806      2.892174   30095.056462      0.581654   \n",
       "min      350.000000     18.000000      0.000000    3768.690000      1.000000   \n",
       "25%      584.000000     32.000000      3.000000  100181.975000      1.000000   \n",
       "50%      652.000000     37.000000      5.000000  119839.690000      1.000000   \n",
       "75%      718.000000     44.000000      7.000000  139512.290000      2.000000   \n",
       "max      850.000000     92.000000     10.000000  250898.090000      4.000000   \n",
       "\n",
       "              salary      city_ros      city_rib      city_yar  \n",
       "count   10000.000000  10000.000000  10000.000000  10000.000000  \n",
       "mean   100090.239881      0.250900      0.247700      0.501400  \n",
       "std     57510.492818      0.433553      0.431698      0.500023  \n",
       "min        11.580000      0.000000      0.000000      0.000000  \n",
       "25%     51002.110000      0.000000      0.000000      0.000000  \n",
       "50%    100193.915000      0.000000      0.000000      1.000000  \n",
       "75%    149388.247500      1.000000      0.000000      1.000000  \n",
       "max    199992.480000      1.000000      1.000000      1.000000  "
      ]
     },
     "execution_count": 7,
     "metadata": {},
     "output_type": "execute_result"
    }
   ],
   "source": [
    "#Опишем данные без Id и city (один признак не показательный, воторой - не количественный)\n",
    "score.drop(['id','churn','gender','credit','loyalty'], axis = 1).describe()"
   ]
  },
  {
   "cell_type": "markdown",
   "metadata": {},
   "source": [
    "Аномалии:\n",
    "- Видим аномально низкую зарплату в 11 рублей (возможно, клиент не захотел указывать верную ниформацию или не имеет официального дохода) \n",
    "- Максимальный возраст 92 года\n",
    "- Есть клиенты у которых во владении 10 объектов\n",
    "\n",
    "Средние и медианы\n",
    "- в целом везде средние и медианы практически равны, это говорит о незначительном числе выбросов, но для более подробного анализа построим гистограммы по нашим признаками для детальной оценки выбросов.\n",
    "\n",
    "Стандартное отклонение\n",
    "- Значительное стандартное отклонение можем наблюдать только в столбцах `salary` и `objects`, что может говорить о большом разбросе доходов и объектов владения наших клиентов\n",
    "\n",
    "Территориальный признак\n",
    "- Половина клиентов из Ярославля\n"
   ]
  },
  {
   "cell_type": "markdown",
   "metadata": {},
   "source": [
    "Построим гистограммы по нашим признаками для оценки выбросов и дальнейшего анализа"
   ]
  },
  {
   "cell_type": "code",
   "execution_count": 8,
   "metadata": {
    "scrolled": false
   },
   "outputs": [
    {
     "data": {
      "image/png": "[encoded data removed]",
      "text/plain": [
       "<Figure size 1600x400 with 1 Axes>"
      ]
     },
     "metadata": {
      "needs_background": "light"
     },
     "output_type": "display_data"
    },
    {
     "data": {
      "image/png": "[encoded data removed]",
      "text/plain": [
       "<Figure size 1600x400 with 1 Axes>"
      ]
     },
     "metadata": {
      "needs_background": "light"
     },
     "output_type": "display_data"
    },
    {
     "data": {
      "image/png": "[encoded data removed]",
      "text/plain": [
       "<Figure size 1600x400 with 1 Axes>"
      ]
     },
     "metadata": {
      "needs_background": "light"
     },
     "output_type": "display_data"
    },
    {
     "data": {
      "image/png": "[encoded data removed]",
      "text/plain": [
       "<Figure size 1600x400 with 1 Axes>"
      ]
     },
     "metadata": {
      "needs_background": "light"
     },
     "output_type": "display_data"
    },
    {
     "data": {
      "image/png": "[encoded data removed]",
      "text/plain": [
       "<Figure size 1600x400 with 1 Axes>"
      ]
     },
     "metadata": {
      "needs_background": "light"
     },
     "output_type": "display_data"
    },
    {
     "data": {
      "image/png": "[encoded data removed]",
      "text/plain": [
       "<Figure size 1600x400 with 1 Axes>"
      ]
     },
     "metadata": {
      "needs_background": "light"
     },
     "output_type": "display_data"
    },
    {
     "data": {
      "image/png": "[encoded data removed]",
      "text/plain": [
       "<Figure size 1600x400 with 1 Axes>"
      ]
     },
     "metadata": {
      "needs_background": "light"
     },
     "output_type": "display_data"
    },
    {
     "data": {
      "image/png": "[encoded data removed]",
      "text/plain": [
       "<Figure size 1600x400 with 1 Axes>"
      ]
     },
     "metadata": {
      "needs_background": "light"
     },
     "output_type": "display_data"
    },
    {
     "data": {
      "image/png": "[encoded data removed]",
      "text/plain": [
       "<Figure size 1600x400 with 1 Axes>"
      ]
     },
     "metadata": {
      "needs_background": "light"
     },
     "output_type": "display_data"
    },
    {
     "data": {
      "image/png": "[encoded data removed]",
      "text/plain": [
       "<Figure size 1600x400 with 1 Axes>"
      ]
     },
     "metadata": {
      "needs_background": "light"
     },
     "output_type": "display_data"
    }
   ],
   "source": [
    "#Создадим список призаков для гистограм и уберем из него city и id\n",
    "for_hist = score.drop(['id','city_rib','city_ros','city_yar'], axis = 1).columns\n",
    "\n",
    "#Построим гистограмы для каждого призака через цикл\n",
    "for name in for_hist:\n",
    "    plt.figure(figsize=(20,5), dpi= 80)\n",
    "    sns.distplot(score[name], bins = 75, kde = False)\n",
    "    plt.grid()\n",
    "    plt.title(name, fontsize=20)\n",
    "    plt.ylabel(\"\")\n",
    "    plt.xlabel(\"\")\n",
    "    plt.show()"
   ]
  },
  {
   "cell_type": "markdown",
   "metadata": {},
   "source": [
    "- Можем наблюдать выбросы в столбце `score`, видимо 850 - это максимальный score и он автоматически дается новым клиентам, не считаю это выбросом, так как это номральная практика, у нас всегда будут новые клиенты, с максимальным рейтингом, тем более, это может нам помочь при кластеризации и псотроении модели предсказаний \n",
    "- Так же можем наблюдать выбросы в столбце `age`, видно, что клинтов старше 75 уже совсем мало\n",
    "- Столбец `balance`, как для нас не показательный, так как у клиента может просто не быть дебитового счета\n",
    "- Больше всего клиентов у нас в Ярославле\n",
    "\n",
    "Далее избавимся от выборосов"
   ]
  },
  {
   "cell_type": "code",
   "execution_count": 9,
   "metadata": {},
   "outputs": [
    {
     "data": {
      "text/html": [
       "<div>\n",
       "<style scoped>\n",
       "    .dataframe tbody tr th:only-of-type {\n",
       "        vertical-align: middle;\n",
       "    }\n",
       "\n",
       "    .dataframe tbody tr th {\n",
       "        vertical-align: top;\n",
       "    }\n",
       "\n",
       "    .dataframe thead th {\n",
       "        text-align: right;\n",
       "    }\n",
       "</style>\n",
       "<table border=\"1\" class=\"dataframe\">\n",
       "  <thead>\n",
       "    <tr style=\"text-align: right;\">\n",
       "      <th></th>\n",
       "      <th>score</th>\n",
       "      <th>age</th>\n",
       "      <th>objects</th>\n",
       "      <th>balance</th>\n",
       "      <th>products</th>\n",
       "      <th>salary</th>\n",
       "      <th>city_ros</th>\n",
       "      <th>city_rib</th>\n",
       "      <th>city_yar</th>\n",
       "    </tr>\n",
       "  </thead>\n",
       "  <tbody>\n",
       "    <tr>\n",
       "      <td>count</td>\n",
       "      <td>9927.000000</td>\n",
       "      <td>9927.000000</td>\n",
       "      <td>9927.000000</td>\n",
       "      <td>6337.000000</td>\n",
       "      <td>9927.000000</td>\n",
       "      <td>9927.000000</td>\n",
       "      <td>9927.000000</td>\n",
       "      <td>9927.000000</td>\n",
       "      <td>9927.000000</td>\n",
       "    </tr>\n",
       "    <tr>\n",
       "      <td>mean</td>\n",
       "      <td>650.996676</td>\n",
       "      <td>38.697089</td>\n",
       "      <td>5.012189</td>\n",
       "      <td>119879.193055</td>\n",
       "      <td>1.530674</td>\n",
       "      <td>100041.510398</td>\n",
       "      <td>0.250831</td>\n",
       "      <td>0.247507</td>\n",
       "      <td>0.501662</td>\n",
       "    </tr>\n",
       "    <tr>\n",
       "      <td>std</td>\n",
       "      <td>95.971273</td>\n",
       "      <td>10.095684</td>\n",
       "      <td>2.890812</td>\n",
       "      <td>30093.921301</td>\n",
       "      <td>0.581154</td>\n",
       "      <td>57491.024071</td>\n",
       "      <td>0.433513</td>\n",
       "      <td>0.431585</td>\n",
       "      <td>0.500022</td>\n",
       "    </tr>\n",
       "    <tr>\n",
       "      <td>min</td>\n",
       "      <td>401.000000</td>\n",
       "      <td>18.000000</td>\n",
       "      <td>0.000000</td>\n",
       "      <td>3768.690000</td>\n",
       "      <td>1.000000</td>\n",
       "      <td>11.580000</td>\n",
       "      <td>0.000000</td>\n",
       "      <td>0.000000</td>\n",
       "      <td>0.000000</td>\n",
       "    </tr>\n",
       "    <tr>\n",
       "      <td>25%</td>\n",
       "      <td>584.000000</td>\n",
       "      <td>32.000000</td>\n",
       "      <td>3.000000</td>\n",
       "      <td>100238.350000</td>\n",
       "      <td>1.000000</td>\n",
       "      <td>50973.585000</td>\n",
       "      <td>0.000000</td>\n",
       "      <td>0.000000</td>\n",
       "      <td>0.000000</td>\n",
       "    </tr>\n",
       "    <tr>\n",
       "      <td>50%</td>\n",
       "      <td>652.000000</td>\n",
       "      <td>37.000000</td>\n",
       "      <td>5.000000</td>\n",
       "      <td>119825.750000</td>\n",
       "      <td>1.000000</td>\n",
       "      <td>100137.700000</td>\n",
       "      <td>0.000000</td>\n",
       "      <td>0.000000</td>\n",
       "      <td>1.000000</td>\n",
       "    </tr>\n",
       "    <tr>\n",
       "      <td>75%</td>\n",
       "      <td>718.000000</td>\n",
       "      <td>44.000000</td>\n",
       "      <td>7.000000</td>\n",
       "      <td>139542.820000</td>\n",
       "      <td>2.000000</td>\n",
       "      <td>149350.210000</td>\n",
       "      <td>1.000000</td>\n",
       "      <td>0.000000</td>\n",
       "      <td>1.000000</td>\n",
       "    </tr>\n",
       "    <tr>\n",
       "      <td>max</td>\n",
       "      <td>850.000000</td>\n",
       "      <td>74.000000</td>\n",
       "      <td>10.000000</td>\n",
       "      <td>250898.090000</td>\n",
       "      <td>4.000000</td>\n",
       "      <td>199992.480000</td>\n",
       "      <td>1.000000</td>\n",
       "      <td>1.000000</td>\n",
       "      <td>1.000000</td>\n",
       "    </tr>\n",
       "  </tbody>\n",
       "</table>\n",
       "</div>"
      ],
      "text/plain": [
       "             score          age      objects        balance     products  \\\n",
       "count  9927.000000  9927.000000  9927.000000    6337.000000  9927.000000   \n",
       "mean    650.996676    38.697089     5.012189  119879.193055     1.530674   \n",
       "std      95.971273    10.095684     2.890812   30093.921301     0.581154   \n",
       "min     401.000000    18.000000     0.000000    3768.690000     1.000000   \n",
       "25%     584.000000    32.000000     3.000000  100238.350000     1.000000   \n",
       "50%     652.000000    37.000000     5.000000  119825.750000     1.000000   \n",
       "75%     718.000000    44.000000     7.000000  139542.820000     2.000000   \n",
       "max     850.000000    74.000000    10.000000  250898.090000     4.000000   \n",
       "\n",
       "              salary     city_ros     city_rib     city_yar  \n",
       "count    9927.000000  9927.000000  9927.000000  9927.000000  \n",
       "mean   100041.510398     0.250831     0.247507     0.501662  \n",
       "std     57491.024071     0.433513     0.431585     0.500022  \n",
       "min        11.580000     0.000000     0.000000     0.000000  \n",
       "25%     50973.585000     0.000000     0.000000     0.000000  \n",
       "50%    100137.700000     0.000000     0.000000     1.000000  \n",
       "75%    149350.210000     1.000000     0.000000     1.000000  \n",
       "max    199992.480000     1.000000     1.000000     1.000000  "
      ]
     },
     "execution_count": 9,
     "metadata": {},
     "output_type": "execute_result"
    }
   ],
   "source": [
    "score_cl = score.query('(score > 400) and (age < 75 )')\n",
    "score_cl.drop(['id','churn','gender','credit','loyalty'], axis = 1).describe()"
   ]
  },
  {
   "cell_type": "markdown",
   "metadata": {},
   "source": [
    "Потеряли всего 304 строк (3% данных), вполне допустимо, данные в порядке, продолжаем"
   ]
  },
  {
   "cell_type": "markdown",
   "metadata": {},
   "source": [
    "### 3.1 Посмотрим на средние значения признаков в двух группах — тех, кто ушел в отток и тех, кто остался"
   ]
  },
  {
   "cell_type": "code",
   "execution_count": 10,
   "metadata": {},
   "outputs": [
    {
     "data": {
      "text/html": [
       "<style  type=\"text/css\" >\n",
       "    #T_55fe5f94_57f0_11eb_9891_02420a3988c1row0_col0 {\n",
       "            width:  100px;\n",
       "        }    #T_55fe5f94_57f0_11eb_9891_02420a3988c1row0_col1 {\n",
       "            width:  100px;\n",
       "        }    #T_55fe5f94_57f0_11eb_9891_02420a3988c1row0_col2 {\n",
       "            width:  100px;\n",
       "        }    #T_55fe5f94_57f0_11eb_9891_02420a3988c1row0_col3 {\n",
       "            background-color:  #08306b;\n",
       "            color:  #f1f1f1;\n",
       "            width:  100px;\n",
       "        }    #T_55fe5f94_57f0_11eb_9891_02420a3988c1row1_col0 {\n",
       "            width:  100px;\n",
       "        }    #T_55fe5f94_57f0_11eb_9891_02420a3988c1row1_col1 {\n",
       "            width:  100px;\n",
       "        }    #T_55fe5f94_57f0_11eb_9891_02420a3988c1row1_col2 {\n",
       "            width:  100px;\n",
       "        }    #T_55fe5f94_57f0_11eb_9891_02420a3988c1row1_col3 {\n",
       "            background-color:  #abd0e6;\n",
       "            color:  #000000;\n",
       "            width:  100px;\n",
       "        }    #T_55fe5f94_57f0_11eb_9891_02420a3988c1row2_col0 {\n",
       "            width:  100px;\n",
       "        }    #T_55fe5f94_57f0_11eb_9891_02420a3988c1row2_col1 {\n",
       "            width:  100px;\n",
       "        }    #T_55fe5f94_57f0_11eb_9891_02420a3988c1row2_col2 {\n",
       "            width:  100px;\n",
       "        }    #T_55fe5f94_57f0_11eb_9891_02420a3988c1row2_col3 {\n",
       "            background-color:  #abd0e6;\n",
       "            color:  #000000;\n",
       "            width:  100px;\n",
       "        }    #T_55fe5f94_57f0_11eb_9891_02420a3988c1row3_col0 {\n",
       "            width:  100px;\n",
       "        }    #T_55fe5f94_57f0_11eb_9891_02420a3988c1row3_col1 {\n",
       "            width:  100px;\n",
       "        }    #T_55fe5f94_57f0_11eb_9891_02420a3988c1row3_col2 {\n",
       "            width:  100px;\n",
       "        }    #T_55fe5f94_57f0_11eb_9891_02420a3988c1row3_col3 {\n",
       "            background-color:  #abd0e6;\n",
       "            color:  #000000;\n",
       "            width:  100px;\n",
       "        }    #T_55fe5f94_57f0_11eb_9891_02420a3988c1row4_col0 {\n",
       "            width:  100px;\n",
       "        }    #T_55fe5f94_57f0_11eb_9891_02420a3988c1row4_col1 {\n",
       "            width:  100px;\n",
       "        }    #T_55fe5f94_57f0_11eb_9891_02420a3988c1row4_col2 {\n",
       "            width:  100px;\n",
       "        }    #T_55fe5f94_57f0_11eb_9891_02420a3988c1row4_col3 {\n",
       "            background-color:  #cee0f2;\n",
       "            color:  #000000;\n",
       "            width:  100px;\n",
       "        }    #T_55fe5f94_57f0_11eb_9891_02420a3988c1row5_col0 {\n",
       "            width:  100px;\n",
       "        }    #T_55fe5f94_57f0_11eb_9891_02420a3988c1row5_col1 {\n",
       "            width:  100px;\n",
       "        }    #T_55fe5f94_57f0_11eb_9891_02420a3988c1row5_col2 {\n",
       "            width:  100px;\n",
       "        }    #T_55fe5f94_57f0_11eb_9891_02420a3988c1row5_col3 {\n",
       "            background-color:  #d0e1f2;\n",
       "            color:  #000000;\n",
       "            width:  100px;\n",
       "        }    #T_55fe5f94_57f0_11eb_9891_02420a3988c1row6_col0 {\n",
       "            width:  100px;\n",
       "        }    #T_55fe5f94_57f0_11eb_9891_02420a3988c1row6_col1 {\n",
       "            width:  100px;\n",
       "        }    #T_55fe5f94_57f0_11eb_9891_02420a3988c1row6_col2 {\n",
       "            width:  100px;\n",
       "        }    #T_55fe5f94_57f0_11eb_9891_02420a3988c1row6_col3 {\n",
       "            background-color:  #f3f8fe;\n",
       "            color:  #000000;\n",
       "            width:  100px;\n",
       "        }    #T_55fe5f94_57f0_11eb_9891_02420a3988c1row7_col0 {\n",
       "            width:  100px;\n",
       "        }    #T_55fe5f94_57f0_11eb_9891_02420a3988c1row7_col1 {\n",
       "            width:  100px;\n",
       "        }    #T_55fe5f94_57f0_11eb_9891_02420a3988c1row7_col2 {\n",
       "            width:  100px;\n",
       "        }    #T_55fe5f94_57f0_11eb_9891_02420a3988c1row7_col3 {\n",
       "            background-color:  #f5f9fe;\n",
       "            color:  #000000;\n",
       "            width:  100px;\n",
       "        }    #T_55fe5f94_57f0_11eb_9891_02420a3988c1row8_col0 {\n",
       "            width:  100px;\n",
       "        }    #T_55fe5f94_57f0_11eb_9891_02420a3988c1row8_col1 {\n",
       "            width:  100px;\n",
       "        }    #T_55fe5f94_57f0_11eb_9891_02420a3988c1row8_col2 {\n",
       "            width:  100px;\n",
       "        }    #T_55fe5f94_57f0_11eb_9891_02420a3988c1row8_col3 {\n",
       "            background-color:  #f5fafe;\n",
       "            color:  #000000;\n",
       "            width:  100px;\n",
       "        }    #T_55fe5f94_57f0_11eb_9891_02420a3988c1row9_col0 {\n",
       "            width:  100px;\n",
       "        }    #T_55fe5f94_57f0_11eb_9891_02420a3988c1row9_col1 {\n",
       "            width:  100px;\n",
       "        }    #T_55fe5f94_57f0_11eb_9891_02420a3988c1row9_col2 {\n",
       "            width:  100px;\n",
       "        }    #T_55fe5f94_57f0_11eb_9891_02420a3988c1row9_col3 {\n",
       "            background-color:  #f6faff;\n",
       "            color:  #000000;\n",
       "            width:  100px;\n",
       "        }    #T_55fe5f94_57f0_11eb_9891_02420a3988c1row10_col0 {\n",
       "            width:  100px;\n",
       "        }    #T_55fe5f94_57f0_11eb_9891_02420a3988c1row10_col1 {\n",
       "            width:  100px;\n",
       "        }    #T_55fe5f94_57f0_11eb_9891_02420a3988c1row10_col2 {\n",
       "            width:  100px;\n",
       "        }    #T_55fe5f94_57f0_11eb_9891_02420a3988c1row10_col3 {\n",
       "            background-color:  #f7fbff;\n",
       "            color:  #000000;\n",
       "            width:  100px;\n",
       "        }    #T_55fe5f94_57f0_11eb_9891_02420a3988c1row11_col0 {\n",
       "            width:  100px;\n",
       "        }    #T_55fe5f94_57f0_11eb_9891_02420a3988c1row11_col1 {\n",
       "            width:  100px;\n",
       "        }    #T_55fe5f94_57f0_11eb_9891_02420a3988c1row11_col2 {\n",
       "            width:  100px;\n",
       "        }    #T_55fe5f94_57f0_11eb_9891_02420a3988c1row11_col3 {\n",
       "            background-color:  #f7fbff;\n",
       "            color:  #000000;\n",
       "            width:  100px;\n",
       "        }</style><table id=\"T_55fe5f94_57f0_11eb_9891_02420a3988c1\" ><thead>    <tr>        <th class=\"col_heading level0 col0\" >feature</th>        <th class=\"col_heading level0 col1\" >no_churn</th>        <th class=\"col_heading level0 col2\" >churn</th>        <th class=\"col_heading level0 col3\" >%</th>    </tr></thead><tbody>\n",
       "                <tr>\n",
       "                                <td id=\"T_55fe5f94_57f0_11eb_9891_02420a3988c1row0_col0\" class=\"data row0 col0\" >city_ros</td>\n",
       "                        <td id=\"T_55fe5f94_57f0_11eb_9891_02420a3988c1row0_col1\" class=\"data row0 col1\" >0.20</td>\n",
       "                        <td id=\"T_55fe5f94_57f0_11eb_9891_02420a3988c1row0_col2\" class=\"data row0 col2\" >0.40</td>\n",
       "                        <td id=\"T_55fe5f94_57f0_11eb_9891_02420a3988c1row0_col3\" class=\"data row0 col3\" >100.0%</td>\n",
       "            </tr>\n",
       "            <tr>\n",
       "                                <td id=\"T_55fe5f94_57f0_11eb_9891_02420a3988c1row1_col0\" class=\"data row1 col0\" >gender</td>\n",
       "                        <td id=\"T_55fe5f94_57f0_11eb_9891_02420a3988c1row1_col1\" class=\"data row1 col1\" >0.60</td>\n",
       "                        <td id=\"T_55fe5f94_57f0_11eb_9891_02420a3988c1row1_col2\" class=\"data row1 col2\" >0.40</td>\n",
       "                        <td id=\"T_55fe5f94_57f0_11eb_9891_02420a3988c1row1_col3\" class=\"data row1 col3\" >33.3%</td>\n",
       "            </tr>\n",
       "            <tr>\n",
       "                                <td id=\"T_55fe5f94_57f0_11eb_9891_02420a3988c1row2_col0\" class=\"data row2 col0\" >loyalty</td>\n",
       "                        <td id=\"T_55fe5f94_57f0_11eb_9891_02420a3988c1row2_col1\" class=\"data row2 col1\" >0.60</td>\n",
       "                        <td id=\"T_55fe5f94_57f0_11eb_9891_02420a3988c1row2_col2\" class=\"data row2 col2\" >0.40</td>\n",
       "                        <td id=\"T_55fe5f94_57f0_11eb_9891_02420a3988c1row2_col3\" class=\"data row2 col3\" >33.3%</td>\n",
       "            </tr>\n",
       "            <tr>\n",
       "                                <td id=\"T_55fe5f94_57f0_11eb_9891_02420a3988c1row3_col0\" class=\"data row3 col0\" >city_rib</td>\n",
       "                        <td id=\"T_55fe5f94_57f0_11eb_9891_02420a3988c1row3_col1\" class=\"data row3 col1\" >0.30</td>\n",
       "                        <td id=\"T_55fe5f94_57f0_11eb_9891_02420a3988c1row3_col2\" class=\"data row3 col2\" >0.20</td>\n",
       "                        <td id=\"T_55fe5f94_57f0_11eb_9891_02420a3988c1row3_col3\" class=\"data row3 col3\" >33.3%</td>\n",
       "            </tr>\n",
       "            <tr>\n",
       "                                <td id=\"T_55fe5f94_57f0_11eb_9891_02420a3988c1row4_col0\" class=\"data row4 col0\" >age</td>\n",
       "                        <td id=\"T_55fe5f94_57f0_11eb_9891_02420a3988c1row4_col1\" class=\"data row4 col1\" >37.10</td>\n",
       "                        <td id=\"T_55fe5f94_57f0_11eb_9891_02420a3988c1row4_col2\" class=\"data row4 col2\" >44.80</td>\n",
       "                        <td id=\"T_55fe5f94_57f0_11eb_9891_02420a3988c1row4_col3\" class=\"data row4 col3\" >20.8%</td>\n",
       "            </tr>\n",
       "            <tr>\n",
       "                                <td id=\"T_55fe5f94_57f0_11eb_9891_02420a3988c1row5_col0\" class=\"data row5 col0\" >city_yar</td>\n",
       "                        <td id=\"T_55fe5f94_57f0_11eb_9891_02420a3988c1row5_col1\" class=\"data row5 col1\" >0.50</td>\n",
       "                        <td id=\"T_55fe5f94_57f0_11eb_9891_02420a3988c1row5_col2\" class=\"data row5 col2\" >0.40</td>\n",
       "                        <td id=\"T_55fe5f94_57f0_11eb_9891_02420a3988c1row5_col3\" class=\"data row5 col3\" >20.0%</td>\n",
       "            </tr>\n",
       "            <tr>\n",
       "                                <td id=\"T_55fe5f94_57f0_11eb_9891_02420a3988c1row6_col0\" class=\"data row6 col0\" >objects</td>\n",
       "                        <td id=\"T_55fe5f94_57f0_11eb_9891_02420a3988c1row6_col1\" class=\"data row6 col1\" >5.00</td>\n",
       "                        <td id=\"T_55fe5f94_57f0_11eb_9891_02420a3988c1row6_col2\" class=\"data row6 col2\" >4.90</td>\n",
       "                        <td id=\"T_55fe5f94_57f0_11eb_9891_02420a3988c1row6_col3\" class=\"data row6 col3\" >2.0%</td>\n",
       "            </tr>\n",
       "            <tr>\n",
       "                                <td id=\"T_55fe5f94_57f0_11eb_9891_02420a3988c1row7_col0\" class=\"data row7 col0\" >salary</td>\n",
       "                        <td id=\"T_55fe5f94_57f0_11eb_9891_02420a3988c1row7_col1\" class=\"data row7 col1\" >99752.70</td>\n",
       "                        <td id=\"T_55fe5f94_57f0_11eb_9891_02420a3988c1row7_col2\" class=\"data row7 col2\" >101174.30</td>\n",
       "                        <td id=\"T_55fe5f94_57f0_11eb_9891_02420a3988c1row7_col3\" class=\"data row7 col3\" >1.4%</td>\n",
       "            </tr>\n",
       "            <tr>\n",
       "                                <td id=\"T_55fe5f94_57f0_11eb_9891_02420a3988c1row8_col0\" class=\"data row8 col0\" >balance</td>\n",
       "                        <td id=\"T_55fe5f94_57f0_11eb_9891_02420a3988c1row8_col1\" class=\"data row8 col1\" >119611.00</td>\n",
       "                        <td id=\"T_55fe5f94_57f0_11eb_9891_02420a3988c1row8_col2\" class=\"data row8 col2\" >120727.60</td>\n",
       "                        <td id=\"T_55fe5f94_57f0_11eb_9891_02420a3988c1row8_col3\" class=\"data row8 col3\" >0.9%</td>\n",
       "            </tr>\n",
       "            <tr>\n",
       "                                <td id=\"T_55fe5f94_57f0_11eb_9891_02420a3988c1row9_col0\" class=\"data row9 col0\" >score</td>\n",
       "                        <td id=\"T_55fe5f94_57f0_11eb_9891_02420a3988c1row9_col1\" class=\"data row9 col1\" >651.70</td>\n",
       "                        <td id=\"T_55fe5f94_57f0_11eb_9891_02420a3988c1row9_col2\" class=\"data row9 col2\" >648.10</td>\n",
       "                        <td id=\"T_55fe5f94_57f0_11eb_9891_02420a3988c1row9_col3\" class=\"data row9 col3\" >0.6%</td>\n",
       "            </tr>\n",
       "            <tr>\n",
       "                                <td id=\"T_55fe5f94_57f0_11eb_9891_02420a3988c1row10_col0\" class=\"data row10 col0\" >products</td>\n",
       "                        <td id=\"T_55fe5f94_57f0_11eb_9891_02420a3988c1row10_col1\" class=\"data row10 col1\" >1.50</td>\n",
       "                        <td id=\"T_55fe5f94_57f0_11eb_9891_02420a3988c1row10_col2\" class=\"data row10 col2\" >1.50</td>\n",
       "                        <td id=\"T_55fe5f94_57f0_11eb_9891_02420a3988c1row10_col3\" class=\"data row10 col3\" >0.0%</td>\n",
       "            </tr>\n",
       "            <tr>\n",
       "                                <td id=\"T_55fe5f94_57f0_11eb_9891_02420a3988c1row11_col0\" class=\"data row11 col0\" >credit</td>\n",
       "                        <td id=\"T_55fe5f94_57f0_11eb_9891_02420a3988c1row11_col1\" class=\"data row11 col1\" >0.70</td>\n",
       "                        <td id=\"T_55fe5f94_57f0_11eb_9891_02420a3988c1row11_col2\" class=\"data row11 col2\" >0.70</td>\n",
       "                        <td id=\"T_55fe5f94_57f0_11eb_9891_02420a3988c1row11_col3\" class=\"data row11 col3\" >0.0%</td>\n",
       "            </tr>\n",
       "    </tbody></table>"
      ],
      "text/plain": [
       "<pandas.io.formats.style.Styler at 0x7f2455e6b250>"
      ]
     },
     "execution_count": 10,
     "metadata": {},
     "output_type": "execute_result"
    }
   ],
   "source": [
    "#Для таблицы уберем из данных непоказательные призаки и сгруппируем их по призаку 'churn' \n",
    "churn_table = score_cl.drop(['id'], axis = 1).groupby('churn').mean().round(1).T.reset_index()\n",
    "churn_table.columns = ['feature','no_churn', 'churn']\n",
    "\n",
    "#Добавим столобец с абсолютным отклонением 'churn' от 'no_churn' и отсортируем по размеру отклонений ср. значений\n",
    "churn_table['%'] = ((churn_table['churn'] / churn_table['no_churn'])-1).abs()\n",
    "churn_table = churn_table.sort_values(by = '%', ascending = False)\n",
    "\n",
    "#Форматирование таблицы\n",
    "format_dict = {'no_churn': '{:.2f}','churn': '{:.2f}','%': '{:.1%}'}\n",
    "churn_table\\\n",
    ".style\\\n",
    ".format(format_dict)\\\n",
    ".hide_index()\\\n",
    ".background_gradient(subset=['%'], cmap='Blues')\\\n",
    ".set_properties(**{'width': '100px'})"
   ]
  },
  {
   "cell_type": "markdown",
   "metadata": {},
   "source": [
    "На первый взгляд сложно отличить по признакам, уйдет ли человек в отток, но некоторые вещи можно подметить:\n",
    "\n",
    "- В среднем клиенты из Ростова Великого чаще попадают в отток, в то время, как клиенты из Рыбинска и Ярославля, наоброт - реже\n",
    "- Среди попавших в отток больше женщин\n",
    "- Средний возраст клиентов попавших в отток выше \n",
    "- Человек активный в последние 30 дней реже попадает в отток\n",
    "- По остальным показателям группы идентичны"
   ]
  },
  {
   "cell_type": "markdown",
   "metadata": {},
   "source": [
    "### 3.2 Построим столбчатые гистограммы и распределения признаков для тех, кто ушёл (отток) и тех, кто остался (не попали в отток)"
   ]
  },
  {
   "cell_type": "code",
   "execution_count": 11,
   "metadata": {
    "scrolled": false
   },
   "outputs": [
    {
     "data": {
      "image/png": "[encoded data removed]",
      "text/plain": [
       "<Figure size 1600x400 with 1 Axes>"
      ]
     },
     "metadata": {
      "needs_background": "light"
     },
     "output_type": "display_data"
    },
    {
     "data": {
      "image/png": "[encoded data removed]",
      "text/plain": [
       "<Figure size 1600x400 with 1 Axes>"
      ]
     },
     "metadata": {
      "needs_background": "light"
     },
     "output_type": "display_data"
    },
    {
     "data": {
      "image/png": "[encoded data removed]",
      "text/plain": [
       "<Figure size 1600x400 with 1 Axes>"
      ]
     },
     "metadata": {
      "needs_background": "light"
     },
     "output_type": "display_data"
    },
    {
     "data": {
      "image/png": "[encoded data removed]",
      "text/plain": [
       "<Figure size 1600x400 with 1 Axes>"
      ]
     },
     "metadata": {
      "needs_background": "light"
     },
     "output_type": "display_data"
    },
    {
     "data": {
      "image/png": "[encoded data removed]",
      "text/plain": [
       "<Figure size 1600x400 with 1 Axes>"
      ]
     },
     "metadata": {
      "needs_background": "light"
     },
     "output_type": "display_data"
    },
    {
     "data": {
      "image/png": "[encoded data removed]",
      "text/plain": [
       "<Figure size 1600x400 with 1 Axes>"
      ]
     },
     "metadata": {
      "needs_background": "light"
     },
     "output_type": "display_data"
    },
    {
     "data": {
      "image/png": "[encoded data removed]",
      "text/plain": [
       "<Figure size 1600x400 with 1 Axes>"
      ]
     },
     "metadata": {
      "needs_background": "light"
     },
     "output_type": "display_data"
    },
    {
     "data": {
      "image/png": "[encoded data removed]",
      "text/plain": [
       "<Figure size 1600x400 with 1 Axes>"
      ]
     },
     "metadata": {
      "needs_background": "light"
     },
     "output_type": "display_data"
    },
    {
     "data": {
      "image/png": "[encoded data removed]",
      "text/plain": [
       "<Figure size 1600x400 with 1 Axes>"
      ]
     },
     "metadata": {
      "needs_background": "light"
     },
     "output_type": "display_data"
    },
    {
     "data": {
      "image/png": "[encoded data removed]",
      "text/plain": [
       "<Figure size 1600x400 with 1 Axes>"
      ]
     },
     "metadata": {
      "needs_background": "light"
     },
     "output_type": "display_data"
    }
   ],
   "source": [
    "#Разбиваем данные на churn и нет\n",
    "churn_group = score_cl.query('churn == 1')\n",
    "no_churn_group = score_cl.query('churn == 0')\n",
    "\n",
    "#Строим гистогамы через цикл\n",
    "for name in for_hist:\n",
    "    plt.figure(figsize=(20,5), dpi= 80)\n",
    "    sns.distplot(churn_group[name], bins = 24, kde = False, label=\"churn\", color = 'blue')\n",
    "    sns.distplot(no_churn_group[name], bins = 24, kde = False, label=\"no churn\", color = 'black')\n",
    "    plt.legend(loc = 2)\n",
    "    plt.grid()\n",
    "    plt.title(name, fontsize=20)\n",
    "    plt.ylabel(\"\")\n",
    "    plt.xlabel(\"\")"
   ]
  },
  {
   "cell_type": "markdown",
   "metadata": {},
   "source": [
    "Видим наглядное подтверждение прошлого вывода\n",
    "- Также можем заметить только на гистограме, что самая высокая доля оттока - из Ростова Великого, почти половина"
   ]
  },
  {
   "cell_type": "markdown",
   "metadata": {},
   "source": [
    "### 3.3 Построим матрицу корреляций"
   ]
  },
  {
   "cell_type": "code",
   "execution_count": 12,
   "metadata": {},
   "outputs": [
    {
     "data": {
      "text/plain": [
       "Text(0.5, 1, 'Correlation Matrix')"
      ]
     },
     "execution_count": 12,
     "metadata": {},
     "output_type": "execute_result"
    },
    {
     "data": {
      "image/png": "[encoded data removed]",
      "text/plain": [
       "<Figure size 720x720 with 2 Axes>"
      ]
     },
     "metadata": {
      "needs_background": "light"
     },
     "output_type": "display_data"
    }
   ],
   "source": [
    "#Строим татрицу корреляций\n",
    "corr_matrix = score_cl.corr().round(2)\n",
    "\n",
    "#Формат heatmap\n",
    "plt.figure(figsize=(10, 10))\n",
    "sns.heatmap(corr_matrix, annot = True, square = True, cmap=\"Blues\")\n",
    "plt.title('Correlation Matrix', fontsize=32)"
   ]
  },
  {
   "cell_type": "markdown",
   "metadata": {},
   "source": [
    "#### Коллинеарность\n",
    "- На матрице корреляций видим межколлинеарных признаки между городами, так как на churn оказывает влияние только Ростов, оставим только его, тем самым избавшись и от межколлинеарности\n",
    "\n",
    "#### Влияние на отток\n",
    "- Город\n",
    "- Лояльность (активность в последние 30 дней)\n",
    "- Возраст\n",
    "- Пол\n",
    "\n",
    "Все признаки очень слабо влиют на отток, самое большое влияние оказывает возраст."
   ]
  },
  {
   "cell_type": "markdown",
   "metadata": {},
   "source": [
    "В итоговом анализе оставим только признаки имеющие влияние на отток и снова постром матрицу"
   ]
  },
  {
   "cell_type": "code",
   "execution_count": 13,
   "metadata": {},
   "outputs": [
    {
     "data": {
      "text/plain": [
       "Text(0.5, 1, 'Filtered Correlation Matrix')"
      ]
     },
     "execution_count": 13,
     "metadata": {},
     "output_type": "execute_result"
    },
    {
     "data": {
      "image/png": "[encoded data removed]",
      "text/plain": [
       "<Figure size 720x720 with 2 Axes>"
      ]
     },
     "metadata": {
      "needs_background": "light"
     },
     "output_type": "display_data"
    }
   ],
   "source": [
    "#Удаляем невлиющие признкаки из данных\n",
    "main_features = score_cl.drop(['id',\n",
    "         'score',\n",
    "         'city_rib',\n",
    "         'city_yar',\n",
    "         'objects',\n",
    "         'balance',\n",
    "         'products',\n",
    "         'credit',\n",
    "         'salary'],axis = 1)\n",
    "\n",
    "#Строим татрицу корреляций для скорректированных данных\n",
    "corr_matrix = main_features.corr().round(2)\n",
    "\n",
    "#Формат heatmap\n",
    "plt.figure(figsize=(10, 10))\n",
    "sns.heatmap(corr_matrix, annot = True, square = True, cmap=\"Blues\")\n",
    "plt.title('Filtered Correlation Matrix', fontsize=32)"
   ]
  },
  {
   "cell_type": "markdown",
   "metadata": {},
   "source": [
    "### Вывод (Исследовательский анализ данных)\n",
    "\n",
    "#### Анализ первичных данных:\n",
    "После анализа первичных данных очистили их от выбросов:\n",
    "\n",
    "- Убрали клиентов, возраст которых более 75 лет\n",
    "- Отсавили клиентов со скором более 400\n",
    "\n",
    "Проанализировали аномалии, но ничего сделать с ними не стали, так как это вписывается в ественное происхождение:\n",
    "\n",
    "- Нашли аномально низкую зарплату в 11 рублей (возможно, клиент не захотел указывать верную ниформацию или не имеет официального дохода) \n",
    "- Есть клиенты у которых во владении 10 объектов ( ну почему бы и нет ))) )\n",
    "\n",
    "Средние и медианы\n",
    "- в целом везде средние и медианы практически равны, это говорит о незначительном числе выбросов, но для более подробного анализа построим гистограммы по нашим признаками для детальной оценки выбросов.\n",
    "\n",
    "Стандартное отклонение\n",
    "- Значительное стандартное отклонение можем наблюдать только в столбцах `salary` и `objects`, что может говорить о большом разбросе доходов и объектов владения наших клиентов\n",
    "\n",
    "Территориальный признак\n",
    "- Больше всего клиентов у нас в Ярославле\n",
    "\n",
    "#### Более подробный анализ обработанных данных\n",
    "\n",
    "Группировка по призаку \"отток/не отток\"\n",
    "\n",
    "- Среди попавших в отток больше женщин\n",
    "- Средний возраст клиентов попавших в отток выше \n",
    "- Человек активный в последние 30 дней реже попадает в отток\n",
    "- Самая высокая доля оттока - из Ростова Великого, почти половина\n",
    "- По остальным показателям группы идентичны\n",
    "\n",
    "#### Анализ взаимосвязи призаков \n",
    "\n",
    "Коллинеарность\n",
    "- На матрице корреляций нашли и удалили межколлинеарные призаки\n",
    "\n",
    "Влияние на отток\n",
    "- Город\n",
    "- Лояльность (активность в последние 30 дней)\n",
    "- Возраст\n",
    "- Пол\n",
    "\n",
    "Но признаки очень слабо влиют на отток, самое большое влияние оказывает возраст."
   ]
  },
  {
   "cell_type": "markdown",
   "metadata": {},
   "source": [
    "<a id='Шаг 4'></a>\n",
    "# Шаг 4. Модель прогнозирования оттока клиентов"
   ]
  },
  {
   "cell_type": "markdown",
   "metadata": {},
   "source": [
    "### Шаг 4.1. Оценка баланса классов"
   ]
  },
  {
   "cell_type": "markdown",
   "metadata": {},
   "source": [
    "Еще раз проведем оценку баланса классов"
   ]
  },
  {
   "cell_type": "code",
   "execution_count": 14,
   "metadata": {},
   "outputs": [
    {
     "data": {
      "text/plain": [
       "0    0.8\n",
       "1    0.2\n",
       "Name: churn, dtype: float64"
      ]
     },
     "execution_count": 14,
     "metadata": {},
     "output_type": "execute_result"
    }
   ],
   "source": [
    "#Посмотрим на долю классов в выборке\n",
    "main_features['churn'].value_counts(normalize = True).round(2)"
   ]
  },
  {
   "cell_type": "markdown",
   "metadata": {},
   "source": [
    "Так как классы не сбалансированы, следует вычислить необходимый нам порог, как дисбаланс в классах сильно влияет на метрики"
   ]
  },
  {
   "cell_type": "markdown",
   "metadata": {},
   "source": [
    "### Шаг 4.2. Разобьем данные на обучающую и валидационную выборки,  стандартизируем их и обучим модель логистической регрессией и случайным лесом"
   ]
  },
  {
   "cell_type": "code",
   "execution_count": 15,
   "metadata": {},
   "outputs": [],
   "source": [
    "#Перед разделением данных выделим из них: целевую переменную (y) и матрицу признаков (x)\n",
    "#Используем stratify, для сохранения 20% значений нужного нам количества классов в целевой переменной\n",
    "X = main_features.drop(['churn'], axis = 1)\n",
    "y = main_features['churn']\n",
    "X_train, X_test, y_train, y_test = train_test_split(X, y, test_size=0.2, random_state = 42, stratify = y) \n",
    "\n",
    "#Проведем стандартизацию данных\n",
    "sc = StandardScaler()\n",
    "X_train_st = sc.fit_transform(X_train)\n",
    "X_test_st = sc.transform(X_test)\n",
    "\n",
    "#Обучаем модель логистической регрессией и создаем массив с предсказаниями\n",
    "lr_model = LogisticRegression(random_state = 42)\n",
    "lr_model.fit(X_train_st, y_train)\n",
    "lr_prediction = lr_model.predict(X_test_st)\n",
    "\n",
    "#Обучаем модель случайным лесом\n",
    "rf_model = RandomForestClassifier(random_state = 42)\n",
    "rf_model.fit(X_train_st, y_train)\n",
    "rf_prediction = rf_model.predict(X_test_st)"
   ]
  },
  {
   "cell_type": "markdown",
   "metadata": {},
   "source": [
    "### Шаг 4.3. Определение порога для моделей"
   ]
  },
  {
   "cell_type": "markdown",
   "metadata": {},
   "source": [
    "Попробуем найти подходящие пороги для наших моделей, при котором разница между чувствительностью (recall) и специфичностью (FPT) будет максимальна"
   ]
  },
  {
   "cell_type": "code",
   "execution_count": 16,
   "metadata": {},
   "outputs": [
    {
     "data": {
      "text/html": [
       "<div>\n",
       "<style scoped>\n",
       "    .dataframe tbody tr th:only-of-type {\n",
       "        vertical-align: middle;\n",
       "    }\n",
       "\n",
       "    .dataframe tbody tr th {\n",
       "        vertical-align: top;\n",
       "    }\n",
       "\n",
       "    .dataframe thead th {\n",
       "        text-align: right;\n",
       "    }\n",
       "</style>\n",
       "<table border=\"1\" class=\"dataframe\">\n",
       "  <thead>\n",
       "    <tr style=\"text-align: right;\">\n",
       "      <th></th>\n",
       "      <th>fpr</th>\n",
       "      <th>tpr</th>\n",
       "      <th>thresholds</th>\n",
       "      <th>tpr-fpr</th>\n",
       "    </tr>\n",
       "  </thead>\n",
       "  <tbody>\n",
       "    <tr>\n",
       "      <td>141</td>\n",
       "      <td>0.242731</td>\n",
       "      <td>0.690594</td>\n",
       "      <td>0.194683</td>\n",
       "      <td>0.447863</td>\n",
       "    </tr>\n",
       "  </tbody>\n",
       "</table>\n",
       "</div>"
      ],
      "text/plain": [
       "          fpr       tpr  thresholds   tpr-fpr\n",
       "141  0.242731  0.690594    0.194683  0.447863"
      ]
     },
     "execution_count": 16,
     "metadata": {},
     "output_type": "execute_result"
    }
   ],
   "source": [
    "#расчитаем лучший порог для модели случайного леса.\n",
    "rf_roc_proba = rf_model.predict_proba(X_test_st)\n",
    "fpr, tpr, thresholds = roc_curve(y_test, rf_roc_proba[:,1])\n",
    "thr = pd.DataFrame({'fpr':fpr,'tpr':tpr,'thresholds':thresholds})\n",
    "\n",
    "#Лучший порог определяем исходя из разницы между tpr и fpr\n",
    "thr['tpr-fpr'] = thr['tpr'] - thr['fpr']\n",
    "thr.sort_values( by = 'tpr-fpr', ascending = False).head(1)"
   ]
  },
  {
   "cell_type": "code",
   "execution_count": 17,
   "metadata": {},
   "outputs": [],
   "source": [
    "threshold_rf = 0.173571"
   ]
  },
  {
   "cell_type": "markdown",
   "metadata": {},
   "source": [
    "Теперь сделаем тоже самое для модели линейной регрессии"
   ]
  },
  {
   "cell_type": "code",
   "execution_count": 18,
   "metadata": {},
   "outputs": [
    {
     "data": {
      "text/html": [
       "<div>\n",
       "<style scoped>\n",
       "    .dataframe tbody tr th:only-of-type {\n",
       "        vertical-align: middle;\n",
       "    }\n",
       "\n",
       "    .dataframe tbody tr th {\n",
       "        vertical-align: top;\n",
       "    }\n",
       "\n",
       "    .dataframe thead th {\n",
       "        text-align: right;\n",
       "    }\n",
       "</style>\n",
       "<table border=\"1\" class=\"dataframe\">\n",
       "  <thead>\n",
       "    <tr style=\"text-align: right;\">\n",
       "      <th></th>\n",
       "      <th>fpr</th>\n",
       "      <th>tpr</th>\n",
       "      <th>thresholds</th>\n",
       "      <th>tpr-fpr</th>\n",
       "    </tr>\n",
       "  </thead>\n",
       "  <tbody>\n",
       "    <tr>\n",
       "      <td>180</td>\n",
       "      <td>0.264223</td>\n",
       "      <td>0.693069</td>\n",
       "      <td>0.209447</td>\n",
       "      <td>0.428847</td>\n",
       "    </tr>\n",
       "  </tbody>\n",
       "</table>\n",
       "</div>"
      ],
      "text/plain": [
       "          fpr       tpr  thresholds   tpr-fpr\n",
       "180  0.264223  0.693069    0.209447  0.428847"
      ]
     },
     "execution_count": 18,
     "metadata": {},
     "output_type": "execute_result"
    }
   ],
   "source": [
    "#расчитаем лучший порог для модели линейной регрессии.\n",
    "lr_roc_proba = lr_model.predict_proba(X_test_st)\n",
    "fpr, tpr, thresholds = roc_curve(y_test, lr_roc_proba[:,1])\n",
    "thr = pd.DataFrame({'fpr':fpr,'tpr':tpr,'thresholds':thresholds})\n",
    "\n",
    "#Лучший порог определяем исходя из разницы между tpr и fpr\n",
    "thr['tpr-fpr'] = thr['tpr'] - thr['fpr']\n",
    "thr.sort_values( by = 'tpr-fpr', ascending = False).head(1)"
   ]
  },
  {
   "cell_type": "code",
   "execution_count": 19,
   "metadata": {},
   "outputs": [],
   "source": [
    "threshold_lr = 0.199871"
   ]
  },
  {
   "cell_type": "markdown",
   "metadata": {},
   "source": [
    "Определили пороги:\n",
    "- для случайного леса 0.173571\n",
    "- для линейной регрессии 0.199871\n",
    "\n",
    "Посмотрим на площади под кривыми у наших моделей и сравним их"
   ]
  },
  {
   "cell_type": "code",
   "execution_count": 20,
   "metadata": {},
   "outputs": [
    {
     "data": {
      "image/png": "[encoded data removed]",
      "text/plain": [
       "<Figure size 400x400 with 1 Axes>"
      ]
     },
     "metadata": {
      "needs_background": "light"
     },
     "output_type": "display_data"
    }
   ],
   "source": [
    "#Извлекаем данные из предсказаний\n",
    "fpr_rf, tpr_rf, thresholds_rf = roc_curve(y_test, rf_roc_proba[:,1])\n",
    "fpr_lr, tpr_lr, thresholds_lr = roc_curve(y_test, lr_roc_proba[:,1])\n",
    "rf_roc = roc_auc_score(y_test, rf_roc_proba[:,1])\n",
    "lr_roc = roc_auc_score(y_test, lr_roc_proba[:,1])\n",
    "\n",
    "#Строим график\n",
    "plt.figure(figsize=(5,5), dpi= 80)\n",
    "plt.plot(fpr_rf,tpr_rf, label='Randon Forest area = %0.2f)' % rf_roc)\n",
    "plt.plot(fpr_lr,tpr_lr, label='Logistic Regression area = %0.2f)' % lr_roc)\n",
    "plt.grid()\n",
    "plt.xlabel('False Positive Rate')\n",
    "plt.ylabel('True Positive Rate')\n",
    "plt.title('ROC AUC', fontsize=20)\n",
    "plt.xlim([0.0, 1.0])\n",
    "plt.ylim([0.0, 1.0])\n",
    "plt.legend(loc=\"lower right\")\n",
    "plt.show()"
   ]
  },
  {
   "cell_type": "markdown",
   "metadata": {},
   "source": [
    "Видим, что разницы по метрике ROC AUC (площадь под кривой ошибки) практически нет. Думаю, необходимо вычислить Recall для моделей, чтобы мы могли выбрать лучшую"
   ]
  },
  {
   "cell_type": "markdown",
   "metadata": {},
   "source": [
    "Создадим массивы с предсказаниями для расчета метрик"
   ]
  },
  {
   "cell_type": "code",
   "execution_count": 21,
   "metadata": {},
   "outputs": [],
   "source": [
    "#Создаем массив с предсказаниями настроенными вручную для логической регрессии\n",
    "lr_probabilities = lr_model.predict_proba(X_test_st)[:,1]\n",
    "custom_lr_prediction = [0 if i< threshold_lr else 1 for i in lr_probabilities]\n",
    "\n",
    "#Создаем массив с предсказаниями настроенными вручную для случайного леса\n",
    "rf_probabilities = rf_model.predict_proba(X_test_st)[:,1]\n",
    "custom_rf_prediction = [0 if i < threshold_rf else 1 for i in rf_probabilities]"
   ]
  },
  {
   "cell_type": "markdown",
   "metadata": {},
   "source": [
    "### Шаг 4.4. Оценим метрики accuracy, precision, recall, F1 и ROC AUC для обеих моделей на валидационной выборке. Сравним по ним модели."
   ]
  },
  {
   "cell_type": "markdown",
   "metadata": {},
   "source": [
    "Проведем расчеты метрик с использованием порога и без, и сравним их"
   ]
  },
  {
   "cell_type": "code",
   "execution_count": 22,
   "metadata": {
    "scrolled": true
   },
   "outputs": [
    {
     "name": "stdout",
     "output_type": "stream",
     "text": [
      "Logistic Regression:        Аccuracy 0.825, Precision 0.709, Recall 0.235, F1 Score 0.353\n",
      "Random Forest:              Accuracy 0.833, Precision 0.665, Recall 0.364, F1 Score 0.470\n",
      "\n",
      "Logistic Regression Custom: Аccuracy 0.710, Precision 0.384, Recall 0.708, F1 Score 0.498\n",
      "Random Forest Custom:       Аccuracy 0.711, Precision 0.388, Recall 0.728, F1 Score 0.506\n"
     ]
    }
   ],
   "source": [
    "#Расчет доли правильных ответов (Accuracy)\n",
    "lr_acc = accuracy_score(y_test, lr_prediction)\n",
    "rf_acc = accuracy_score(y_test, rf_prediction)\n",
    "lr_acc_cus = accuracy_score(y_test, custom_lr_prediction)\n",
    "rf_acc_cus = accuracy_score(y_test, custom_rf_prediction)\n",
    "\n",
    "#Расчет доли правильных ответов только среди целевого класса (Precision)\n",
    "lr_precision = precision_score(y_test, lr_prediction)\n",
    "rf_precision = precision_score(y_test, rf_prediction)\n",
    "lr_precision_cus = precision_score(y_test, custom_lr_prediction)\n",
    "rf_precision_cus = precision_score(y_test, custom_rf_prediction)\n",
    "\n",
    "#Расчет полноты (Recall)\n",
    "lr_recall = recall_score(y_test, lr_prediction)\n",
    "rf_recall = recall_score(y_test, rf_prediction)\n",
    "lr_recall_cus = recall_score(y_test, custom_lr_prediction)\n",
    "rf_recall_cus = recall_score(y_test, custom_rf_prediction)\n",
    "\n",
    "#Расчет балансирующей метрики (F1)\n",
    "lr_f1 = f1_score(y_test, lr_prediction)\n",
    "rf_f1 = f1_score(y_test, rf_prediction)\n",
    "lr_f1_cus = f1_score(y_test, custom_lr_prediction)\n",
    "rf_f1_cus = f1_score(y_test, custom_rf_prediction)\n",
    "\n",
    "print('Logistic Regression:        Аccuracy {:.3f}, Precision {:.3f}, Recall {:.3f}, F1 Score {:.3f}'.format(lr_acc,lr_precision,lr_recall,lr_f1))\n",
    "print('Random Forest:              Accuracy {:.3f}, Precision {:.3f}, Recall {:.3f}, F1 Score {:.3f}'.format(rf_acc,rf_precision,rf_recall,rf_f1))\n",
    "print()\n",
    "print('Logistic Regression Custom: Аccuracy {:.3f}, Precision {:.3f}, Recall {:.3f}, F1 Score {:.3f}'.format(lr_acc_cus,lr_precision_cus,lr_recall_cus,lr_f1_cus))\n",
    "print('Random Forest Custom:       Аccuracy {:.3f}, Precision {:.3f}, Recall {:.3f}, F1 Score {:.3f}'.format(rf_acc_cus,rf_precision_cus,rf_recall_cus,rf_f1_cus))"
   ]
  },
  {
   "cell_type": "markdown",
   "metadata": {},
   "source": [
    "Как видим из результатов, вычисление порогов увеличивает самую важную для нас метрику recall примерно в 2,5 раза. Неплохой резульат"
   ]
  },
  {
   "cell_type": "markdown",
   "metadata": {},
   "source": [
    "### Вывод (Модель прогнозирования)\n",
    "\n",
    "- Определили баланс классов 20/80\n",
    "- Разбили данные на обучающую и валидационную выборки, стандартизировали их и обучили модель логистической регрессией и случайным лесом\n",
    "- Установили пороги для каждой модели\n",
    "- Рассчитали ROC AUC (Площадь под кривой для моделей)\n",
    "- Модель обученая случайным лесом предсказывает лучше, после учета корректировки на баланс классов ее доля правильных ответов составляет более 71%. При этом по всем остальным показателям случайный лес тоже впереди. \n",
    "- Самая важная для нас метрике RECALL (доля правильно предсказанного оттока) составляет 73%\n",
    "- При помощи установки порогов для моделей, удалось увеличить метрику recall в 2,5 раза\n"
   ]
  },
  {
   "cell_type": "markdown",
   "metadata": {},
   "source": [
    "<a id='Шаг 5'></a>\n",
    "# Шаг 5. Выделение портрета клиентов, склонных уходить из банка (Кластеризация)"
   ]
  },
  {
   "cell_type": "code",
   "execution_count": 23,
   "metadata": {},
   "outputs": [
    {
     "data": {
      "image/png": "[encoded data removed]",
      "text/plain": [
       "<Figure size 1080x720 with 1 Axes>"
      ]
     },
     "metadata": {
      "needs_background": "light"
     },
     "output_type": "display_data"
    }
   ],
   "source": [
    "#for_cluster = main_features.drop(['churn'], axis= 1)\n",
    "\n",
    "#Поведем стандартизацию данных\n",
    "sc = StandardScaler()\n",
    "\n",
    "#Стандартизация данных\n",
    "X_sc = sc.fit_transform(main_features)\n",
    "linked = linkage(X_sc, method = 'ward') \n",
    "\n",
    "#Строим дендограмму\n",
    "plt.figure(figsize=(15, 10))  \n",
    "dendrogram(linked, orientation='top')\n",
    "plt.show() "
   ]
  },
  {
   "cell_type": "markdown",
   "metadata": {},
   "source": [
    "Из дендограмы видим, что все данные лучше поделить на 3 кластера"
   ]
  },
  {
   "cell_type": "markdown",
   "metadata": {},
   "source": [
    "### 5.2 Обучим модель кластеризации на основании алгоритма K-Means и спрогнозируем кластеры клиентов. Посмотрим на средние значения признаков для кластеров."
   ]
  },
  {
   "cell_type": "code",
   "execution_count": 24,
   "metadata": {},
   "outputs": [
    {
     "data": {
      "text/html": [
       "<style  type=\"text/css\" >\n",
       "    #T_34fd6c12_57f1_11eb_9891_02420a3988c1row0_col0 {\n",
       "            background-color:  #08306b;\n",
       "            color:  #f1f1f1;\n",
       "            width:  100px;\n",
       "        }    #T_34fd6c12_57f1_11eb_9891_02420a3988c1row0_col1 {\n",
       "            background-color:  #084184;\n",
       "            color:  #f1f1f1;\n",
       "            width:  100px;\n",
       "        }    #T_34fd6c12_57f1_11eb_9891_02420a3988c1row0_col2 {\n",
       "            background-color:  #f7fbff;\n",
       "            color:  #000000;\n",
       "            width:  100px;\n",
       "        }    #T_34fd6c12_57f1_11eb_9891_02420a3988c1row1_col0 {\n",
       "            background-color:  #aed1e7;\n",
       "            color:  #000000;\n",
       "            width:  100px;\n",
       "        }    #T_34fd6c12_57f1_11eb_9891_02420a3988c1row1_col1 {\n",
       "            background-color:  #f7fbff;\n",
       "            color:  #000000;\n",
       "            width:  100px;\n",
       "        }    #T_34fd6c12_57f1_11eb_9891_02420a3988c1row1_col2 {\n",
       "            background-color:  #08306b;\n",
       "            color:  #f1f1f1;\n",
       "            width:  100px;\n",
       "        }    #T_34fd6c12_57f1_11eb_9891_02420a3988c1row2_col0 {\n",
       "            background-color:  #08306b;\n",
       "            color:  #f1f1f1;\n",
       "            width:  100px;\n",
       "        }    #T_34fd6c12_57f1_11eb_9891_02420a3988c1row2_col1 {\n",
       "            background-color:  #f7fbff;\n",
       "            color:  #000000;\n",
       "            width:  100px;\n",
       "        }    #T_34fd6c12_57f1_11eb_9891_02420a3988c1row2_col2 {\n",
       "            background-color:  #a3cce3;\n",
       "            color:  #000000;\n",
       "            width:  100px;\n",
       "        }    #T_34fd6c12_57f1_11eb_9891_02420a3988c1row3_col0 {\n",
       "            background-color:  #f7fbff;\n",
       "            color:  #000000;\n",
       "            width:  100px;\n",
       "        }    #T_34fd6c12_57f1_11eb_9891_02420a3988c1row3_col1 {\n",
       "            background-color:  #f7fbff;\n",
       "            color:  #000000;\n",
       "            width:  100px;\n",
       "        }    #T_34fd6c12_57f1_11eb_9891_02420a3988c1row3_col2 {\n",
       "            background-color:  #08306b;\n",
       "            color:  #f1f1f1;\n",
       "            width:  100px;\n",
       "        }    #T_34fd6c12_57f1_11eb_9891_02420a3988c1row4_col0 {\n",
       "            background-color:  #f1f7fd;\n",
       "            color:  #000000;\n",
       "            width:  100px;\n",
       "        }    #T_34fd6c12_57f1_11eb_9891_02420a3988c1row4_col1 {\n",
       "            background-color:  #f7fbff;\n",
       "            color:  #000000;\n",
       "            width:  100px;\n",
       "        }    #T_34fd6c12_57f1_11eb_9891_02420a3988c1row4_col2 {\n",
       "            background-color:  #08306b;\n",
       "            color:  #f1f1f1;\n",
       "            width:  100px;\n",
       "        }</style><table id=\"T_34fd6c12_57f1_11eb_9891_02420a3988c1\" ><thead>    <tr>        <th class=\"index_name level0\" >labels</th>        <th class=\"col_heading level0 col0\" >0</th>        <th class=\"col_heading level0 col1\" >1</th>        <th class=\"col_heading level0 col2\" >2</th>    </tr></thead><tbody>\n",
       "                <tr>\n",
       "                        <th id=\"T_34fd6c12_57f1_11eb_9891_02420a3988c1level0_row0\" class=\"row_heading level0 row0\" >gender</th>\n",
       "                        <td id=\"T_34fd6c12_57f1_11eb_9891_02420a3988c1row0_col0\" class=\"data row0 col0\" >0.58</td>\n",
       "                        <td id=\"T_34fd6c12_57f1_11eb_9891_02420a3988c1row0_col1\" class=\"data row0 col1\" >0.57</td>\n",
       "                        <td id=\"T_34fd6c12_57f1_11eb_9891_02420a3988c1row0_col2\" class=\"data row0 col2\" >0.44</td>\n",
       "            </tr>\n",
       "            <tr>\n",
       "                        <th id=\"T_34fd6c12_57f1_11eb_9891_02420a3988c1level0_row1\" class=\"row_heading level0 row1\" >age</th>\n",
       "                        <td id=\"T_34fd6c12_57f1_11eb_9891_02420a3988c1row1_col0\" class=\"data row1 col0\" >38.51</td>\n",
       "                        <td id=\"T_34fd6c12_57f1_11eb_9891_02420a3988c1row1_col1\" class=\"data row1 col1\" >35.43</td>\n",
       "                        <td id=\"T_34fd6c12_57f1_11eb_9891_02420a3988c1row1_col2\" class=\"data row1 col2\" >44.84</td>\n",
       "            </tr>\n",
       "            <tr>\n",
       "                        <th id=\"T_34fd6c12_57f1_11eb_9891_02420a3988c1level0_row2\" class=\"row_heading level0 row2\" >loyalty</th>\n",
       "                        <td id=\"T_34fd6c12_57f1_11eb_9891_02420a3988c1row2_col0\" class=\"data row2 col0\" >1.00</td>\n",
       "                        <td id=\"T_34fd6c12_57f1_11eb_9891_02420a3988c1row2_col1\" class=\"data row2 col1\" >0.00</td>\n",
       "                        <td id=\"T_34fd6c12_57f1_11eb_9891_02420a3988c1row2_col2\" class=\"data row2 col2\" >0.36</td>\n",
       "            </tr>\n",
       "            <tr>\n",
       "                        <th id=\"T_34fd6c12_57f1_11eb_9891_02420a3988c1level0_row3\" class=\"row_heading level0 row3\" >churn</th>\n",
       "                        <td id=\"T_34fd6c12_57f1_11eb_9891_02420a3988c1row3_col0\" class=\"data row3 col0\" >0.00</td>\n",
       "                        <td id=\"T_34fd6c12_57f1_11eb_9891_02420a3988c1row3_col1\" class=\"data row3 col1\" >0.00</td>\n",
       "                        <td id=\"T_34fd6c12_57f1_11eb_9891_02420a3988c1row3_col2\" class=\"data row3 col2\" >1.00</td>\n",
       "            </tr>\n",
       "            <tr>\n",
       "                        <th id=\"T_34fd6c12_57f1_11eb_9891_02420a3988c1level0_row4\" class=\"row_heading level0 row4\" >city_ros</th>\n",
       "                        <td id=\"T_34fd6c12_57f1_11eb_9891_02420a3988c1row4_col0\" class=\"data row4 col0\" >0.22</td>\n",
       "                        <td id=\"T_34fd6c12_57f1_11eb_9891_02420a3988c1row4_col1\" class=\"data row4 col1\" >0.21</td>\n",
       "                        <td id=\"T_34fd6c12_57f1_11eb_9891_02420a3988c1row4_col2\" class=\"data row4 col2\" >0.40</td>\n",
       "            </tr>\n",
       "    </tbody></table>"
      ],
      "text/plain": [
       "<pandas.io.formats.style.Styler at 0x7f24569ff2d0>"
      ]
     },
     "execution_count": 24,
     "metadata": {},
     "output_type": "execute_result"
    }
   ],
   "source": [
    "#Обучим модель кластеризации K-Means\n",
    "km = KMeans(n_clusters = 3, random_state = 42) \n",
    "labels = km.fit_predict(X_sc)\n",
    "\n",
    "#Добавим столбец с номером кластера к общей таблице и посмотрим на средние значения по кластерам\n",
    "main_features['labels']  = labels\n",
    "cluster = main_features.groupby('labels').mean().T\n",
    "cluster.columns = cluster.columns.astype('str')\n",
    "\n",
    "#Форматирование таблицы\n",
    "format_dict = {'0': '{:.2f}','1': '{:.2f}','2': '{:.2f}'}\n",
    "cluster\\\n",
    ".style\\\n",
    ".format(format_dict)\\\n",
    ".background_gradient(subset=['0','1','2'], cmap='Blues', axis = 1)\\\n",
    ".set_properties(**{'width': '100px'})"
   ]
  },
  {
   "cell_type": "markdown",
   "metadata": {},
   "source": [
    "Исходя из таблицы можно сделать предположения, по каким признаками прошла кластеризация. \n",
    "\n",
    "- Кластер 0 - Самые активные пользователи\n",
    "- Кластер 1 - Самые молодые пользователи\n",
    "- Кластер 2 - Пользователи из Ростова Великого и самые возростные и чаще женщины\n",
    "\n",
    "Дадим соответствующие названия кластерам"
   ]
  },
  {
   "cell_type": "code",
   "execution_count": 25,
   "metadata": {},
   "outputs": [],
   "source": [
    "main_features['labels'] = main_features['labels'].map({0: 'loyalty', 1: 'young', 2: 'rostov'})"
   ]
  },
  {
   "cell_type": "markdown",
   "metadata": {},
   "source": [
    "### 5.4 Построим распределения признаков для кластеров"
   ]
  },
  {
   "cell_type": "code",
   "execution_count": 26,
   "metadata": {
    "scrolled": false
   },
   "outputs": [
    {
     "data": {
      "image/png": "[encoded data removed]",
      "text/plain": [
       "<Figure size 1600x400 with 1 Axes>"
      ]
     },
     "metadata": {
      "needs_background": "light"
     },
     "output_type": "display_data"
    },
    {
     "data": {
      "image/png": "[encoded data removed]",
      "text/plain": [
       "<Figure size 1600x400 with 1 Axes>"
      ]
     },
     "metadata": {
      "needs_background": "light"
     },
     "output_type": "display_data"
    },
    {
     "data": {
      "image/png": "[encoded data removed]",
      "text/plain": [
       "<Figure size 1600x400 with 1 Axes>"
      ]
     },
     "metadata": {
      "needs_background": "light"
     },
     "output_type": "display_data"
    },
    {
     "data": {
      "image/png": "[encoded data removed]",
      "text/plain": [
       "<Figure size 1600x400 with 1 Axes>"
      ]
     },
     "metadata": {
      "needs_background": "light"
     },
     "output_type": "display_data"
    },
    {
     "data": {
      "image/png": "[encoded data removed]",
      "text/plain": [
       "<Figure size 1600x400 with 1 Axes>"
      ]
     },
     "metadata": {
      "needs_background": "light"
     },
     "output_type": "display_data"
    }
   ],
   "source": [
    "label_0 = main_features.query('labels == \"loyalty\"').drop(['labels'],axis = 1)\n",
    "label_1 = main_features.query('labels == \"young\"').drop(['labels'],axis = 1)\n",
    "label_2 = main_features.query('labels == \"rostov\"').drop(['labels'],axis = 1)\n",
    "\n",
    "\n",
    "#Строим гистогамы через цикл\n",
    "for feature in label_0.columns:\n",
    "    plt.figure(figsize=(20,5), dpi= 80)\n",
    "    sns.distplot(label_0[feature], bins = 24, kde = False, label=\"loyalty\", color = 'blue')\n",
    "    sns.distplot(label_1[feature], bins = 24, kde = False, label=\"age\", color = 'red')\n",
    "    sns.distplot(label_2[feature], bins = 24, kde = False, label=\"rostov\", color = 'yellow')\n",
    "    plt.legend(loc = 2)\n",
    "    plt.grid()\n",
    "    plt.title(feature, fontsize=20)\n",
    "    plt.ylabel(\"\")\n",
    "    plt.xlabel(\"\")\n",
    "    plt.show() "
   ]
  },
  {
   "cell_type": "markdown",
   "metadata": {},
   "source": [
    "После построения графиков видим, что наши предположения подтвердились"
   ]
  },
  {
   "cell_type": "markdown",
   "metadata": {},
   "source": [
    "### Вывод (Выделение портрета клиентов, склонных уходить из банка)\n",
    "\n",
    "- Кластеризовали клиентов на три группы, с помощью анализа определили критерии кластеризации: \n",
    "    - молодые\n",
    "    - активные\n",
    "    - клиенты из Ростова Великого\n",
    "    \n",
    "- Посмотрели на гистограмы по группам, чтобы убедится в правильности интерпретации кластеризации\n",
    "- Посчитали и распределили кластеры по доли оттока.\n",
    "- Дали рекомендации и объяснения по кластерам\n",
    "\n",
    "### Портрет клиента, склонного уходить из банка\n",
    "\n",
    "Вероятнее всего это:\n",
    "\n",
    "- Клиент из Ростова\n",
    "- Возраст около 45 лет\n",
    "- Женщина\n",
    "- С невысокой активностью"
   ]
  },
  {
   "cell_type": "markdown",
   "metadata": {},
   "source": [
    "<a id='Шаг 6'></a>    \n",
    "# Шаг 6. Формулировка и проверка статистических гипотез (A/B тест) "
   ]
  },
  {
   "cell_type": "code",
   "execution_count": 27,
   "metadata": {},
   "outputs": [
    {
     "data": {
      "text/plain": [
       "0.0125"
      ]
     },
     "execution_count": 27,
     "metadata": {},
     "output_type": "execute_result"
    }
   ],
   "source": [
    "#Поскольку тестов у нас четыре, приведем коррекцию уровня значимости методом Бонферрони\n",
    "alpha = 0.05\n",
    "alpha = alpha / 4\n",
    "alpha"
   ]
  },
  {
   "cell_type": "markdown",
   "metadata": {},
   "source": [
    "Так как у нас везде будут использоваться гипотезы о равенстве средних значений двух совокупностей, будем использовать тест Стьюдента"
   ]
  },
  {
   "cell_type": "markdown",
   "metadata": {},
   "source": [
    "### 6.1 Посчитаем статистическую значимость различий в среднем доходе между теми, кто ушёл и теми, кто остался"
   ]
  },
  {
   "cell_type": "code",
   "execution_count": 28,
   "metadata": {},
   "outputs": [
    {
     "data": {
      "text/html": [
       "<div>\n",
       "<style scoped>\n",
       "    .dataframe tbody tr th:only-of-type {\n",
       "        vertical-align: middle;\n",
       "    }\n",
       "\n",
       "    .dataframe tbody tr th {\n",
       "        vertical-align: top;\n",
       "    }\n",
       "\n",
       "    .dataframe thead th {\n",
       "        text-align: right;\n",
       "    }\n",
       "</style>\n",
       "<table border=\"1\" class=\"dataframe\">\n",
       "  <thead>\n",
       "    <tr style=\"text-align: right;\">\n",
       "      <th></th>\n",
       "      <th>0</th>\n",
       "      <th>1</th>\n",
       "    </tr>\n",
       "  </thead>\n",
       "  <tbody>\n",
       "    <tr>\n",
       "      <td>salary</td>\n",
       "      <td>99753.0</td>\n",
       "      <td>101174.0</td>\n",
       "    </tr>\n",
       "  </tbody>\n",
       "</table>\n",
       "</div>"
      ],
      "text/plain": [
       "              0         1\n",
       "salary  99753.0  101174.0"
      ]
     },
     "execution_count": 28,
     "metadata": {},
     "output_type": "execute_result"
    }
   ],
   "source": [
    "#Посмотрим на разницу в среднем доходе между группами\n",
    "score_cl.groupby('churn')['salary'].mean().reset_index().T.round().drop('churn', axis = 0)"
   ]
  },
  {
   "cell_type": "markdown",
   "metadata": {},
   "source": [
    "У клиентов из оттока средний доход выше на 2 тыс. руб.\n",
    "Посмотрим, статистически значима ли разница. Для этого сформулируем гипотезы и проведем A/B тест\n",
    "\n",
    "Гипотезы\n",
    "\n",
    "- **H0: Между группами churn и no_churn нет различий в доходе**\n",
    "- **H1: Между группами churn и no_churn есть различие в доходе**"
   ]
  },
  {
   "cell_type": "code",
   "execution_count": 29,
   "metadata": {},
   "outputs": [
    {
     "name": "stdout",
     "output_type": "stream",
     "text": [
      "p-значение: 0.32156101015627586\n",
      "Не получилось отвергнуть нулевую гипотезу\n"
     ]
    }
   ],
   "source": [
    "salary_1 = score_cl.query('churn == 1')['salary']\n",
    "salary_2 = score_cl.query('churn == 0')['salary']\n",
    "results = st.ttest_ind(salary_1, salary_2)\n",
    "\n",
    "print('p-значение:', results.pvalue)\n",
    "\n",
    "if (results.pvalue < alpha):\n",
    "    print(\"Отвергаем нулевую гипотезу\")\n",
    "else:\n",
    "    print(\"Не получилось отвергнуть нулевую гипотезу\") "
   ]
  },
  {
   "cell_type": "markdown",
   "metadata": {},
   "source": [
    "### 6.2 Посчитаем статистическую значимость различий в возрасте между теми, кто ушёл и теми, кто остался\n"
   ]
  },
  {
   "cell_type": "code",
   "execution_count": 30,
   "metadata": {},
   "outputs": [
    {
     "data": {
      "text/html": [
       "<div>\n",
       "<style scoped>\n",
       "    .dataframe tbody tr th:only-of-type {\n",
       "        vertical-align: middle;\n",
       "    }\n",
       "\n",
       "    .dataframe tbody tr th {\n",
       "        vertical-align: top;\n",
       "    }\n",
       "\n",
       "    .dataframe thead th {\n",
       "        text-align: right;\n",
       "    }\n",
       "</style>\n",
       "<table border=\"1\" class=\"dataframe\">\n",
       "  <thead>\n",
       "    <tr style=\"text-align: right;\">\n",
       "      <th></th>\n",
       "      <th>0</th>\n",
       "      <th>1</th>\n",
       "    </tr>\n",
       "  </thead>\n",
       "  <tbody>\n",
       "    <tr>\n",
       "      <td>age</td>\n",
       "      <td>37.0</td>\n",
       "      <td>45.0</td>\n",
       "    </tr>\n",
       "  </tbody>\n",
       "</table>\n",
       "</div>"
      ],
      "text/plain": [
       "        0     1\n",
       "age  37.0  45.0"
      ]
     },
     "execution_count": 30,
     "metadata": {},
     "output_type": "execute_result"
    }
   ],
   "source": [
    "#Посмотрим на разницу в среднем возрасте между группами\n",
    "score_cl.groupby('churn')['age'].mean().reset_index().T.round().drop('churn', axis = 0)"
   ]
  },
  {
   "cell_type": "markdown",
   "metadata": {},
   "source": [
    "У клиентов из оттока средний возраст выше на 8 лет. Посмотрим, статистически значима ли разница. Для этого сформулируем гипотезы и проведем A/B тест\n",
    "\n",
    "Гипотезы\n",
    "\n",
    "- **H0: Между группами churn и no_churn нет различий в возрасте**\n",
    "- **H1: Между группами churn и no_churn есть различие в возрасте**\n"
   ]
  },
  {
   "cell_type": "code",
   "execution_count": 31,
   "metadata": {},
   "outputs": [
    {
     "name": "stdout",
     "output_type": "stream",
     "text": [
      "p-значение: 3.021152967066298e-215\n",
      "Отвергаем нулевую гипотезу\n"
     ]
    }
   ],
   "source": [
    "age_1 = score_cl.query('churn == 1')['age']\n",
    "age_2 = score_cl.query('churn == 0')['age']\n",
    "results = st.ttest_ind(age_1, age_2)\n",
    "\n",
    "print('p-значение:', results.pvalue)\n",
    "\n",
    "if (results.pvalue < alpha):\n",
    "    print(\"Отвергаем нулевую гипотезу\")\n",
    "else:\n",
    "    print(\"Не получилось отвергнуть нулевую гипотезу\") "
   ]
  },
  {
   "cell_type": "markdown",
   "metadata": {},
   "source": [
    "### 6.3 Посчитаем статистическую значимость различий в активности между теми, кто ушёл и теми, кто остался"
   ]
  },
  {
   "cell_type": "code",
   "execution_count": 32,
   "metadata": {},
   "outputs": [
    {
     "data": {
      "text/html": [
       "<div>\n",
       "<style scoped>\n",
       "    .dataframe tbody tr th:only-of-type {\n",
       "        vertical-align: middle;\n",
       "    }\n",
       "\n",
       "    .dataframe tbody tr th {\n",
       "        vertical-align: top;\n",
       "    }\n",
       "\n",
       "    .dataframe thead th {\n",
       "        text-align: right;\n",
       "    }\n",
       "</style>\n",
       "<table border=\"1\" class=\"dataframe\">\n",
       "  <thead>\n",
       "    <tr style=\"text-align: right;\">\n",
       "      <th></th>\n",
       "      <th>0</th>\n",
       "      <th>1</th>\n",
       "    </tr>\n",
       "  </thead>\n",
       "  <tbody>\n",
       "    <tr>\n",
       "      <td>loyalty</td>\n",
       "      <td>0.55</td>\n",
       "      <td>0.36</td>\n",
       "    </tr>\n",
       "  </tbody>\n",
       "</table>\n",
       "</div>"
      ],
      "text/plain": [
       "            0     1\n",
       "loyalty  0.55  0.36"
      ]
     },
     "execution_count": 32,
     "metadata": {},
     "output_type": "execute_result"
    }
   ],
   "source": [
    "#Посмотрим на разницу в средней активности между группами\n",
    "score_cl.groupby('churn')['loyalty'].mean().reset_index().T.round(2).drop('churn', axis = 0)"
   ]
  },
  {
   "cell_type": "markdown",
   "metadata": {},
   "source": [
    "На первый взгляд у клиентов из оттока активность меньше. Посмотрим, статистически значима ли разница. Для этого сформулируем гипотезы и проведем A/B тест\n",
    "\n",
    "Гипотезы\n",
    "\n",
    "- **H0: Между группами churn и no_churn нет различий в активности**\n",
    "- **H1: Между группами churn и no_churn есть различие в активности**\n"
   ]
  },
  {
   "cell_type": "code",
   "execution_count": 33,
   "metadata": {},
   "outputs": [
    {
     "name": "stdout",
     "output_type": "stream",
     "text": [
      "p-значение: 2.555219605414131e-53\n",
      "Отвергаем нулевую гипотезу\n"
     ]
    }
   ],
   "source": [
    "loyalty_1 = score_cl.query('churn == 1')['loyalty']\n",
    "loyalty_2 = score_cl.query('churn == 0')['loyalty']\n",
    "results = st.ttest_ind(loyalty_1, loyalty_2)\n",
    "\n",
    "print('p-значение:', results.pvalue)\n",
    "\n",
    "if (results.pvalue < alpha):\n",
    "    print(\"Отвергаем нулевую гипотезу\")\n",
    "else:\n",
    "    print(\"Не получилось отвергнуть нулевую гипотезу\") "
   ]
  },
  {
   "cell_type": "markdown",
   "metadata": {},
   "source": [
    "### 6.4 Посчитаем статистическую значимость различий территориального признака между теми, кто ушёл и теми, кто остался"
   ]
  },
  {
   "cell_type": "code",
   "execution_count": 34,
   "metadata": {},
   "outputs": [
    {
     "data": {
      "text/html": [
       "<div>\n",
       "<style scoped>\n",
       "    .dataframe tbody tr th:only-of-type {\n",
       "        vertical-align: middle;\n",
       "    }\n",
       "\n",
       "    .dataframe tbody tr th {\n",
       "        vertical-align: top;\n",
       "    }\n",
       "\n",
       "    .dataframe thead th {\n",
       "        text-align: right;\n",
       "    }\n",
       "</style>\n",
       "<table border=\"1\" class=\"dataframe\">\n",
       "  <thead>\n",
       "    <tr style=\"text-align: right;\">\n",
       "      <th></th>\n",
       "      <th>0</th>\n",
       "      <th>1</th>\n",
       "    </tr>\n",
       "  </thead>\n",
       "  <tbody>\n",
       "    <tr>\n",
       "      <td>city_ros</td>\n",
       "      <td>0.21</td>\n",
       "      <td>0.4</td>\n",
       "    </tr>\n",
       "  </tbody>\n",
       "</table>\n",
       "</div>"
      ],
      "text/plain": [
       "             0    1\n",
       "city_ros  0.21  0.4"
      ]
     },
     "execution_count": 34,
     "metadata": {},
     "output_type": "execute_result"
    }
   ],
   "source": [
    "#Посмотрим на разницу в принадлежности к городу между группами\n",
    "score_cl.groupby('churn')['city_ros'].mean().reset_index().T.round(2).drop('churn', axis = 0)"
   ]
  },
  {
   "cell_type": "markdown",
   "metadata": {},
   "source": [
    "На первый взгляд клиентов чаще из Ростова Великого. Посмотрим, статистически значима ли разница. Для этого сформулируем гипотезы и проведем A/B тест\n",
    "Гипотезы\n",
    "\n",
    "- **H0: Между группами churn и no_churn нет различий в территориальном признаке**\n",
    "- **H1: Между группами churn и no_churn есть различие в территориальном признаке**\n"
   ]
  },
  {
   "cell_type": "code",
   "execution_count": 35,
   "metadata": {},
   "outputs": [
    {
     "name": "stdout",
     "output_type": "stream",
     "text": [
      "p-значение: 1.114487638233798e-68\n",
      "Отвергаем нулевую гипотезу\n"
     ]
    }
   ],
   "source": [
    "rostov_1 = score_cl.query('churn == 1')['city_ros']\n",
    "rostov_2 = score_cl.query('churn == 0')['city_ros']\n",
    "results = st.ttest_ind(rostov_1, rostov_2)\n",
    "\n",
    "print('p-значение:', results.pvalue)\n",
    "\n",
    "if (results.pvalue < alpha):\n",
    "    print(\"Отвергаем нулевую гипотезу\")\n",
    "else:\n",
    "    print(\"Не получилось отвергнуть нулевую гипотезу\") "
   ]
  },
  {
   "cell_type": "markdown",
   "metadata": {},
   "source": [
    "### Вывод (Формулировка и проверка статистических гипотез)"
   ]
  },
  {
   "cell_type": "markdown",
   "metadata": {},
   "source": [
    "- Задали alpha с учетом поправки  Бонферрони, так как у нас было 4 теста\n",
    "- Так везде использовали гипотезы о равенстве средних значений двух совокупностей, использовали тест Стьюдента"
   ]
  },
  {
   "cell_type": "markdown",
   "metadata": {},
   "source": [
    "После проверки гипотез можем сделать следующие выводы: \n",
    "- Доход не влияет на отток\n",
    "- Активность пользователей (loyalty) влияет на отток (чем меньше loyalty - вероятнее отток)\n",
    "- Возраст клиента влияет на отток (чем выше возраст - вероятнее отток)\n",
    "- Территориальный признак (Ростов Великий) тоже напрямую влияюет на отток (если клиент из РВ - вероятнее отток)"
   ]
  },
  {
   "cell_type": "markdown",
   "metadata": {},
   "source": [
    "<a id='Шаг 7'></a>\n",
    "# Шаг 7. Сформулируем выводы и сделаем базовые рекомендации по работе с клиентами\n",
    "\n",
    "###  Сформулируем основные выводы и предложим рекомендации для стратегии взаимодействия с клиентами и их удержания."
   ]
  },
  {
   "cell_type": "markdown",
   "metadata": {},
   "source": [
    "## Вывод (Ознакомление с данными)\n",
    "- Проанализировали пропуски\n",
    "- Привели столбцы к нижнему регистру\n",
    "- Проверили на данные дубликаты \n",
    "- `Gender` привели к булевым значениям\n",
    "- Переименовали некоторые столбцы для простоты использования\n",
    "\n",
    "## Вывод (Предобработка данных)\n",
    "\n",
    "- Привели  столбец `gender` к булевым, где 1 - это мужчина\n",
    "- Сделали предположение о происхождении NaN значений в столбце `balance` и приянли решение оставить как есть\n",
    "- С помощью функции get_dummies транспонировали значения столбца `city`, в признаки\n",
    "\n",
    "## Вывод (Исследовательский анализ данных)\n",
    "\n",
    "#### Анализ первичных данных:\n",
    "\n",
    "- Убрали клиентов, возраст которых более 75 лет\n",
    "- Отсавили клиентов со скором более 400\n",
    "\n",
    "\n",
    "#### Более подробный анализ обработанных данных\n",
    "\n",
    "Группировка по призаку \"отток/не отток\"\n",
    "\n",
    "- Среди попавших в отток больше женщин\n",
    "- Средний возраст клиентов попавших в отток выше \n",
    "- Человек активный в последние 30 дней реже попадает в отток\n",
    "- Самая высокая доля оттока - из Ростова Великого, почти половина\n",
    "- По остальным показателям группы идентичны\n",
    "\n",
    "#### Анализ взаимосвязи призаков \n",
    "\n",
    "- На матрице корреляций нашли и удалили межколлинеарные призаки\n",
    "\n",
    "Оставили только влияющие признаки:\n",
    "\n",
    "- Город (Ростов Великий)\n",
    "- Лояльность (активность в последние 30 дней)\n",
    "- Возраст\n",
    "- Пол\n",
    "\n",
    "\n",
    "## Вывод (Модель прогнозирования)\n",
    "\n",
    "- Определили баланс классов 20/80\n",
    "- Разбили данные на обучающую и валидационную выборки, стандартизировали их и обучили модель логистической регрессией и случайным лесом\n",
    "- Установили пороги для каждой модели\n",
    "- Рассчитали ROC AUC (Площадь под кривой для моделей)\n",
    "- Для прогнозирования выбираем модель случайным лесом так как она предсказывает лучше, после учета корректировки на баланс классов ее доля правильных ответов составляет более 71%. При этом по всем остальным показателям случайный лес тоже впереди. \n",
    "- Самая важная для нас метрике RECALL (доля правильно предсказанного оттока) составляет 73%\n",
    "- При помощи установки порогов для моделей, удалось увеличить метрику recall в 2,5 раза\n",
    "\n",
    "\n",
    "## Вывод (Выделение портрета клиентов, склонных уходить из банка)\n",
    "\n",
    "- Кластеризовали клиентов на три группы, с помощью анализа определили критерии кластеризации: \n",
    "    - молодые\n",
    "    - активные\n",
    "    - клиенты из Ростова Великого\n",
    "    \n",
    "- Посмотрели на гистограмы по группам, чтобы убедится в правильности интерпретации кластеризации\n",
    "- Посчитали и распределили кластеры по доли оттока.\n",
    "- Дали рекомендации и объяснения по кластерам\n",
    "\n",
    "#### Портрет клиента, склонного уходить из банка\n",
    "\n",
    "Вероятнее всего это:\n",
    "\n",
    "- Клиент из Ростова\n",
    "- Возраст около 45 лет\n",
    "- Женщина\n",
    "- С невысокой активностью\n",
    "\n",
    "\n",
    "## Вывод (Формулировка и проверка статистических гипотез)\n",
    "\n",
    "- Задали alpha с учетом поправки  Бонферрони, так как у нас было 4 теста\n",
    "- Так везде использовали гипотезы о равенстве средних значений двух совокупностей, использовали тест Стьюдента\n",
    "\n",
    "После проверки гипотез можем сделать следующие выводы: \n",
    "\n",
    "- Доход не влияет на отток\n",
    "- Активность пользователей (loyalty) влияет на отток (чем меньше loyalty - вероятнее отток)\n",
    "- Возраст клиента влияет на отток (чем выше возраст - вероятнее отток)\n",
    "- Территориальный признак (Ростов Великий) тоже напрямую влияюет на отток (если клиент из РВ - отток вероятнее)\n",
    "\n",
    "## Рекомендации\n",
    "\n",
    "- Разобраться с ситуацией в Ростове Великом (там явно что-то не так, люди уходят)\n",
    "- Разработать программы для пожилых людей, возможно какие ликбезы по финансовой грамотности и безопасности\n",
    "- Придумать как решать проблемы с неактивными пользовтелями, возможно, после 20 дней без активных действий:\n",
    "    - пуш-уведомления в период бездействия пользователя\n",
    "    - расширение услуг\n",
    "    - возможное снижение комиссий для старых и выгодных клиентов\n",
    "    - судя по анализу - уходят чаще женщины, возможно стоит предложить эксперимент, в некоторых отделениях сделать приятную \"инстаграм зону\", ну это надо проверять, ходят ли люди вообще в отделения ... (просто размышления) \n",
    "    \n",
    " "
   ]
  },
  {
   "cell_type": "markdown",
   "metadata": {},
   "source": [
    "<a id='Шаг 8'></a>\n",
    "# Шаг 8. Презентация"
   ]
  },
  {
   "cell_type": "markdown",
   "metadata": {},
   "source": [
    "https://drive.google.com/file/d/11Ls_aHHdA6O6rZqR11a8yeZkzmexIR8Y/view?usp=sharing"
   ]
  },
  {
   "cell_type": "markdown",
   "metadata": {},
   "source": [
    "<a id='Шаг 9'></a>\n",
    "# Шаг 9. Dashboard\n"
   ]
  },
  {
   "cell_type": "markdown",
   "metadata": {},
   "source": [
    "- Dashboard_1 https://public.tableau.com/profile/budennyi#!/vizhome/Score2/Dashboard1\n",
    "- Dashboard_2 https://public.tableau.com/profile/budennyi#!/vizhome/Score_16089029041310/Dashboard2"
   ]
  }
 ],
 "metadata": {
  "kernelspec": {
   "display_name": "Python 3",
   "language": "python",
   "name": "python3"
  },
  "language_info": {
   "codemirror_mode": {
    "name": "ipython",
    "version": 3
   },
   "file_extension": ".py",
   "mimetype": "text/x-python",
   "name": "python",
   "nbconvert_exporter": "python",
   "pygments_lexer": "ipython3",
   "version": "3.7.6"
  }
 },
 "nbformat": 4,
 "nbformat_minor": 2
}
